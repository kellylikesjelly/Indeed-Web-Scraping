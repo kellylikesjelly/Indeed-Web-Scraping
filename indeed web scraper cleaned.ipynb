{
 "cells": [
  {
   "cell_type": "code",
   "execution_count": 29,
   "metadata": {},
   "outputs": [],
   "source": [
    "import requests\n",
    "import bs4\n",
    "from bs4 import BeautifulSoup\n",
    "import pandas as pd\n",
    "import time\n",
    "import re"
   ]
  },
  {
   "cell_type": "markdown",
   "metadata": {},
   "source": [
    "1. Retrieve job posting links\n",
    "\n",
    "These links are stored in a list. They will then be used by request to get each job posting's information."
   ]
  },
  {
   "cell_type": "code",
   "execution_count": 352,
   "metadata": {},
   "outputs": [],
   "source": [
    "#given the job type e.g. data analyst, retrieve the result pages\n",
    "\n",
    "def get_result_pages(job_type):\n",
    "    job='+'.join(job_type.split(' '))\n",
    "    links=[]\n",
    "    for page_no in range(10): #by default, only 10 result pages are accessed\n",
    "        URL = 'https://sg.indeed.com/jobs?q='+job+'&l=Singapore&jt=internship&start='+str(page_no*10)\n",
    "        #conducting a request of the stated URL above:\n",
    "        page = requests.get(URL)\n",
    "        #specifying a desired format of “page” using the html parser - this allows python to read the various components of the page, rather than treating it as one long string.\n",
    "        soup = BeautifulSoup(page.text, 'html.parser')\n",
    "        links.extend(extract_link_from_result_page(soup))\n",
    "    return links"
   ]
  },
  {
   "cell_type": "code",
   "execution_count": 78,
   "metadata": {
    "scrolled": true
   },
   "outputs": [
    {
     "data": {
      "text/plain": [
       "['https://indeed.com/pagead/clk?mo=r&ad=-6NYlbfkN0As_4rxRHupPYvzzfn0nGzD2Xhz6UmZ5K8U37POs52SRxlxW_zdF17F--96N-D4vvog47QJFbCQPpELLcPYaqxZ3dC4HCAG2jormKoCZ28aznEmRyybxmeZ9nQFg3gvO7nv4w6_9tHmdVXdbcA0IS-KbHexp5TiyS99FJsWQSHt90tPRBxcbwxEZVUJeb7YDDdnlLWJnj1pjqvEcd1ceiOBZDoaXk7zK3zLvZsrP5bpSwiRJPz9DI-bu5T_qWmD4gesZr_4N-ttX4CbTgBQTd3Q-dc1T6Dj2G30yVX0nKzmVsa8hFNLcQKRwZJuQEsIhtgFXgjRAvZjAS8ht4_6D7wR7uYsv_b2oIHe7t5VNaSVbgceuxY06HcRo-O7RlB0MfbkBnWCNEQDituy_792QZnAiTdSeTnzQ8ZqJmReEVCkTK-ypbqS1T4YMOFRGY7NjYkoN7RMTJc6ESx9Xz0G0y5AnuitPXOtBSmvUOF691i-OHSVcdKJQlB3rlFIlOlzm6M=&p=0&fvj=1&vjs=3',\n",
       " 'https://indeed.com/pagead/clk?mo=r&ad=-6NYlbfkN0A1xek5knTnC5i_gSNNUQ677KkFw824YX3Xvyf6DkeM2R9g6Hf2XGYktF7f42jzdS9vkb9DeHced15MsZd_fWIgVeH4nwnMjmmxCElAeSmF6Hm3YE9CS4WPUrWsupLeejqdFJL7xHb1D7_38L30FX1RdxBXQy0P5wmcOmcwg1hgIhZlLQxzg_XJG3eyKQDbEThNioqPv6HmqiHvrve5GNYu8Q9jLagSpEaVDIdrIrkCbeFeEV6CTBbN6GcP6xziqnrG4VH282R5Bg1E05Fofyw8kh4ZxxAQIeC1RYnIb2Fb1_rT551ak7bw0zNP_y4CcD7qckc95qUbOlwNzo_WwtfooTTwR7hhUhHmO0x8A1wHptVv8A8INqwF3gxp77jM-rJLGZdtjIh_3x1TEWNVQC0IP2bSBsUU8cx7L6oZnIrPXYjduNfmljjqpPXriHrcextNB1r92VC9P3ItvKU8inII&p=1&fvj=1&vjs=3',\n",
       " 'https://indeed.com/pagead/clk?mo=r&ad=-6NYlbfkN0AuWpd06JaTHFjvTB_5q6-0gBNCyrzTNez_CNw5GfFr-YeB3E5TQjGgRpROSxApPasvEyGu6xYO_ftPyF0TWECLoqhDrWw6Y8rnJJVI-sX9UUCCGDwn0UiyGna6dBVLz_r39rNXh_jEA-MDo65W6VGyMCAnUJeuJg-47gkZ-m0IiXHZAqLKDXloZkkpFWhVeSd6o4-iSm7a0L52MqPcRk6hDjNCIPZ0ui_MAupwZynIU7ZkJkiKzFhgIyp7OqopGWBDeZWDDkrz71n8PnvvRbk1RayAcct7Kck7zHG2pnOOP8LmcrWzTIqLpiiPJBWEvYCZ5SFk8oJ1VTZtFXsVmnBTRuPoD_ZGAK6JcPaxPI5j9ERSz4Y25dh09dRObDGCE4Y_7szVmWBlh18kNUeOkRZhMq_pSAFe1NzBIvyQKGISClDpaxhNUgQwBPDd7KQq8tQBvOECu1KWpaYJbRYF5Miw_ijaZFz9pvwwQa0OOD72Uh7Dryma-ZrJ8bWbYhASH_MoysvtDFmX-e8C1I8iQvxq-7iQbdsj6TCAG6om5Ovf6Eg8UPD4koEm6TMcoAPt-2zk3vfAE4snlrnn5QdAEKzsGGjxLpxzwB5YFTlTJNBKeX1GAZ_MOT8D_SAX9r1CV0EUHQ0xoa8jep1dod4_-r4_TCliXZj3ucn2xvuBtenVNF4ibhDsdAgzjSK0-i4aKljldxrMQml5c8PtZ-Vzz__LyajH9agmRWmy1p7pEJogX9Dc075em2kM192LqyNvzibkDXfOTmnAZxIHTSkosjyEBEyHdp57Vdn8Ur0Y1yWbQnN-s6KsZjh20qsET_zncvUvcNjrVoc-yg==&p=2&fvj=0&vjs=3',\n",
       " 'https://indeed.com/rc/clk?jk=fbd28ada9f957199&fccid=dd09fe3b43125016&vjs=3',\n",
       " 'https://indeed.com/company/Luxe-Singapore-Holdings/jobs/Data-Analyst-Executive-b328197d5eda87ac?fccid=94c29e687d249161&vjs=3',\n",
       " 'https://indeed.com/rc/clk?jk=b4396096cf4dca13&fccid=1639254ea84748b5&vjs=3',\n",
       " 'https://indeed.com/pagead/clk?mo=r&ad=-6NYlbfkN0AuWpd06JaTHFjvTB_5q6-0gBNCyrzTNez_CNw5GfFr-cT3dCZgxlbPxW1N_UnT6KKGb1sPCU2E8NRrPzdfOlO01y--zNA9BjjDgf1PS-7d2KDL6907y0tL8rxKUAOFFUi3Teb0-XiR0ZAmZgfv5pQ3147-POotVvlif1w_l91WdrOvsjp1gH950r48J4a7Bw16C5OpRfl0dPqeS3W4RYHPNLk1OLLL-B5J87x2P5WfdJzXuu9SSx0q49JDq__SfNSLkdz45wHMGDdwVWPC8hBojSpXzW0s8sNuCD0ZjOASBUWjviJ1mm3QfSuuRIIeSzj3vojHf-oJh1LNYpaRqY5vXp5CkK0r4inJYCuGuWdjwNYRGausnHyhxKn93GlJ2npIUjhvESl2oLMnvXYxrElKrvzInPtv20iSaBYrpnmbeiZWjYJeWnwm7kb6INjxXYAHTkpiGtHRzTa8aloR1joNE39XqleP5rKhLaoyteovRIvjT9KN4JtrmWb-GNQ_LpXb6pPxpRk8fE9hb1KdX3hHfaeV_37ueOncRX8CfFumGaxtCDmgFeYmrc3RQz0PEsYav6d-bCnZwYmxJa7eqSp9GfXs4jHMY8sHZBH1_i6Bswx56VLJWErMAb2a4zOYwmHGeLKlnoASrMaTQA3yk4P9lS2VrDTdw0YGuhA1OeYU68o8xbcecx3D4T2MSGFK_zUXjvs6hCdZ4ajNR-hzwLzo49gncAA68AiQQsxJnHP5Ddb-eTJ1qIq4KIuWhbWwpwJ6JKqnXWaPvQ==&p=6&fvj=0&vjs=3',\n",
       " 'https://indeed.com/pagead/clk?mo=r&ad=-6NYlbfkN0AuWpd06JaTHFjvTB_5q6-0gBNCyrzTNez_CNw5GfFr-YeB3E5TQjGgRpROSxApPatRrtW3Lc3ciOjiWxgp9JBIQ94QEU-190rVjmbRMoHbUPDjyYOENeRysqfcf8am7T9OdBm_mAxwNC-QkPqgQzw3MhY3J-_JcfiIO5OmLcnWJhH8cFXtnf8gT4uHm3un1Nlhwank7fBiCnfHrwL8bVSPmigfsI9Yptx1V5U6EEh0MdopyjDdvDs_jdpZ7MfdhGYfd7ZHTczQr78_u5P3layslc2LfFZ8DuRvy5vnpCj_t7ZXoyHq2xXSWZaN5X3oDX7cl5tcZ0LN5_xFF1OXkjv41U9YKj54_9RT17w2o5K8Gav2JT9rRVINrWPe7FvgMedaUlKJ4upqa5gj1toJaBnxjIIz8OCjNpKujCYJ6KOVgC4uN1FoHUGhLPjrxMUWwUcZWhoLXM8CCDmKg1xYduHH731ulKHi4eXMWdcnpoH-LdrkznrQ9QrIR2zQU14F9LW9k19fHfMGST7JulCvs0PLZvRcQhoDQJtXkppCI0vhPPnXG5DUhlp_VPvQCsMld4-JPqZaQQrNooYycdcNi8BQhlQhNPtLXvHa-lSp_ux1LWU-dWpkEC01oqLZuX9pnpIMNzSpXno9zGqIY9K-RWZERqRMp3Khjd4dSL0q6aAO3Z4iIfU6dcqDgpjojy7K5WYfEYgMhXqyzKWV_TIQt7jzeyRJk1v3PzUmZY2ZzNfJhNWGFMvQq_Ag6HSrTW8GhJbG4j3uGJvSKBYQ-CQLgsXfWw3014BvEGuGsjT4-RlXRILlU4_HBzQCe2KyvaDDJM8=&p=7&fvj=0&vjs=3',\n",
       " 'https://indeed.com/rc/clk?jk=3d945e3ca6fb0395&fccid=1c6963f4c20c0bae&vjs=3',\n",
       " 'https://indeed.com/pagead/clk?mo=r&ad=-6NYlbfkN0AuWpd06JaTHFjvTB_5q6-0gBNCyrzTNez_CNw5GfFr-YeB3E5TQjGgRpROSxApPasvEyGu6xYO_Qn41QEZfuOFkRtOKn6jnUNCO6IK__gZnE5hcyt5Ann41Ccaj9IgqmzHMlCyAf9ZEeAVJVaSSeqqF4OKid4qhOaV-Gcf6_oDK7Y8xjUQ16WURT0Pqt2MIdZ-g_OH3ox2a_ep40d-OSgHsqNkMmtKlJeWs52AC8GIpasTsieuZW6-XHPjGFnO7f6ng1fcgrlPhlC4HwzF4Qs_J0pUN4mC7p2l4zs3FNFEKL28YYWNimx9uNY0EKkEmGOcz7FlU7UuR1oKWKZnOLjzpOQeEum4lZAlDJgV8fRIYGebhTH36al16zL9Jh99nWqAeGFGwLHJpBzzW5pXoxg6jceYj-ou3OUpISJyHHJDUITiW_ly89Xq5jb4mEpqxcvnFHl3_qu9ZwV6PyOhyzUr7wfrbpqEWPT8xgoWFWaAvZ5W1hwkKWWoJfiUJBDEdtaYRbAdGEN2nfF0uSj31WQeD2XDjaGWZdm8zxYgTcG_fnKFBCHOVtueChfTHGiGd4JLHPh7dbfzB8fHj4MN5oby4q8d37KxDHFIIq8BvwAenJZsSn0p2vh6mGvQu3pxM2TrZHTvHqpKwT9rLPRAG2skdJE9kfMWt9q8bTRoq4eXFu8JkVzj3Ssrcjm7lY69EKbw2JJTdsQOnuhzWESX-bGcnI7RPY8_rvsIffKJ5GNxusKgEaYwsngnCmNXEGRMe_OWgGsry8MWm23s_0nPqnYMvxhBfq1Sc9YUdXhqTRekrDtZr4XU55MD4HBgGve6rwHWstBYkOAl0g==&p=9&fvj=0&vjs=3',\n",
       " 'https://indeed.com/pagead/clk?mo=r&ad=-6NYlbfkN0AuWpd06JaTHFjvTB_5q6-0gBNCyrzTNez_CNw5GfFr-cT3dCZgxlbP3s4oGsLvB6UpNEU9EapUUt5cu-javqdWGCfUSbGCpvJcyXFEdxY_AfkIgJiAicsQ5ttFeZQvIYNYN92nc8QYaBKwG66Pd4SmncUyh0Hrc0IGmieA7pcq-gCf08fNXiAVf4A6dQ0VmcDBtLpmMPHcgvANuq18E3r-qFNHutgG71kXoMtY6xpePuxZw5eqfRF6A2AfbYW8yip0bEwl7oIbLVFScJRES9U9g0HRkL9ihogdPs3OjRXWY97iD3USGrT-Wt7pi43oJTN44lhnO0JT2s6bVySrAiJK8WSFACn0Y6ACj4yi1jEkwva_7hMhiCWYzYN-vpOr32_DTePyE63l1-OnsgMhDfB57RjsxJKzuKn_PZ44adEoHNWx2WKr_lE-ZcbTQWknujwFb7dPQRi9ijJV9juZ-UjheHtJTzLCB8_DuNKy07aLxxnvgk5Tch6uQbqABUcW8A1W0Bs4j3JRx-YO7LZFdlczOcaFHvg_FwI6Z1bnDzrpkG0td6zkVZSMVFcv9Nd300QzxvF1HPSNxTs0vQODmn2nYxrf3vOJddl5vv1kNbkT79SOM0xNBENaW9kA2rUFJWLJoQilOL5dhpZ90C6ZiVh4G3V7C-IacKDjJL1Pp1hXWkT4Ee8xk_g8OFwx1ux7vb_CNyn75KV2SDOLI3MR89kkLD3SOcakwQSubY2ftP2yYmGD2_395iwYiZtQofcfgEDzmibkJAWw190D-lafp0zquDeJL9Vp5jWS_8IMDDK8MediwtjA7X9C&p=10&fvj=0&vjs=3',\n",
       " 'https://indeed.com/pagead/clk?mo=r&ad=-6NYlbfkN0AuWpd06JaTHFjvTB_5q6-0gBNCyrzTNez_CNw5GfFr-cT3dCZgxlbPDzYoQhbCbDWuyM-ABbOK4jMgftYuNZNY6eYlzX2ndpXO5LkyvseShrRTwQaWiWb01BY1IX32j8SDso8Ind4lvx3oubt9TsxqK8DzdiFT1mN3wQd-vlHHDzwj9IvuTL5RyPDYPMRqyWho3FD9qt7xT5TdUwGrhsekC0_aSB26BxcYBgoWwEYpdELj4x1pDsLMO2DsSkXxjxyhJT-7gFLBIRrpcnxHlnJacuOPf8FpF5UPjYownT6Wqoq48CfKCLqM4NABoYyHCOD2LFYG0XBiYr1yME78kkgkNPMlUS7Ttd7Kc2Uhd6ubcAvYjxqd6b8r1WuHRrw0kHAytSxzpTGWBULbwwCvNg7I99poQb84nzyKQN-4CPTsapqrmH8RAx7fKS6EpZ66YN4VLOTGn5vbiKRBwLNmXHVvIzLK6IM02IUAhAkINNvne_dysds2z-etNnsH74LI9ZJm7irwoZwr6cz01WTvksHK_LaS1GT0PB814Y-lnlHYmq_Dfq0x65u8oXRxxizeXcgxHc0ai27T2-MIy6sIlmZaYa3QxQ91ZIlDNzUqWE2ELXeA27w-HUANWhp0lSckD9MWWtPbLvyq_rhaCo9499pQJr0QR5TRiPBNPbMc-yZjWZiN_ZLRWOb97_S1EfVS_8TZJtuqwMNlKeXHcvRLe--IK2pfnEn4aPwkG6fHxp4ZxrWljxNk1tPRMY8ne0Z-jyH6QGkvX8IQIw==&p=11&fvj=0&vjs=3',\n",
       " 'https://indeed.com/rc/clk?jk=ddf7525d42627337&fccid=c55464a5227a8f55&vjs=3',\n",
       " 'https://indeed.com/pagead/clk?mo=r&ad=-6NYlbfkN0AuWpd06JaTHFjvTB_5q6-0gBNCyrzTNez_CNw5GfFr-YeB3E5TQjGgRpROSxApPasc-IaYX52RVdL9y81NyMqCyEdOqJhRKht1q1amNNGnQED5B3hHw_s18gvVkFlYyjHPMDaNvCuBor2Ol-PN_KKKhiy-xx3Vyhn4K66bYDfAuEub6bS371jI7zXXXQAS4uAlZmftwwvS1M21BARYZWDI49W9wQs3Gnwqa4gXjfkLg3X1ljnRHlTHtPztzMYqA3hHi6ZEuH2xKjV9F2VjzvvuW-hGJEOvgEeUXSoNr9YNq7oNREB9G0YbEv99xFy9kk5Iv2Woo6qa6zBzjHMi7sVUPmcDc3Py3xIvPF51Pcyg-OHVTSflM5-mCnhniGOmJw3r6FfY0LFU7JTDxP7aproXC2WOwvaF7TaWykVkd_v3QMiLcrJyiBlxlb7hKkO5hgBcxBWyurSpconPhFsiyj_jBKHrwoigOShNVFDVXqE7_AyY420tqEbvUSQsZYKfr-L2X18oJblpagRnSieSBQfbo3EftPRl-jbz2UfkHkNwEbgttRYB91WR2yWmDt1aNxB-eEY3wTshmDCvePkIXZYXhfH1P9l1dBgd7AYa-6np7qEELyE0oLY-prdOBecxof-Xt6ar_4BlhjuiwMEK-BRKGQyWV_Iw2nuEkTKs4lBzRMnPntfjvHltyInQXHB38PglmrRpVaDACqb_bf73r4ybUvIl3mc6TliJ7znd9HF5KTu02AvEkAszQd8sONCnT5nBxICoQtZ3cy1P88E6JnpXDKUhc5rfQ3i7cpGbpLziINmsx9xAWB1jUas1-M1zMus=&p=13&fvj=0&vjs=3',\n",
       " 'https://indeed.com/pagead/clk?mo=r&ad=-6NYlbfkN0AuWpd06JaTHFjvTB_5q6-0gBNCyrzTNez_CNw5GfFr-cT3dCZgxlbPQRGEcFchKcZzAYo7kjKUivYWOlNVWwHTy5pTtqsodZTH8V-Y-2zLqunCl4iEqapY8zUe-_5HT7ozqXoPBhXs7K11QJ8709NWU6m7S8fJCsk9R8q2kzLNPT6tqrMOgUvvRbUHCej7Mzf6-rGEbO0CR1yMy8RvZ9a31IFzVwqsVSkGL0fqU7qq8m39Xa2xYQ_DoWdtcPGOW2gWdczNPS2rJRj7bJgXwhzLbV4lJHYqgygAsq_GpGIgAoG04L76k3ipsJZBG8MJ-XBxaeJDRUE9uZGnOdcDHqpVwz487zFlwNRjHRg6iTjxhzK_3gdT2FDl__e7KNmghl0eyqACYWk8g8kSwkCUc-aQZ6bJTRtDRsec6WmsyWrtIs7_mqZzaLaw-EHOU4gpn7w00JZ6Q9J2ZR4dUQ0f6heHgNpXjm2lxAJOGFNLUTZOWzlbeXXmYbF_YO-m4-psl32ClOORZ1btrCDf9G_-a5xJa5J7QsJZkJX_PAgpcJQ49TvGJOfQq3cyH5GR4ptscBzQj8AUSSBMzrQrpuVoen4e-_zSgMG0CMB27WCUvVPyUgznOqToqo8ri46fzmSAZARRpMYSZzFHUpRQBpfA978PvFx9YzETPnwk4V6GcA87mIqAD3m3YnUiJ6TFmFJZsbeiZ1z6wm04jgEYcDe0uiaCcdmcnIbeuIHn_TDkvGr6h-MBUj3rOE_ZeB1HvDkwlpjCfgnppaNsf1lfoeobQGpW&p=14&fvj=0&vjs=3']"
      ]
     },
     "execution_count": 78,
     "metadata": {},
     "output_type": "execute_result"
    }
   ],
   "source": [
    "# from each result page which contains multiple job postings, the links for each job posting is collected\n",
    "\n",
    "def extract_link_from_result_page(soup): \n",
    "    links = []\n",
    "    for div in soup.find_all(name='div', attrs={'class':'jobsearch-SerpJobCard'}):\n",
    "        title=div.find(name='h2', attrs={'class':'title'})\n",
    "        link=title.find(name='a')['href']\n",
    "        links.append('https://indeed.com'+link)\n",
    "    return(links)\n",
    "\n",
    "#test run the function\n",
    "extract_link_from_result_page(soup)"
   ]
  },
  {
   "cell_type": "markdown",
   "metadata": {},
   "source": [
    "2. Collect information from each job posting's page"
   ]
  },
  {
   "cell_type": "code",
   "execution_count": 304,
   "metadata": {},
   "outputs": [],
   "source": [
    "#main function called once for each job posting page to collect all the info on that page and insert it into the lists\n",
    "\n",
    "def get_each_page_info(links, job_type):\n",
    "    job_title_list=[]\n",
    "    company_list=[]\n",
    "    requirements_list=[]\n",
    "    responsibilities_list=[]\n",
    "    for link in links:\n",
    "        time.sleep(1)\n",
    "#         print(link) for debugging purposes\n",
    "        page = requests.get(link)\n",
    "        soup = BeautifulSoup(page.text, 'html.parser')\n",
    "        company=str(company_from_page(soup))\n",
    "        company_list.append((job_type,company))\n",
    "        job_title=str(job_title_from_page(soup))\n",
    "        job_title_list.append((job_type, job_title,company))\n",
    "        responsibilities_list.extend(responsibility_from_page(soup,job_type,job_title))\n",
    "        requirements_list.extend(requirements_from_page(soup,job_type,job_title))\n",
    "    return (job_title_list,company_list,requirements_list,responsibilities_list)"
   ]
  },
  {
   "cell_type": "code",
   "execution_count": 138,
   "metadata": {},
   "outputs": [],
   "source": [
    "def job_title_from_page(soup):\n",
    "    title_container=soup.find(name='div',attrs={'class':'jobsearch-JobInfoHeader-title-container'})\n",
    "    title=title_container.find(name='h1').string\n",
    "    return title"
   ]
  },
  {
   "cell_type": "code",
   "execution_count": 139,
   "metadata": {},
   "outputs": [],
   "source": [
    "def company_from_page(soup):\n",
    "    company=soup.find(name='div',attrs={'class':'jobsearch-InlineCompanyRating'}).contents[0].string\n",
    "    return company"
   ]
  },
  {
   "cell_type": "code",
   "execution_count": 301,
   "metadata": {},
   "outputs": [],
   "source": [
    "def responsibility_from_page(soup,job_type,job_title):\n",
    "    responsibilities=[]\n",
    "    return_list=[]\n",
    "    responsibility=soup.findAll(['p','h4','h3'],string=re.compile('Responsibilities',re.IGNORECASE))\n",
    "#     print(responsibility)\n",
    "    if len(responsibility)==0:#some pages dont have responsibilities section, or name the section weirdly\n",
    "        return []\n",
    "    for responsibility_possibility in responsibility:\n",
    "        #searching for a list that is the sibling of the section header\n",
    "        if not (responsibility_possibility.find_next_sibling()==None or responsibility_possibility.find_next_sibling().name!='ul'):\n",
    "            tag=responsibility_possibility.find_next_sibling()\n",
    "            tags=[tag]\n",
    "            while (True): #getting all the list items\n",
    "                tag=tag.find_next_sibling()\n",
    "#                 print(tag)\n",
    "                if (tag==None or (tag.name!='ul' and tag.name!='li')):\n",
    "                    break\n",
    "                tags.append(tag)\n",
    "            if len(tags)==1:\n",
    "                tags=tags[0].findAll('li')\n",
    "            for tag in tags: #removing extra lingering tags like br\n",
    "                if tag.find('br')!=None:\n",
    "                    tag.br.extract()\n",
    "                if tag.name=='ul':\n",
    "                    list_item=tag.find(name='li')\n",
    "                else:\n",
    "                    list_item=tag\n",
    "                list_item=list_item.contents[0]\n",
    "                return_list.append((job_type,str(list_item.string.strip('\\n')),job_title))\n",
    "            return return_list\n",
    "    return []"
   ]
  },
  {
   "cell_type": "code",
   "execution_count": 302,
   "metadata": {},
   "outputs": [],
   "source": [
    "def requirements_from_page(soup,job_type,job_title):\n",
    "    requirements=[]\n",
    "    requirement=soup.findAll(['p','h4','h3'], string=re.compile('Requirement|Qualification|Profile|Competencies',re.IGNORECASE))\n",
    "    if len(requirement)==0:#some pages dont have requirements section, or name the section weirdly\n",
    "        return []\n",
    "#     print(requirement)\n",
    "    for requirement_possibility in requirement:\n",
    "        #searching for a list that is the sibling of the section header\n",
    "        if not (requirement_possibility.find_next_sibling()==None or requirement_possibility.find_next_sibling().name!='ul'):\n",
    "            tag=requirement_possibility.find_next_sibling()\n",
    "            tags=[tag]\n",
    "            while (True): #getting all the list items\n",
    "                tag=tag.find_next_sibling()\n",
    "                if (tag==None or (tag.name!='ul' and tag.name!='li')):\n",
    "                    break\n",
    "                tags.append(tag)\n",
    "            if len(tags)==1:\n",
    "                tags=tags[0].findAll('li')\n",
    "            for tag in tags: #removing extra lingering tags like br\n",
    "                if tag.find('br')!=None:\n",
    "                    tag.br.extract()\n",
    "                if tag.name=='ul':\n",
    "                    list_item=tag.find(name='li')\n",
    "                else:\n",
    "                    list_item=tag\n",
    "                list_item=list_item.contents[0]\n",
    "                requirements.append((job_type,str(list_item.string.strip('\\n')),job_title))\n",
    "            return requirements\n",
    "    return []"
   ]
  },
  {
   "cell_type": "markdown",
   "metadata": {},
   "source": [
    "Testing out the functions above!"
   ]
  },
  {
   "cell_type": "code",
   "execution_count": 251,
   "metadata": {
    "scrolled": true
   },
   "outputs": [
    {
     "name": "stdout",
     "output_type": "stream",
     "text": [
      "https://indeed.com/pagead/clk?mo=r&ad=-6NYlbfkN0AuWpd06JaTHFjvTB_5q6-0gBNCyrzTNez_CNw5GfFr-YeB3E5TQjGgRpROSxApPatO_JBaRnmHwWQqwCMS5aG1Q6T-KWtyWFcxq6igeJLizrHloFP05UqaR0za9t4_15Rw470ECbgSL2RMH7-BH6KwU1OIJudVwi2v6AZpML2V4MAd4DreNy-ATXJ5YcQp0ESzJKsJuWjY9almbK1oy6RYj6oH0CZmVIDBIy2LTuipfYfaFua0AuDxl7G0YEMEF-yFVfm0loJrztH_T2tRr_J65xwVM8Q74jHsXutz8dVl7RStQ21aEmMVKuhUPYrIqMN4j4_o9dIJFQIRFpESWLC4pAV2W6c6AUDzF9Q0pb2Hrahe0v8KarKP5XLih5lETqqdxHetTYjYo1AErUwTf6al62A0wl-uduoGVjSTzAqLFOqmArezfT1qHVMcd3nj7Q6ecwGCSQyq9p9jX4rHlWg4lFon8lLJZ-SlHGQZcUqPOKsmApPH37WwW2QdSOh0N3nfJ0u1NcafoIK_i40vNxDap7u4bC5iFxbcz1RqafGg7KHtWHdI8LRPyO6MjHmUES8vvXyABjxixOu7Dw5mQGis00OGLZYrD-cko53wNSrcOfdVnD5MQvP5ZdZpfDjxwBv8gqg-AcOgFuu5XyUaeDjM1wHcgH8vGeKuBTDdxW1uysqZlbIgqSICTo_kT67IMnknSX5mPW9cJV3Bi1Gg18xLA4GnkyupDr-OibXeLpEvAd2lG6C-CrYXqOhjbM8fsExCnMUKmvbMwylpXP-UWhrFaE4qg-pakcZFIA8c4Gdh41UpKuNSqk9eHLW6ps59x5DhGDBLNgxIzg==&p=6&fvj=0&vjs=3\n",
      "[]\n",
      "[<p>Competencies to Learn\n",
      "</p>]\n",
      "[]\n",
      "['Basic business intellience data domain knowledge', 'Building strategic alliance internally and externally', 'Cross-border collaboration', 'Interpersonal awareness', 'Precise Questions and Answers (PQ&A)', 'Business Acumen']\n"
     ]
    }
   ],
   "source": [
    "get_each_page_info(['https://indeed.com/pagead/clk?mo=r&ad=-6NYlbfkN0AuWpd06JaTHFjvTB_5q6-0gBNCyrzTNez_CNw5GfFr-YeB3E5TQjGgRpROSxApPatO_JBaRnmHwWQqwCMS5aG1Q6T-KWtyWFcxq6igeJLizrHloFP05UqaR0za9t4_15Rw470ECbgSL2RMH7-BH6KwU1OIJudVwi2v6AZpML2V4MAd4DreNy-ATXJ5YcQp0ESzJKsJuWjY9almbK1oy6RYj6oH0CZmVIDBIy2LTuipfYfaFua0AuDxl7G0YEMEF-yFVfm0loJrztH_T2tRr_J65xwVM8Q74jHsXutz8dVl7RStQ21aEmMVKuhUPYrIqMN4j4_o9dIJFQIRFpESWLC4pAV2W6c6AUDzF9Q0pb2Hrahe0v8KarKP5XLih5lETqqdxHetTYjYo1AErUwTf6al62A0wl-uduoGVjSTzAqLFOqmArezfT1qHVMcd3nj7Q6ecwGCSQyq9p9jX4rHlWg4lFon8lLJZ-SlHGQZcUqPOKsmApPH37WwW2QdSOh0N3nfJ0u1NcafoIK_i40vNxDap7u4bC5iFxbcz1RqafGg7KHtWHdI8LRPyO6MjHmUES8vvXyABjxixOu7Dw5mQGis00OGLZYrD-cko53wNSrcOfdVnD5MQvP5ZdZpfDjxwBv8gqg-AcOgFuu5XyUaeDjM1wHcgH8vGeKuBTDdxW1uysqZlbIgqSICTo_kT67IMnknSX5mPW9cJV3Bi1Gg18xLA4GnkyupDr-OibXeLpEvAd2lG6C-CrYXqOhjbM8fsExCnMUKmvbMwylpXP-UWhrFaE4qg-pakcZFIA8c4Gdh41UpKuNSqk9eHLW6ps59x5DhGDBLNgxIzg==&p=6&fvj=0&vjs=3'])"
   ]
  },
  {
   "cell_type": "code",
   "execution_count": 311,
   "metadata": {
    "scrolled": true
   },
   "outputs": [
    {
     "name": "stdout",
     "output_type": "stream",
     "text": [
      "https://www.indeed.com/viewjob?jk=c595cb66ea1125bf&tk=1eprith8qo2ad800&from=serp&vjs=3&advn=1862197902428497&adid=358790837&ad=-6NYlbfkN0AuWpd06JaTHFjvTB_5q6-0gBNCyrzTNez_CNw5GfFr-YeB3E5TQjGgRpROSxApPavaEP2WdfqhRBGlu9c89vYOUeEam1c7jbyYU50bNr3iwrXZUhzhbM7-9PcAL-yzNz3Ow7FbSJxuecSNUKY-soIrq-uCPLuWn8vLwd6Oafc1bVuVeqHBGe8O2teLxKTJdM6MDiLZOuFlqVL-dKVqRAhTFsbBHopMDNdjoa6-iQ_4Vd1Xs4ny5rO1gPXsXz-lnCvJVUEFLklZ2xW0rth_jXDrs7GUSMmY0nOTBNNgX7bdbQ==&sjdu=dtXADpuwviNwHAcP_0C2om8en-HeGVEjgyadgTLktdf5q-Trwsi24vbmog2X0W9QbCVqQk58-CWVx79WvrC_crWQMli0n8aMlMtInuWK23Ouak5bzzQwlCUmIz1QbGQNm0kK_EY-H1DBLlctdPNOmHJTvwWWP4cEpC5nowOdLmpRmvV4_vPQONOpvzPrVfUgNIZWq89Q0_61E1tWXkAJE0TPxzjQLyLrDfPX9M5aU9G7TsW5KcASe9zcQ5iqK4kLzee5nnxHYmu1qo4vYvYxJTpNzA5p455SAFVvhpNmi6MLXsl4O4RGsgFUeN2olKIN\n"
     ]
    },
    {
     "data": {
      "text/plain": [
       "([('data analyst',\n",
       "   '#SGUnitedTraineeship Analyst - Data Analyst',\n",
       "   'STANDARD CHARTERED BANK (SINGAPORE) LIMITED')],\n",
       " [('data analyst', 'STANDARD CHARTERED BANK (SINGAPORE) LIMITED')],\n",
       " [('data analyst',\n",
       "   'Data visualization and representation',\n",
       "   '#SGUnitedTraineeship Analyst - Data Analyst'),\n",
       "  ('data analyst',\n",
       "   'Knowledge of wealth management',\n",
       "   '#SGUnitedTraineeship Analyst - Data Analyst'),\n",
       "  ('data analyst',\n",
       "   'Introduction to tableau',\n",
       "   '#SGUnitedTraineeship Analyst - Data Analyst'),\n",
       "  ('data analyst',\n",
       "   'Application of data software skills',\n",
       "   '#SGUnitedTraineeship Analyst - Data Analyst')],\n",
       " [('data analyst',\n",
       "   'Engagement and management of stakeholders including business, front office, middle/back office, technology, legal and compliance, country and regional management teams.',\n",
       "   '#SGUnitedTraineeship Analyst - Data Analyst'),\n",
       "  ('data analyst',\n",
       "   'Create strong blending data capabilities within team so that we can come up with useful client information from data very quickly',\n",
       "   '#SGUnitedTraineeship Analyst - Data Analyst'),\n",
       "  ('data analyst',\n",
       "   \"Engage with business stakeholders' cross countries and gather requirement and liaise with ETL team to get the required data preparation.\",\n",
       "   '#SGUnitedTraineeship Analyst - Data Analyst'),\n",
       "  ('data analyst',\n",
       "   'Promote analytics driven decision making processes across multiple segments/product portfolios',\n",
       "   '#SGUnitedTraineeship Analyst - Data Analyst'),\n",
       "  ('data analyst',\n",
       "   'Engage and execute the dashboards on Tableau or similar visualization tools',\n",
       "   '#SGUnitedTraineeship Analyst - Data Analyst'),\n",
       "  ('data analyst',\n",
       "   'Prepare and/or contribute to regular updates for various committees and governance forums',\n",
       "   '#SGUnitedTraineeship Analyst - Data Analyst'),\n",
       "  ('data analyst',\n",
       "   'Provide insights to senior management and the network based on MIS and analytics',\n",
       "   '#SGUnitedTraineeship Analyst - Data Analyst'),\n",
       "  ('data analyst',\n",
       "   'Highlight any perceived risks and early alerts to the management based on data analytics',\n",
       "   '#SGUnitedTraineeship Analyst - Data Analyst'),\n",
       "  ('data analyst',\n",
       "   'Perform data validation and dashboard performance optimization',\n",
       "   '#SGUnitedTraineeship Analyst - Data Analyst'),\n",
       "  ('data analyst',\n",
       "   'Design and execution of Tail Management initiatives in partnership with CCIB management and strategy.',\n",
       "   '#SGUnitedTraineeship Analyst - Data Analyst'),\n",
       "  ('data analyst',\n",
       "   'Drive and measure the effectiveness of implemented initiatives utilising internal/external assessments and adapt approach accordingly.',\n",
       "   '#SGUnitedTraineeship Analyst - Data Analyst'),\n",
       "  ('data analyst',\n",
       "   \"Demonstrate strategic thinking and recommend solutions aimed at improving the Bank's productivity and efficiency with a specific focus on client assessment and portfolio management.\",\n",
       "   '#SGUnitedTraineeship Analyst - Data Analyst'),\n",
       "  ('data analyst',\n",
       "   'Prepare and/or contribute to regular updates for various committees and governance forums',\n",
       "   '#SGUnitedTraineeship Analyst - Data Analyst'),\n",
       "  ('data analyst',\n",
       "   'Continuous Improvement Initiatives:',\n",
       "   '#SGUnitedTraineeship Analyst - Data Analyst'),\n",
       "  ('data analyst',\n",
       "   'Keep abreast of best practices and learning and development to raise the performance',\n",
       "   '#SGUnitedTraineeship Analyst - Data Analyst'),\n",
       "  ('data analyst',\n",
       "   'Optimize current processes to meet customer requirements (internal and external)',\n",
       "   '#SGUnitedTraineeship Analyst - Data Analyst')])"
      ]
     },
     "execution_count": 311,
     "metadata": {},
     "output_type": "execute_result"
    }
   ],
   "source": [
    "get_each_page_info(['https://www.indeed.com/viewjob?jk=c595cb66ea1125bf&tk=1eprith8qo2ad800&from=serp&vjs=3&advn=1862197902428497&adid=358790837&ad=-6NYlbfkN0AuWpd06JaTHFjvTB_5q6-0gBNCyrzTNez_CNw5GfFr-YeB3E5TQjGgRpROSxApPavaEP2WdfqhRBGlu9c89vYOUeEam1c7jbyYU50bNr3iwrXZUhzhbM7-9PcAL-yzNz3Ow7FbSJxuecSNUKY-soIrq-uCPLuWn8vLwd6Oafc1bVuVeqHBGe8O2teLxKTJdM6MDiLZOuFlqVL-dKVqRAhTFsbBHopMDNdjoa6-iQ_4Vd1Xs4ny5rO1gPXsXz-lnCvJVUEFLklZ2xW0rth_jXDrs7GUSMmY0nOTBNNgX7bdbQ==&sjdu=dtXADpuwviNwHAcP_0C2om8en-HeGVEjgyadgTLktdf5q-Trwsi24vbmog2X0W9QbCVqQk58-CWVx79WvrC_crWQMli0n8aMlMtInuWK23Ouak5bzzQwlCUmIz1QbGQNm0kK_EY-H1DBLlctdPNOmHJTvwWWP4cEpC5nowOdLmpRmvV4_vPQONOpvzPrVfUgNIZWq89Q0_61E1tWXkAJE0TPxzjQLyLrDfPX9M5aU9G7TsW5KcASe9zcQ5iqK4kLzee5nnxHYmu1qo4vYvYxJTpNzA5p455SAFVvhpNmi6MLXsl4O4RGsgFUeN2olKIN'],'data analyst')"
   ]
  },
  {
   "cell_type": "code",
   "execution_count": 313,
   "metadata": {
    "scrolled": true
   },
   "outputs": [
    {
     "name": "stdout",
     "output_type": "stream",
     "text": [
      "https://indeed.com/pagead/clk?mo=r&ad=-6NYlbfkN0AuWpd06JaTHFjvTB_5q6-0gBNCyrzTNez_CNw5GfFr-cT3dCZgxlbPQRGEcFchKcZzAYo7kjKUivYWOlNVWwHTy5pTtqsodZTH8V-Y-2zLqunCl4iEqapY8zUe-_5HT7ozqXoPBhXs7K11QJ8709NWU6m7S8fJCsk9R8q2kzLNPT6tqrMOgUvvRbUHCej7Mzf0zh9GDI7KwubJsIMDnByBpHwbJP5L-JsUxjYXaUY01Y49peuPKM1f2xzWysWUMnmy1dmkQ0U6uruNtPke82gyQSp1NQxQ7Y5DxE-5AxorcKqaZfs1S4EAzAjzOv5I6ssJk2HO-i4TtYtEeSJzfJYbWfqtdYq7tNePoh4Ab2Z5EcijpuoXFs4FS5BjOM4CH8KeJWXXta70zH3_fWAnaqsmBzN34-ggLdugTIqXM_VbjlT7HQnzRRZuusQgk4IfcuVNdzeOq2udsL-btvLqpQgiArC893Xm4iyXwNIw7ehfIBCI0PLSdGTQ_ZSbQyN-eb7XJdOdDRG2D6zmwDsR4iPWzbjR3iC3joW3i88UmGcgS6UeJpO8KUnvWOutXTjyQtId3jrg4Q58LLi_7lWhMHwQa9pov1iMF8cJZdvX3RNv4xlAIVNfW-NNpu8IyQkgdX-_N1oAWDGRLhwYq-oOATJ2yuajUZFSnrvSKoVcOGS-BsAor-sDIaMK9-z5gyXYtiodlUE10SsPtkgfnOggrMRIKcFvM25kh3zWmoG57Ir5TCEhd2YT6p5Z1v9ReFqxudR_ilBjdCsw3Q==&p=0&fvj=0&vjs=3\n",
      "https://indeed.com/pagead/clk?mo=r&ad=-6NYlbfkN0AuWpd06JaTHFjvTB_5q6-0gBNCyrzTNez_CNw5GfFr-YeB3E5TQjGgRpROSxApPatO_JBaRnmHwWQqwCMS5aG1Q6T-KWtyWFcxq6igeJLizrHloFP05UqaR0za9t4_15Rw470ECbgSL2RMH7-BH6KwU1OIJudVwi2v6AZpML2V4MAd4DreNy-ATXJ5YcQp0EQtaxTzpImw5PBv9Sx8CFvhrfTLyHa9LhJbwQy7GHDqLGYiGsuG-xcEgCdZO4YL3knzuiSABzOmtsQcLaLLiCvFNK01mTbNO39vM-ehYIK7KexT8Uh2_hqBAM81enSVuAcTekBIqT5ScA65XfpRK03njRpqzNSLIefeALuNe_9QjQXxf29LkAtQXc1IuNbtNpLLwIJTp1WQNjy4HRMbHbo-9OdNm6lie8Nd5WMFi0gX77jDMDq8hRyOLuJRS8vn8MdVyokKRa5drL9Oc9HdDoFS_WdRUp094TXmKpu367BKnCbK4dD0I8w7DaItJK4p9Svu3XYRwl3F1LEorYBPjvzLZR3jt7ucA2eURbS5cbk2rjXLOBYQ4yNcJKmeMPKoJBN6GQP6w_nvYTnr_MfpWI_FpZZ7SIPD9F6cBDNvCPwYWsdu7zE1Wd2KezewPpOOrH74lz4hkUQI7a3VRX9MFA7sw-7Yw0yCBQW4RbOtozVU7Qj6eoaCM1iO5tpdTYr0dQH0XtDHvxXModdeDNvy-QMMUYJF2wOU6vqeB0M6--ntFjcPNICVi31KoPUfYAVsqyUpRkunDrtKuadek5wB5LnhjYRcyKrYO5lze5ece0rlktYXGKmlutaC&p=1&fvj=0&vjs=3\n",
      "https://indeed.com/pagead/clk?mo=r&ad=-6NYlbfkN0AuWpd06JaTHFjvTB_5q6-0gBNCyrzTNez_CNw5GfFr-YeB3E5TQjGgRpROSxApPavaEP2WdfqhRBGlu9c89vYOUeEam1c7jbyYU50bNr3iwrXZUhzhbM7-zj11YaS1PHm2BDalHCzSb_ti_B7BJOwXU1HIKPU5OzRweZnuPWOqMMbRTEs9rY_sKC4C6HgAA2s45Qu4PVogctmnx9oSaV6J9KeqFnSNaTXSRiQrsz7Jdf8SG79n5IPJZhkjaNtnX89eOY7dKrUncqb6GkhVkjRivcfd6qsUQS4xoatblkG5FgZ8dhQwoFYfLaRzGXMPA8zohRyT1_OiqUnL8c4XhdoIIEzlbu4TylHUEj-SU04h_dIMgckwjaHhc8Idpdhy2lFwpxskhqKrqaW4MTsAoxkyoaeiQg3oPR3jXScPQnhuE1O3UoCuTDfgczccCxxILagF47HaK8r-RwREFE2lhKf_6IRzb2BC6jrgBD-klJMliNfpYGIwRXp9R0oLjY97UK5tuqN1uBNlkc6bXFqICB2nMAHWDeqk-H3GKcJ0uV4MAqmoP6qY9ipnzf6zBUjmBmo_GaJF9SLMIpZn4YXoWmGpCez-mUsD80gUesn3VJpDP4hmSYyoEoHc3X25nCqyD2VFtfXxrrvizoBaz7WTxkzePkEy_zUQdlZ-Vj3gyZLDSc_xyx0vbTAFNvYjCLzETmHoivj8AYp9pnBq4qV7-6lCYBadtd08DOaTZCggntXwMCatFx429JX5OCr8k_BBw8SJ7KoGr53Aox33WftBa9EHihIomQdp0Z8IKw40s7C9IpoFRQnGb4T3Aw3a3hEW5Dx7LhS0H3mPACKiy2hX_BaL&p=2&fvj=0&vjs=3\n",
      "https://indeed.com/pagead/clk?mo=r&ad=-6NYlbfkN0AuWpd06JaTHFjvTB_5q6-0gBNCyrzTNez_CNw5GfFr-YeB3E5TQjGgRpROSxApPasLFG1Nqt-EhJRkKuHvdGWCITY1dtVBo7lUnjszHoNt5YqAla_BmAte-6RUn7DORU_WexWOKu2N8ZtmxFbKJ4Ih_ukUOzv_9sn1WYApiqmma1rCGuyE54rj3bnI8D1LMFODzfaOelIk3GgY3w3WBlmvAYzj3Ot_B4LTNZkyamqLwjdN2wDgsZhKcnYBdQh0DMkBGpyJDllWKEi7r_odcFSaNWgtUL9EmfT_WkGMOH3hQpFdkKJCURJrncPR56EEb4MVTxWRfiAu9BxA2CumcHxy6fXNdPrnkl_C7ylK21nhPs1cjMDhjvuYozags2wCG7fG7W3cA5yi5RkuN2540CvbPdMBMda-638fHyzxd55YDlqwSj8G_JTSuMUUHGJP-UY37p_1FqEJ0KLsoizNRc-T2n7eQqI3rPSCboiYaGiulqSH5hAqJkkkNqoRSNEP32qJqVlxUAgBR2CoD9eJRCkYV3uisq8TOfVb3vkb2snPiDJLX3QvnDZ6DJjEnDRCaVti7csEnlRsW7GbXvUYVMP6eOyf7m7PzoSKXX0yW-2vw1T2KOP-7TbANUdODY0KBTZ8ruYCp8oTmREp1aaCDougpyAkzEz5pEWtr3GuAn3B4DChTP8mS21fiYQmkjqitRkWh0q-2JOodZ_lehjAB5pWoYnZCELBJt6AH0gU02NqKgB-vlxQvUWmTCd9ZXEZAi70Xnj2DiPL_R4KzdGTOKhjyy8PSCAZaRvFviH-ghOdkTLBJf_My8H7CQ7Z0rQ88b5_LF-aXiPOJXIASlSCvnPdFUFHLhB1Gr4F4vr3YECEyw==&p=3&fvj=0&vjs=3\n",
      "https://indeed.com/rc/clk?jk=96a0b8d9e1355c5c&fccid=2ff585682e0825cf&vjs=3\n",
      "https://indeed.com/rc/clk?jk=2c1037b993482008&fccid=dfc44f3b8c44a6db&vjs=3\n",
      "https://indeed.com/rc/clk?jk=b872b1f8edbe0e54&fccid=81d0cdcd2f844676&vjs=3\n",
      "https://indeed.com/rc/clk?jk=3effd8ec4bedb859&fccid=9418f0dd26325941&vjs=3\n",
      "https://indeed.com/rc/clk?jk=e8fe100f1fa3d75e&fccid=126e3afd205caa95&vjs=3\n",
      "https://indeed.com/rc/clk?jk=3844b8a244f31491&fccid=1929db40bd34ce01&vjs=3\n",
      "https://indeed.com/rc/clk?jk=01fa46079f238506&fccid=779925ea75e2bb67&vjs=3\n",
      "https://indeed.com/rc/clk?jk=61a4fe33fb281b17&fccid=a85e6154efd31ac8&vjs=3\n",
      "https://indeed.com/rc/clk?jk=796790e0b126467d&fccid=42932b3ca42e3cf7&vjs=3\n",
      "https://indeed.com/rc/clk?jk=4a906685f1bc343a&fccid=d29c5f56235af7ca&vjs=3\n",
      "https://indeed.com/pagead/clk?mo=r&ad=-6NYlbfkN0AuWpd06JaTHFjvTB_5q6-0gBNCyrzTNez_CNw5GfFr-YeB3E5TQjGgRpROSxApPasvEyGu6xYO_Y9GsEK4y8skKLH72pW6KJbDhBoyDof95eX0SQsYwKAmy5QT-GzY8_U37u_x7ZTpqR4tkJr80LzbyBhKXE8gsWzCJOMZ70licrpVNV7r98jfH2UHMiQec5o_WRjP5h3tc-s5MiwbVTv47VvEkQM6Ka-NGvNnio8nXv-mT_K8GNRj60oyuHyN3IenwjJm8eQSb8rfElKRn8M24LJwuNVdlC7f_kl8qTSBgMMpbzx7d5fXxVz-YZq3oUtOdvUp-aIs30NE2iSgCWPQJ5aXAXblnFi7-3pRTvgGYFulXhbvTPPCeHqcAk6vDrX_sxsiWa68xF-K8j7fJi6qTGGmoc2ymwGhaEF3Z9_2wiYDGfVvNREhRoU_SkdmkYvqN9akhkHmhfBkfJ3RsqjznayjgVfOO-55t7brSENsXBbC7XPS9FCJtVnJdYWmWm1GAGaRQ6ftCY0AF9KBJpqwdSaWJ8k24ubHYhLKGLjYF3LJPlnYwU_91xG5bJtCoESEx0XOeFyPMPPFQ4rPMIy9NYwua-Afv5QhXft-fw6MRGZi6oeiILvc0t0BB1Tiar21THnz3I1ymXBTQ2D4cGYqVfKwhhz-DwcnJFAkhpOiU2aWjtdO_d215Rv4CysU5WPpMICQA6B2zlEZCZ0fofjqBGWMEB8FQcqLKcV9OMbtVoU88P0PhkMTaEOKTVLAUTBO1OeDFp2qtKt6TPqXAo5QOvDeqRs9-rE=&p=14&fvj=0&vjs=3\n",
      "https://indeed.com/pagead/clk?mo=r&ad=-6NYlbfkN0AuWpd06JaTHFjvTB_5q6-0gBNCyrzTNez_CNw5GfFr-YeB3E5TQjGgRpROSxApPauxoNt29LiPsSHb4WHxszt0GLkwYsYrt98fQ9JmTxZ9KIw28ZjVI01scz2TaNQ2Q9TRs85OWpB00e2OCZwydiZyFN3ue6V0uj7Vkxa8hhLzwldvrW3NhILvscHI5swEILGtcq27xOc4SMaQLzNUJ9NEJEHc-ty7mBqAorNBAN1qnhwQtELqKt9qOm6oyfTlmK7U76VmLVOPBKhaHY_XtqnJCcNfg6jNrb-7dI7fl1V2Idafvx5CO0VVA6uNNedmrWFdxn55orAJIa00IteyKbhoj9eFi-WEGEshlZAfzT-Q2K4qVPYy8JB4WMr1-f5II3YU94XMluog36eW6ZwdIWiY6TkN5bn7AVFYIYtzkIrpm4L8qqjGuuPxrcJj6ORUFsU1FHhalW9IpOWXQGMcqPVXjCInWb4vyFqTnznCr7umNd-iij9w8Lzl4TKYDfKJ5_S2CYU_AB4e7xuEd4wIKXqVRHTNv3OjyeTO4O0A_drCjrPliBcLi0LKIhjmsZGe6CpD2661tLLdyPaNgr-ZnQI4gQskOqA_4wQ_zsSz9t-RRexkMJD2oqyaQGaJjnH5Q0mi1K0FJ-ksNy9x_AolFDGthVEaHEhEfORY5nFMLbvfbuSn3wt3wlsCFVx3_RkEa8z4wI7rY8RHCML0efO5pUljPNhXDhFEcs27P4EN3Eaa4ir3MmIc5SQHnhqCLOXKGDRlLOC1ZAutoP4m30UbXonDY0YxVfF3pKIDb0ANpuJuMziEaQbI1Xs9t_DccewXsjX9jlPMl7Yboca7mrXPtcAf&p=15&fvj=0&vjs=3\n"
     ]
    }
   ],
   "source": [
    "links=get_result_pages('data analyst')\n",
    "job_title,companies,requirements,responsibilities=get_each_page_info(links,'data analyst')\n"
   ]
  },
  {
   "cell_type": "markdown",
   "metadata": {},
   "source": [
    "3. Inserting data into database\n",
    "\n",
    "I decided to break the insertion up into multiple functions so it would be easier to debug and understand.\n",
    "Note: If you try running this on your computer it might not work since the database hasn't been set up. The code for setting up the database is in the repo."
   ]
  },
  {
   "cell_type": "code",
   "execution_count": 5,
   "metadata": {},
   "outputs": [],
   "source": [
    "def connection_to_sql():\n",
    "    import mysql.connector\n",
    "\n",
    "    mydb = mysql.connector.connect(\n",
    "      host=\"localhost\",\n",
    "      user=\"root\",\n",
    "      password=\"\",\n",
    "      database=\"whoomtroom\"\n",
    "    )\n",
    "    \n",
    "    return mydb\n",
    "mydb=connection_to_sql()"
   ]
  },
  {
   "cell_type": "code",
   "execution_count": 337,
   "metadata": {},
   "outputs": [],
   "source": [
    "def insert_companies(mydb,companies):\n",
    "    mycursor = mydb.cursor()\n",
    "    sql = \"INSERT IGNORE INTO companies (job_name,company_name) VALUES (%s, %s)\" #ignore duplicates\n",
    "    mycursor.executemany(sql, companies)\n",
    "    mydb.commit()\n",
    "    print(mycursor.rowcount, \"was inserted.\")"
   ]
  },
  {
   "cell_type": "code",
   "execution_count": 338,
   "metadata": {},
   "outputs": [],
   "source": [
    "def insert_job_titles(mydb,job_title):\n",
    "    mycursor = mydb.cursor()\n",
    "    sql = \"INSERT IGNORE INTO job_titles (job_name,job_title,company_name) VALUES (%s, %s,%s)\" #ignore duplicates\n",
    "    mycursor.executemany(sql, job_title)\n",
    "    mydb.commit()\n",
    "    print(mycursor.rowcount, \"was inserted.\")"
   ]
  },
  {
   "cell_type": "code",
   "execution_count": 339,
   "metadata": {},
   "outputs": [],
   "source": [
    "def insert_responsibilities(mydb,responsibilities):\n",
    "    mycursor = mydb.cursor()\n",
    "    sql = \"INSERT IGNORE INTO responsibilities (job_name,responsibility,job_title) VALUES (%s, %s,%s)\" #ignore duplicates\n",
    "    mycursor.executemany(sql, responsibilities)\n",
    "    mydb.commit()\n",
    "    print(mycursor.rowcount, \"was inserted.\")"
   ]
  },
  {
   "cell_type": "code",
   "execution_count": 341,
   "metadata": {},
   "outputs": [],
   "source": [
    "def insert_requirements(mydb,requirements):\n",
    "    mycursor = mydb.cursor()\n",
    "    sql = \"INSERT IGNORE INTO requirements (job_name,requirement,job_title) VALUES (%s, %s,%s)\" #ignore duplicates\n",
    "    mycursor.executemany(sql, requirements)\n",
    "    mydb.commit()\n",
    "    print(mycursor.rowcount, \"was inserted.\")"
   ]
  },
  {
   "cell_type": "code",
   "execution_count": 334,
   "metadata": {},
   "outputs": [],
   "source": [
    "#used when I was trying out the scraper.\n",
    "def clear_tables(mydb):\n",
    "    mycursor = mydb.cursor()\n",
    "    mycursor.execute(\"delete from responsibilities\")\n",
    "    mycursor.execute(\"delete from requirements\")\n",
    "    mycursor.execute(\"delete from job_titles\")\n",
    "    mycursor.execute(\"delete from companies\")\n",
    "    mydb.commit()\n",
    "    print(\"Rows Deleted = \",mycursor.rowcount)"
   ]
  },
  {
   "cell_type": "code",
   "execution_count": 416,
   "metadata": {},
   "outputs": [],
   "source": [
    "#used when I was trying out the scraper.\n",
    "def drop_tables(mydb):\n",
    "    mycursor = mydb.cursor()\n",
    "    mycursor.execute(\"drop table requirements\")\n",
    "    mycursor.execute(\"drop table responsibilities\")\n",
    "    mydb.commit()\n",
    "    print(\"Deleted\")"
   ]
  },
  {
   "cell_type": "code",
   "execution_count": 348,
   "metadata": {},
   "outputs": [],
   "source": [
    "def insert_job_info(mydb,job_title,responsibilities,requirements,companies):\n",
    "    insert_companies(mydb,companies)\n",
    "    insert_job_titles(mydb,job_title)\n",
    "    insert_responsibilities(mydb,responsibilities)\n",
    "    insert_requirements(mydb,requirements)"
   ]
  },
  {
   "cell_type": "code",
   "execution_count": 417,
   "metadata": {},
   "outputs": [
    {
     "name": "stdout",
     "output_type": "stream",
     "text": [
      "Deleted\n"
     ]
    }
   ],
   "source": [
    "# drop_tables(mydb)"
   ]
  },
  {
   "cell_type": "code",
   "execution_count": 419,
   "metadata": {},
   "outputs": [
    {
     "name": "stdout",
     "output_type": "stream",
     "text": [
      "Rows Deleted =  65\n"
     ]
    }
   ],
   "source": [
    "# clear_tables(mydb)"
   ]
  },
  {
   "cell_type": "code",
   "execution_count": 420,
   "metadata": {
    "scrolled": true
   },
   "outputs": [
    {
     "name": "stdout",
     "output_type": "stream",
     "text": [
      "https://indeed.com/pagead/clk?mo=r&ad=-6NYlbfkN0AuWpd06JaTHFjvTB_5q6-0gBNCyrzTNez_CNw5GfFr-cT3dCZgxlbPQRGEcFchKcZzAYo7kjKUivYWOlNVWwHTy5pTtqsodZTH8V-Y-2zLqunCl4iEqapY8zUe-_5HT7ozqXoPBhXs7K11QJ8709NWU6m7S8fJCsk9R8q2kzLNPT6tqrMOgUvvRbUHCej7MzfgUWSESbKkiTz3CEjpRnU5VmYaS4wSFR22CmSgF7r3YfbrProLqpYp5lDdozOSeW6OWLygE4tuk5Lldk9M9gkO1ky43Ff7XVO6wgVh3eNAyeL7cx0-BDjXh1N_tiZE2IdyVbhYdBzb6kdpb4o4tLoHhbUAgZDF2OYlwB-7Z7mrq6JkUFzwpJ9Qx3QGhyVtIFgTBe3nqSRVY-h4T-x81IkAoNiMjPNYKjqgS0bbtSnEbwX1bF7EEKaLuZIipCTprBLeQ0dRHyQS1durQDLn2mVvq8y4yizsclCd_56ZaZYpasYcnJFBK9N4_5YItuFfq33oYpRz4NpyyBBnFm2MBpfgUJEpNbv1z7zRAlL3p8SNZ5K4ks8mf6DDxFnUCrLQmNJCl9COyW38FnbJnLnC1oPKC1VK6WR_AlaSfoFN_0ZQoWHoGNaW0TYn_b8mSelUN-ogA7wbk6olRkwilnZ_rzvyioT58ovj2SJ5XKUsowJkjM8o969xkb3ce70PYzHMJYmH6ZKa-FWGZGr91Xo1bbOoiy9uMj0d9SUb5-ow9PEbd8XTSCr7E3AeOuiYm4d66xUSIanM2mnHQ4ai7LQbrc96&p=0&fvj=0&vjs=3\n",
      "https://indeed.com/rc/clk?jk=96a0b8d9e1355c5c&fccid=2ff585682e0825cf&vjs=3\n",
      "https://indeed.com/pagead/clk?mo=r&ad=-6NYlbfkN0AuWpd06JaTHFjvTB_5q6-0gBNCyrzTNez_CNw5GfFr-YeB3E5TQjGgRpROSxApPasvEyGu6xYO_Y9GsEK4y8skKLH72pW6KJbDhBoyDof95eX0SQsYwKAmy5QT-GzY8_U37u_x7ZTpqR4tkJr80LzbyBhKXE8gsWzCJOMZ70licrpVNV7r98jfH2UHMiQec5oj93JAfPtn2xwNviGm4-s96SjW-2HKhkp5fWErT2GlXQlCdNpZWQkSaZICxVZBvtHNowvL2TBVXfNGJU9g9h6YjdtY_s7CfZMszKG-vk0eUVXw9ubMUoTWGoXdO0I2FublqtfbAl4MvuXwHajiVp-Ups-dpawxdF0Ug-Spb6JWs8-k8JVyw6P5dqLPOifdeq5gZmD6Zlf15fLmCMNk1Yr_EmDL7m1zlfMJUUgM-P2uZHw3JdfmiC-foZLM1NqNzMJHWyP7gIIcSJEUWYjgyYIkZphHxiKs3rDDUQ1U5pLjBpD36shKrS-q5GwuOcjzrLnegowieBJyTd-bDr7JtbV_xRzodK8FbNRg1va2do6aXcK3p9fqWBJkT0lC-ij7Spyfr2-M8VSqtrWpKB6ZcGB83Ckngx7wGgyBJjCa2ANuqfYN4VlOM8NG0pPDJgl9f4f6RZVHPZK1xgQ4cRF9lq10aIfLHcDYEnmwfPstpdSeAo_rRxE_CL5XmmF3uYfVUN3rR5TejHQvhxB6zu50aK0eWjc_W3fSeRzdCK4P9mzURbvSIewgjr0SMcYeghgYwwCGuu42qNjnhP0M2kvqTqCTzKS73n7FsBSmuoGcq0oeYugdYXlgiBD3&p=2&fvj=0&vjs=3\n",
      "https://indeed.com/pagead/clk?mo=r&ad=-6NYlbfkN0AuWpd06JaTHFjvTB_5q6-0gBNCyrzTNez_CNw5GfFr-YeB3E5TQjGgRpROSxApPatO_JBaRnmHwWQqwCMS5aG1Q6T-KWtyWFcxq6igeJLizrHloFP05UqaR0za9t4_15Rw470ECbgSL2RMH7-BH6KwU1OIJudVwi2v6AZpML2V4MAd4DreNy-ATXJ5YcQp0ERn1Mkw2vs-icCq6anItluN3FvoO_B2Us1eNSidBG3JSsbAzx7owd15Nv9WHH2QgilrwWWr_YnGTp5fsP-C0MNzh3njV__e0aNUYbAXp9xtoSfELK2fFQl1-4DjuS_9KgY_YG6qpYRZebJMZ5Lkh4HRIAfBcMve6vlO1zbeL6AckOoPTsT-SudSuIAJs1pY2PljOdUpMP7nfj_CuLCx8p4nezmz5e9zxGxoPb74Ry3dORiHGwSfbELo1vWkvchbxResUfI5bAOWsqPJN5WePRnL3Wu6Rcj_MtIjCMDppZxlQUhe0vNCR2sIQDo90aL9W63sE_HQ_NwLD6gT-WcvG85auKOKKrx85px5iBdK8hNsbRFF79DpoTEisDoyFYu40yMhfTqT8TKUG5ZT0pkap1ilKV45Vm1GH2Byix4YFieK0K86H1ij7J8lL2oVa9FxMGeQXDchR5qXoIgA_p9PMvIte3fDg-PACnB0lRsl0QTOuRRT-hiuB6pQHqaOIhtTcKAKxqNSkI64ujQ_fVO2xXa6UAQ0XEB8P394GPU5IMn7DOSWrebWFyj_uYzFmGfafh1bQrkTruOheRIOuF4QUnTJen5hUdlr1lXEV9RgJ2V__k0bui_ZhWe7cvDmtaG9lv-OUqLHaiUzrQ==&p=3&fvj=0&vjs=3\n",
      "https://indeed.com/pagead/clk?mo=r&ad=-6NYlbfkN0AuWpd06JaTHFjvTB_5q6-0gBNCyrzTNez_CNw5GfFr-YeB3E5TQjGgRpROSxApPauxoNt29LiPsSHb4WHxszt0GLkwYsYrt98fQ9JmTxZ9KIw28ZjVI01scz2TaNQ2Q9TRs85OWpB00e2OCZwydiZyFN3ue6V0uj7Vkxa8hhLzwldvrW3NhILvscHI5swEILEbqike5w9mK3aQ9dSuWfaoC_1s21N6nyaPozrfBlGQfSVowlvXXFv_GZfT62XiyL4LV6_k9zGFtZQyz6eq9XTBHokQHtD26VSXQqaUXdPdS_njDNzlOaPrGnzwnmCabGfXkOh4tm1Lp8lQeH7kPk8wsNYWIEY52Nk_GaAJFGgOZrdGTB_mjPCwaP9QTfTMUjaooh5jHM_msclkVplkb9btjvZjF9i4PPY5SqbS7ddA0DbD02E0_Fi4mVVtf5UlH3iRJ_IH9S2eHwBmqcBrl0anA6CNv_6GJPURwUuUa23y23OR3GoQWe-EWtP77nGKwpkmORN19aFUiyuBfdT_iC-h84wduAXCZ-WkLz1xjZADbnRAn_uw0DUd5e0oO27BBNfyNpbPVFociEYbIPNlrIDcORLLDDPH4hA0oIurLidbtoE7JJ71Je5tKHM5zlLymjoRRGwAYyH81PgkGBLwpfqdS9n1mLaLS6HulCzfFiG-bXjb5-BWlQEDBbF_Yr7LRs0OFOdcWIG1k3YyHE0oXq-VuvgLkd4OXyeIkgG0iM44ycBxvHyuiQRXKgpWEUKG4TYZE9Xa3YLVAw-1bMU3cU2B6udfJk3AQfj80RSnEz_cdAKBIxv5WUH1fGfknlSzBYrBt7VNFSZxJ5GA8_PvpW9Nic-_zYiLr4s=&p=4&fvj=0&vjs=3\n",
      "https://indeed.com/pagead/clk?mo=r&ad=-6NYlbfkN0AuWpd06JaTHFjvTB_5q6-0gBNCyrzTNez_CNw5GfFr-cT3dCZgxlbPxJN_mAbWFWINSvW8ZmD1V8sh1eFnB1FipxsFqWCyLQlbsaHAhBaEG6sIpXJc57y56ODUTZuzdRVwWPWHMZqP9Gbz4ia0ehaDxi4CSls3WXSTQleKBIpYosChG6939SiBXlAh2P4ZvJy-unt8ymGQ-YCjB6KNZRXcoVkg01HJwEvwYe0lWlY8G29Mc6QpTmaGkSfQ1Eq3qw4PBGNNkuiYaQEDIL5bVCJzlo43XkxXrYT4XjXhsQqNVA6dqQ_B8cNC-2GlqlkdMiiJ1G2GSfGChZu5JYDodCm3Yg_MjmtmOYe8k10XJtEc5NbWkSw-Hk4W4eMcqIaApSbvL84Mk_gRXYMlIU1vn7kzid1GKd9uVNTiMyBoHOQoUosJMaM5NP74uy7sOhRHaONe-HF6GUt1yE09LrDxWm7bczHvw_NwEVav4jj7aVzHXBQnkJMW6XN_SU1VGPuUYr5bNCHf32zkPiPMDmMH_BhyKvQlbg208Y7DsEebPsFepSvhlst1jImBu496sBqzDnz2OC9MDkw7sLUOlW7HjCWthD9-ByJgzqne-BFuyEGaskw49Ef68prUZjCozAuZezgrwIVe92Q50U0Nc3QXGzNjJ3_qAvX5Ztc2j4mFW-sk9pEaOpYT2EkjKFOgr2yOLWECI1ZW_6-VEZetyFBUSZl-KFOvxMZVna8p0xC9eInYBTdUvRITbCs7cNSg2DibrfPZf7Z5j038UA9i7W0bRNwUFO0n2Ol2v6LlaZpHVa9Dx4GxFwn7GdaR&p=5&fvj=0&vjs=3\n",
      "https://indeed.com/rc/clk?jk=2c1037b993482008&fccid=dfc44f3b8c44a6db&vjs=3\n",
      "https://indeed.com/rc/clk?jk=3effd8ec4bedb859&fccid=9418f0dd26325941&vjs=3\n",
      "https://indeed.com/rc/clk?jk=b872b1f8edbe0e54&fccid=81d0cdcd2f844676&vjs=3\n",
      "https://indeed.com/pagead/clk?mo=r&ad=-6NYlbfkN0AuWpd06JaTHFjvTB_5q6-0gBNCyrzTNez_CNw5GfFr-cT3dCZgxlbPxW1N_UnT6KKDObcp6TNLmdZ-YTu-0uW6Qn-lwwSg4e-UJOCg8hOTzjs3g1ne0vlZfnQ6JMGlGCIkkLf7DxU2QdvNhJ9uKvSmFKwUl2EpLF-AkBUktKEAN09l3iQTwWWYcANOob_erLRPC66eadTbknTJAmPIvSRYhmZSNK0kNmI3GUsYuW0DxhMcbCqefS4Tfpu3lZI0KIckyK2I5_Zfn81sXWaIfUkjsqVqfdgs9ejQEgjlDcdni9RupVngkcjoE5Iyxi8_dJRW_0f9Gpvs2QdXZ7y0WQqRK5Dd-GghJw737Oc0H9EupRpsnH2tRYjtcyItcTPBMkTAtKJQP_iLghsQruhz0__uupNkpkyBh2Afl051ezV2bfHuxkWlXQE7xe9TYLzQ1FmdyPOysUCY29ftwBsTJIAzUt0FZGjAfWVcvVFqevRWXfY__VozQVIJXNDA3FrCbLanML-xogfjRvrLC2G2cJO_1WMen8nX9tdElI8M3NRVpY1ZSV960zVX52wcsmHCLH-ICDvi6mqSsTtXOTbrQZ2ohkcSGTTmT37nhe0eqS7zUygDx5wnOqoo9ditBmNmatw83B1xBKb3nbKzm-1o7yOzhYIOl1ZKBwxqP-W5g6MfMW3AkBb4PK5b8OYavgBiQCxW3oe1VwsByxN-6YkLrTHlXFSnpuyS55-cF98Nkk6o6N7PDGpK7VmKdTn6wvRZnSmtjnUaDmS5AsZ_mvYxm2OLowVkDghjUD6Vv0e-BC0Iqdb4uUPT4Rt4ODtZJk0-ZUc=&p=9&fvj=0&vjs=3\n",
      "https://indeed.com/pagead/clk?mo=r&ad=-6NYlbfkN0AuWpd06JaTHFjvTB_5q6-0gBNCyrzTNez_CNw5GfFr-YeB3E5TQjGgRpROSxApPatHxWzzouhO42_KdKDAmsXwmrRH8-ggbM9HxRWL_VpWF3RzBS229sXn1RYAvaTjZDS6GnBQquC2JhDnmiRQ3dGAzgJFq6FcCW6ANfojUpY_EitzsteLxHaN1yJ3c9Mzmg6u_EP2PHpFGK3Eyp29Zfqr5_5StnuedSH3nfHojRx5wL4OoVP1-nswxmalmI0vJbpEKZi3SCuPksDZQiIFktKx9bS_ySefL2VmHmP92lxnEyhV4FeZBiUP_6gE9a5Xo0Q6A-GNbpd0lXmx1gZHI-vxrooBmkd1ZGVFwMfdn2UODbSBKFf6LKg0NvOD8LXgFw1l-Ygyy2qBJe9twLmda7MZ198Zuow9oSq61D8K1lo1zPhGsuxD6rmijyRaYTB4FvFc0EAhIZMiMp735oKHl2DQcYWAW71rsN_ti6ylDZp8X1EXNbWgNbd6dUHNWjVhKdSyUA9kw9nm7ipSaBf-OWa2kIGem0SDrP61F_VKmsYNU6Nz3Vk6dEnbeFc3g0fOTdjIZGVSe3Y4-sndnzaeOvzaYY4QbFfAWaGYwtCLS-YrL4B1K90UcoghzmZzqjG_XQVRvCe0SfYsYS-OgCUOQ8-HX3c87kGlZWtwGicC9b2Vhmn_FDBp5RxZx6KRC37_R2BHhyKC0jxWiHoKZph2DUTrpubqwujEP6tWysu54R391knBJdHb7eyXwOA7nsd91LNmshGx7lhTyMX3L5C5ypL45Q2d-fW40p5EzpMn7z9l6ZmbKhRGqFbPy4vC2lNz6EA0eYuljnqWIAhm67Lh_lpfxOQ_zyUv7ck=&p=10&fvj=0&vjs=3\n",
      "https://indeed.com/rc/clk?jk=796790e0b126467d&fccid=42932b3ca42e3cf7&vjs=3\n",
      "https://indeed.com/pagead/clk?mo=r&ad=-6NYlbfkN0AuWpd06JaTHFjvTB_5q6-0gBNCyrzTNez_CNw5GfFr-YeB3E5TQjGgRpROSxApPavaEP2WdfqhRBGlu9c89vYOUeEam1c7jbyYU50bNr3iwrXZUhzhbM7-zj11YaS1PHm2BDalHCzSb_ti_B7BJOwXU1HIKPU5OzRweZnuPWOqMMbRTEs9rY_sKC4C6HgAA2smZfxBlKJpMzv20MLVjHRmOyS51OP2o3sbDlv3571Y3mYUrPz4cedZpI4apT1sUBLirWg5PAx5_czKEOcbmdhWsQHuh5bGlsAE5gYy5r6Z64p_SZ0nJY53hzFUSXFC3GlhRrvfuhFSghckwh26Ps1Ze2-Lnpifae_oTfx3qUQxTFYpHC2U6bEaO00yxTcX7gGbjUm99-FTKQR1-g3YlpBiP0WAkIexa9cBehx8q84CIUFI0h3cAy1GYMHRvgi1LWhMji2g7-qIHz9zsx63YIRgNEnrIj0MHqlypBMn3SYUohdTzAJET1x0tA3iBXos3OfwEGtBG3Iyd3PZS1FQQl6JIi473qYXtoLt7pc4DqQvRxZ5Fdd7uqYbXC-SwxPgd9IN1i1rpVZSET6_16MO8RsspArJLRL7WWiE3EiotLjA1uA9ae3Kk-wgOFZJzvaOCqnwEw4UjP9nlHMW4D4toiKsx-8BQRCKW-1lUZPboGbMp06ehtAG2-MnDkwDA9ZkOMVFUUl_c1g_j1clzm5jZLy9yMEkwozQhubkVqca0Y8kaAEhOZbGdgIkKvLjZm_ugPkxq5J-izJw39mZyPmWTt4Mn9y0MzYOWgGwdMvS9zl8GlVh_qdFVhXJcbpuELXhq0TFK5pZwUsss9kcfA8gikctN9GF9smjPkg=&p=12&fvj=0&vjs=3\n",
      "https://indeed.com/pagead/clk?mo=r&ad=-6NYlbfkN0AuWpd06JaTHFjvTB_5q6-0gBNCyrzTNez_CNw5GfFr-YeB3E5TQjGgRpROSxApPasLFG1Nqt-EhLf-7WwiE4VhSVJ3BvFkv2dWMJy0VPw3Lvj-tQ6n4-i3Gg3pHJv6LaQYyKCQkdy6jyHU1DKNjKO7lWtWB0YyW-V5WTjNq97q9EoU77fYntMMw1tNtqPy1IqigrYFYdebeNPg1frR1-SnsG1CUNkEVzaIzTTU-sVKFoIaZgtvanh3xLCFifjF_BfRiMm7Nj1HSNmR6jIInM1zkXWdojpN_eHUkGCkeOG5yr42xYeu8XWjo0fs1TqiPLSqTNYfgBHKnGe9B7--3JoghVnDDAJqMzeb_GG9zxLDYz5UhiX6RIrRJ5pLXdzyhnaHksEcC2-9CPymjT-gwzYT_gNzFiKo2LINBvVzt6nb0F_uooqqENL2nhQD3eyDMd7MLzW3s-xoo_A7l3ZsLI5B8WwwJEu87sUsrNvzlPyIZHvcWCDJ_M2Cxv8AsdxRHhr2gFZusZPq6403gjJ_QExkFaNHwH506gpRk_mlaubLhzetcEkJ3Y9pAxvq8IUBIxOwQxCYk1SufQ0bCvhaEGJfrS1fPfeUd_Ut85f512alIoSwV6O5tt6b_bp677SUbptgHaP1uo3AV2tx7DWQJ8VPn7EpsKz07x6PDO7qAMBCtiCY57THSH0la_fKmL5_HddbsJdsMovVZpp6j4TXCyHtt5cBmbKemkf1fWNXk2pC-WMKf8GO71YSrcZ7j7wMR5aGWi0GO_qlTuV-3g8ADxP7OJpLPRVsWN3qKQDtofc6-ha3L4V-k0-4S-HPvMy2tuB4VCCUdVUJZIGS5vu0YGyNk9lk5A_BWMpI11wfVTttYQ==&p=13&fvj=0&vjs=3\n"
     ]
    },
    {
     "name": "stdout",
     "output_type": "stream",
     "text": [
      "https://indeed.com/rc/clk?jk=e8fe100f1fa3d75e&fccid=126e3afd205caa95&vjs=3\n",
      "https://indeed.com/pagead/clk?mo=r&ad=-6NYlbfkN0AuWpd06JaTHFjvTB_5q6-0gBNCyrzTNez_CNw5GfFr-YeB3E5TQjGgRpROSxApPatHxWzzouhO42_KdKDAmsXwmrRH8-ggbM9HxRWL_VpWF3RzBS229sXn1RYAvaTjZDS6GnBQquC2JhDnmiRQ3dGAzgJFq6FcCW6ANfojUpY_EitzsteLxHaN1yJ3c9Mzmg7Noo6jEA-UVTx4FxSRUbTPVUliyWzoSLDLVoW9vDTHXD8mZO3JgecqHxbeIK-n5mJhQW4oPyGYdAbrcwJjjIo5Uuhls-3GZ_6IBRXK6R0qhqXpa60QsifGw1lOdsvsV6ivi9IWXHOy-CR-5Ep_HYElKSvGbIe5Hysf1vhAujjBAto1zLBy7eWwuezpf-noHskScrfaVglA9bzP3efQ6KgYH31oDSCoBlqdRXAUvqNz5G4dAHMjc8A1bTd9lF3ofgERigz5BJA65GMwL4Dl8bRiDJG5tEhJ2dzClCEVdFcGhmsz6ZtXGnG7fQ62zhzlZKQIrFlzG2gyluhqVC3_nRN-R9MKLfzlECp5UN_93h0TNSzfsNZLT2y7k-o3ONRIRgaWIoIKPs1TUEBL7Kf5gnqb6VahhTWPhKBCEED7brHgT2I_enHFUfTT64YKlS3bbctePBECcFfzzEx2LzzGahCE9b6WjSfrXszyPwjKq-dTwm1JAyGcn1b4M997gsEz2hgzaGo141wzuNXSkqGom4nu9_Uwco3uX5YNecrHevE_As1Qot46KHsjzcc-Kti8EcgiCInfSO4OsIXCoyVdUwf5jBu0L61zCurDqaL3KONVqW6t5TR3QdBy6dNrzQauSSRwDJgvlaIWjo1MW5hpZwGmqFSkgnAG7jU=&p=0&fvj=0&vjs=3\n",
      "https://indeed.com/rc/clk?jk=4a906685f1bc343a&fccid=d29c5f56235af7ca&vjs=3\n",
      "https://indeed.com/pagead/clk?mo=r&ad=-6NYlbfkN0AuWpd06JaTHFjvTB_5q6-0gBNCyrzTNez_CNw5GfFr-YeB3E5TQjGgRpROSxApPas-uIfUMYPjOrDGYKV_xef7d51tk7_bVRZB6GNSUJPXXG610r8jjWWcLfTDeEMkQzsLDxwDq6zC1fUVPwkneVbyxHCC9x1snbL2v51IQXPYCl41zPCMrEjVr4psesqXIToibni3__x98B15u2H2iJURLd9_0_z5N84rQ_D66gy9d3WtaugUyrmGNp17Zq3WebQlRnat4laKwUJrY-og92rWzEU-Vie--f7HWlrSl2KG97bplA5CpEl4wrHdS1ZnhFxn8ykKZYJoPSGyrr9C3Ly-zm-4M68bLHy3aB-fglybf2dSqv8alo3rA-uFEXAvhaor0N97HYYt-cPPPKSgyI1ffZAsKkQgUHsba4OshFMbLBq9WX3jrMz7jFNY057PgbSllvaoIm0Q3Oc9cngO5liT7Xzia5EMRQwBFeS2oEnAb51FAMCP6ctAAicQOJZtm46Fljgl4AG_HvZ00xH7sLyvvCn6jTvoI1EwdOTSUao-PzAVxa49oCdXL2K8tm-nQGbIVgmcChpq2GX0aMlvnvnJVmdDNoLv2OtcPO_jFKRCD_GUex17LdM-UXs2Kb6_hzis--UFGag1_xtRNCvmqu_H6hiMppJ4ve73UV4utSYdZRBeI643PsGBT5bytXAL7Blr_LcxwuhgCvjVlA9iHmqqyPKKgYd8JSH3fNH8yjLWHSWAW8RJcx4qX4GzXC2Nfzbmoohq18LeZyAuTEeLIfqlDoTQvs_OJVSlJqJrKKPVawPoJuLF9tdBvimHY08P6ZqGVo7ZnO7WBQ==&p=2&fvj=0&vjs=3\n",
      "https://indeed.com/company/Oigetit-Fake-News-Filter/jobs/Business-Data-Analyst-Intern-18c7e882427b104f?fccid=bbe704ff777ec01a&vjs=3\n",
      "https://indeed.com/pagead/clk?mo=r&ad=-6NYlbfkN0AuWpd06JaTHFjvTB_5q6-0gBNCyrzTNez_CNw5GfFr-cT3dCZgxlbPxJN_mAbWFWIDl82SJdvBePB89qhkQF_r0GHPGIaXta9l8Ty3_GTcOEBTZtZiqGlutFr48NcXugAZE_Gdv9cfSmqozaHGMIFBIJiebNqcygdGAr7JKxi-tg0clYCYZ4nPcwSNZUD901XDafE1c9DBDfR8iO9Jk8NCrt9_9SHT66SV3sEevObxoBul8w1MT0ltaVq3mfyXMR_O2O2UmwTOTe86psArREjb-V_FQ3R7kW8APn2UlBNxS6fy172yev6EQvF6LnlgxgXXkIFDKfeRUr5-RvR8R-3QyaBJuSFhNHN4-_QREIzrwKHj_VKIyT4X2aMJulR8CkG__PywYLHN9e5wbv_l9WehuDOhv8efD26NG66UXBXmiLHTjwtvi_unbBV00RvDadd_1Xk8EYEl-JDJ7MnoAeYkF4kFxvh_d0MGcwTimhfYx9fb1AsOqBIxPu7lPek73vMMaf2KbHxLpRv8ixSMnQQdklDuMjy3QUfonHoOnVGJupMlRuxFBzbnS9n3tyxqw6Xdu1aVDfzqXjG_gp7njAt2N6M1KB973V-YEoUlT0QWwAAs0XH-RW8fpqtEJmH4w2sRFMJwdDbvuEDVrdrebi8OJWMxSPat4vjH7I-MOwVY2PdhvurpI4J-6eset_pRS7DHNPcUO0JnWLr7AFXtVX5dcx14QIR2EiFsi0HXXLeL6WShbLxpFKMEAC1OTu49VffrJpRgyL443A==&p=4&fvj=0&vjs=3\n",
      "https://indeed.com/rc/clk?jk=61a4fe33fb281b17&fccid=a85e6154efd31ac8&vjs=3\n",
      "https://indeed.com/rc/clk?jk=017a94fc20cc64bd&fccid=31f21746f5380494&vjs=3\n",
      "https://indeed.com/pagead/clk?mo=r&ad=-6NYlbfkN0AuWpd06JaTHFjvTB_5q6-0gBNCyrzTNez_CNw5GfFr-cT3dCZgxlbPxW1N_UnT6KIKCqPCHRDBLEtgMm0EHgSQ9Yz7QOqmu1TG1WfPJpcQpYMqF024EGazWs9fiI0EWdRwujw35DIMc9vrZjsJfMGKKLyYjEdezkSF8aDI6zDwfBL9B_iWMnJOyiVe8Om6BpyhnkyeJvq1XkPGWMonngCS9fE_bQ9VGr0Qm1LIDBBti5OWa5Zg28GJzsMS2ihWVij-b3whoBzrUlzjRrB3vjCLOZnUNJooTinT_gRjGtTyxARujgdFqeCziCaSBpXCnXDLhYwUZX5P9qllCH2HrIKRoicBlnjekbtq5l0Hy-M9FQdW6RSjntyN3qztlxxaUigejylZ1tZdaoCJSJ54pZkLe5PTKJd36PBh_sgVlIg6qeX_3iwhzTaOooeE3lUQIUC6zdNGg5D_NoERxF-X1H3euwV4RAw9DCtrsBFjM4_kC1VNj2QM1Hu3EpHifQfULIhMwUTydOG-h76--lcpRGnQT4naIuEjJWEj6uX9UQQ3S00nKrp6dBiah9qMVxN_dosxlkj1VI7REP8GUjnhku5vqsbENry_6OHCVOegtq6jDMGemwX4bfsmnAajJ1ddJ0yC3_t8sAsHYLq8F0Cel6BKxRXQIDGaNGm17qVXpwlFIfhd5EVNvJ0Uok1yMVcw04pddG-vc3Ike7kf1D7ZYMp4KwgztiAySLidX5IZfga0VFYCzNz8NZpaDYyzqBA7NzEkxN3Gb-r6NJo_YoE3E4gtN91OrARtZfS4wmej486-i2kvDfLiPzIhGopCqWszNM8dhxP0rE1JKyZYoCIq8Lsj9rtrn8J8xz6U_pTdPXghnZSD99DOA1UQ&p=7&fvj=0&vjs=3\n",
      "https://indeed.com/pagead/clk?mo=r&ad=-6NYlbfkN0AuWpd06JaTHFjvTB_5q6-0gBNCyrzTNez_CNw5GfFr-cT3dCZgxlbPxW1N_UnT6KLKxWLeBgvbf_YAUiQlCgiyGb_I7Z4uSQ7b7knVCkUlAwCGGCy0saCKAARquIkP9W5PBmmvP6bMS2NvMkQAjKoD96wAUlS7Yhl3WM6kbP_LRGfC40rqqlZtTKa8NcUNqvRbAgeOpA3fjMqW7DIkWbgoDZVScu9uouFGO5ZUNveSNK1s2MYj1Yu3giu8syFVcDWJpm_S9n23j95iO_o5lxTMlyCKP70jF6Bj4Z71C-HOGui5EmKkl85VCn_BAMSUp2dBXeXi3n9UwWBzB_vI8k6rcCaz7iw4Gp_eD3tyyZiTmGLmgYRU_JR0nLrshsCdQfFQjocx3-8LXyIF6hDlEYQULFg8V01SdCer9hRbYsTnk6BMnhlp4u8oQo25LDvPJEdkuyT_uT1Wzdu0EXWEWV3QKwgW1dEu07GCn2MgIB_XGuutamGf_gsbWQTPxyf_kGefn8erU8wXOnvLb_bb8-WixJH2sh7uhekOoQzfzZ7RVSHZLCGBO2lWDfoGHlI5P5ak8-Bq2K2c604aZAkFB92sBiHs-dfZWinqXKChmc4F_-IGiNntRaQ28BASuNsBve_r9cb3ILETkZxpMwW2_CFJ43sC6w26WQaJzHzg1kUuaMLoykzhi-zwJC67wmW0gGKQTFpT4UJvVl-9IZBotLTw6UP8ZPIQCkpDzZRTXxtuiL2xYfB98gw_jrtNZv1Z89tx5oPJuatM1hMUYCfAytt3HT9vttPW52a9dZCIUjXjue4fWeUQ7I-MnWQ6DWF8MtWcHS-rrbcQmpA3fevj7P248tHNbqq54wicfNz_WLUhjrrs3etElBEOnV3VSadrqh15x0yXEYwxkArFwrP8cfgZ&p=8&fvj=0&vjs=3\n",
      "https://indeed.com/pagead/clk?mo=r&ad=-6NYlbfkN0AuWpd06JaTHFjvTB_5q6-0gBNCyrzTNez_CNw5GfFr-YeB3E5TQjGgRpROSxApPavaEP2WdfqhRBGlu9c89vYOUeEam1c7jbyYU50bNr3iwrXZUhzhbM7-zj11YaS1PHm2BDalHCzSb_ti_B7BJOwXU1HIKPU5OzRweZnuPWOqMMbRTEs9rY_sKC4C6HgAA2t6duvmM97DY5yEg49UY17vEeHLh4P3nnily1iFy26j9RP8IRsp3oYIi14UrnTcBrVGN7SpBjwfNBMzm_87RwvIdALfpz2CVc2HZZQsWNTXyNfyS-sc3_xgw_RrOAd1Q105iMoIbfluNcFEu1sIEQDNv4nwZPnw8MxFOKDe4ihd7lFhDh48SK1CL9zGgbYuprGRciEv_u_wrkSVlmwhtszgBQheqmponAtZco9tBbxRyoy4wogSSkkDxyrNlXJr3Fl3OAyBrZRAMosHpHodyiBEkJrPxZF0GAqDHWqyiHh6m8__mv-s3kKcq4E4AaedSybwnHxuu1DTBjKdeDKDHovaiJj37sWi-JxLMZZatBVjdWAfft622NrAciiAyxwT8YiRPkb2p23RmUx2Y7dEgvxHTzwNTR2vI0M33IBlKogeWyjTI18NlViGaGNBOrkt4MnPgi-JnznY2V-cz7bTNa5qSETl0oisqOEB0fFOV7K1haKxa1R0lY0TawnctNV0J6He_HTAlY60o1s2-R1V1W8gkdiDwiKfnL1JH7ShH7pqinmZAaJeHDnSqeca467qvEGFiK4D99V-Ryg5qszfiLaf4D9FuCl0rOf08sWTWqofKPkoY2cQfo4N-KvIrWZ_eDFRTB9XZ1mRpbqjRLDIfTuav101uP1idOo=&p=9&fvj=0&vjs=3\n",
      "https://indeed.com/pagead/clk?mo=r&ad=-6NYlbfkN0AuWpd06JaTHFjvTB_5q6-0gBNCyrzTNez_CNw5GfFr-YeB3E5TQjGgRpROSxApPasLFG1Nqt-EhLf-7WwiE4VhSVJ3BvFkv2dWMJy0VPw3Lvj-tQ6n4-i3Gg3pHJv6LaQYyKCQkdy6jyHU1DKNjKO7lWtWB0YyW-V5WTjNq97q9EoU77fYntMMw1tNtqPy1IpyBSx3Wy-3FmpH9aWpyokSG7UPZkw72Rf7jS_rUFmjSGY4cIVMFz-MiZflPMiR1EPzkLTCI1eEC17VSDzoWrJGqF3k4nYUrYfn_f9DMOJn8wCI1lg44VWqwERJKylEbyJJrLbA9GomnuzutSSHqMJTK-2Kcq88Z9a--cOs4XcLXsfweDkXlJYSlw0-j7zKetgTpgBAOOApTcFeq7OvEZiiXi8i2Zf-1Mr0RfO9yBOnu55OgZGof4lPf4Zpd3Z4w1Of9pRrHXjQ2hJ_jbcoN7YAE0QeU9E37QR1LX2LPHX3ek7VfiL70P777oJDQp8qPY7V7xy5bW2LLa8ZsU2cy6aqhPlYeR0O28wlWbLoWJCDcXvglNYrRxIc2xPVrvnTaJ5Zr7gvbKl1KPfaLu9XspNhf4OZzfZW_I3uldeOmbsQe6G0sE_doOPdRoq66JCi7JXwzr_9A6PZH8fSNk63Le0eZsolKoo906G6c_6U0GvX8AREaICXsXqUCfpaKGvFsqYxOXg9qMuWiQQ469DxSs00fj6cJV7BuGnzdOrjn8tOVWyFPq7FGndSmBYw9d70U3NBR-ew-c_DlkxOaMIX5sypFSVOFquUqLlgAMifkMpm9hmew00DRUUVrlLuqYBTRz6QsZTIXwoxLolsej9_ReXjfN91fongsU3h_JAGgSAR7A==&p=10&fvj=0&vjs=3\n",
      "https://indeed.com/pagead/clk?mo=r&ad=-6NYlbfkN0AuWpd06JaTHFjvTB_5q6-0gBNCyrzTNez_CNw5GfFr-YeB3E5TQjGgRpROSxApPatwKFiSFH5eoDhx8j_Llzc3cZUQn9aDh3Y3JuURtKcOAYinAIOEVsQvWLGSO78AzjoPGfcyNmOnymT3gNb6_r5oiWCHIMb5T2e9XSgvF8W2XhEhmjwooN7DqbAE44lVWkwfZud6ySr4v-2OA5dljcJ0J4LjRA-kIVRx5GAMRA4Enu_a0PiVhGfBvA1lNMueslGSlgHpe7ZeWmqEzhdMqgKj4CKwWJk-fZgfrfaIBNYzL22u9bdTYE18MB4NISzwQR-uYYp7_incs4Tpf_-f8fwNi751nvJXOYo5oZyGT_BXJna4sCUtJV3Gj7hCEXlGeVrtFJ3RGhTueJlWZas0vILIYKarld8B7l1OFYARal2wM_om3IMK6UJIAqgxGH7hcvGVx2R916Ui6fuBQq13nUwbfB0Yd-edDQj8agFkmUl14a20xWwdZ_jmeN5PlAnuVwPdLDrreQG1woJGn0AWe-KjDaAnyljlSl-ppQJFSgJnydB8m2xFS5DIdSMrZpwkV6DlAZF28IGDkb1P0OrfMJgrcYCPptspPyleJmuquQznZTS0oHdu974h2VGgpN_yZUDTMiSCX0__wTqAnsuQ3bhpmITGhT9pR6-wvl3nKcRoIdax35IWFJMilidspySkMZ94WRz1mVWmFcBQpJC-uUdwhaJfSss5ywN69g8bpl4ezougf0QwpTOI8Oe3aB8gF1aME6v4ta6PoAL-YHx0p8hC-Jw8XnhCnMuRs9AFNi04XgCi2ue3Q2KoRKNUjZO1Z9H1AN48PHRSMMJiqRKG5BjFaZBAYMzjOSwbGADEFfa3RUpUvU2rdGq5&p=11&fvj=0&vjs=3\n",
      "https://indeed.com/pagead/clk?mo=r&ad=-6NYlbfkN0AuWpd06JaTHFjvTB_5q6-0gBNCyrzTNez_CNw5GfFr-cT3dCZgxlbPxW1N_UnT6KItvYmasOPDkai2bKl-H5yOyHBvrTN-hck0qQ_CWNb3oLX8mEe2deVtAJZmMtgIzA8quSs-N-0TfHPjznnaqYNvXzoqJALd_U1aAfUbhqZ_TGGB35dqldB14zqzSboOJhMq7K4McEjbUfCfAoYleE1IlzXnI5aR-XPi70EY6Ma7wLaFMNKKotH-1FSl_rUGpdqhr83opV7izYRIr51aomj7nODJB6O-iryR-elBEsfRG866c1EndAFaDGo8b4Fc12_34nSLUCYXty12-6_vJ5703bWYB0bkdUoYhUY7Qa-eMDUds-gE2Hpc2ESg0wd6MyF94ncs9Iw6veg4MY7AcvPqqnXF5w-hctERgR8wjxWV1SpqQKc30702KmUKUfgWiPmenbnyWN70VdwA7MTu9eTDJwCedPV5P1MEyGs8QcRLFFsGRxYYUquw7oRs88XuRaP2L3v9VenXFe0huHFOdKJlt7Q4vW2Qey8yBovyb5rFFwyPDHDfQz8JzCTsLOD7KJBhMsTqr30jUI7ci1eoCcp24r9YJ3PjGQOc0I_RfOHUeHEefiJTpiEGeIZChSKUpQimc5Qm5Kppu16MOFriaVKUPPgNLL-SUxKqkVBGFVx3B0jZ12mF9rXZR9AS3VRu4EhOnoE_lkrHWd07ARapjLrFc4bQqmFGYAqhF2qVT4kQgKy_8FdBK0_FNNtiYYfWpFHMrZZr1lcSfDEG34_J_M8--_hcJSDP46vA_VmSVZIfwecQinKD7e0Y&p=12&fvj=0&vjs=3\n"
     ]
    },
    {
     "name": "stdout",
     "output_type": "stream",
     "text": [
      "https://indeed.com/rc/clk?jk=26cf48b946174ba7&fccid=f947fcaac3b936c9&vjs=3\n",
      "https://indeed.com/pagead/clk?mo=r&ad=-6NYlbfkN0AuWpd06JaTHFjvTB_5q6-0gBNCyrzTNez_CNw5GfFr-cT3dCZgxlbPxW1N_UnT6KLKxWLeBgvbfw6IDnuFovTJDhXuXJTt7UInmELSwKcox4XyC0NN7r9NLPz7kZ-SULXEkI-piOyjCQUljt3Csx7vOcxybn6nnCtbmHMs1LOk6ngVZ9roZRt4Zk6oail3Owb8gtCH4T6Vd9zBVcQViQA_s5FINHVYUmIuo4qjCqhcZzMs8hnQXs2kd83LXh4-kV_M75MLiXQYMij8Y1sKU_7sJPLe-MSu7jqBMiCDYmAeK-2t6szrSQ3hh9ofX0J2-0zcy2hX5MV_51WJFoD-N5bMg0Y4b9i46jNWo-DZB6hz75FGyJFI_Dp156cIH5N7zRrviyOYWAXfuC_KgJIeykZYSVfAz-bI5ot-uvfF4XnjKjxJrMkq-bmlvMlCPOU7e7H4i159fnK9UC_ws4tp2svm_Wn5YaFVu4wgo89WsZfOjJFq5EMGyTGAx1kvjstNH59ljH0sxQBdcUBlvqtGDlefK8JwDuTw2Or6clGtmpdEhRFRXHRdPIOdW_sLB7a5d4h0SQyJxrPfcakr1g8A0oLMLAoMG4-oIhXE2Dt-HCCXXkiWie52Ek0UOfm7Q3jSocso0fFbgsbgUHNrYqX5zBf3NvV7f-e8vwPHmV7H2AmV_T8gPiMEhn_HEYoUwQBlCa0kBtA475lYWIPtPnH3ry4YUAbE_k0r5z7aN_sWLV3aAp8FvEZOgqz62txZ9IyKtwfCc0H9vBfeZtpkq0iWd8ueQj2hVZLJTXwHE_7LzIfRVfD6JxbubkTK3AJJKBic_g-kSUw1dI-MDNUGBirQBQVn0OsX02Zkpzss-e-NeKEhoqHyYdv-A7kSe-X94DHYkkI=&p=14&fvj=0&vjs=3\n",
      "https://indeed.com/pagead/clk?mo=r&ad=-6NYlbfkN0AuWpd06JaTHFjvTB_5q6-0gBNCyrzTNez_CNw5GfFr-cT3dCZgxlbPxW1N_UnT6KItvYmasOPDkai2bKl-H5yOyHBvrTN-hck0qQ_CWNb3oLX8mEe2deVtAJZmMtgIzA8quSs-N-0TfHPjznnaqYNvXzoqJALd_U1aAfUbhqZ_TGGB35dqldB14zqzSboOJhMq7K4McEjbUVp1ha6OfG_YWbLjAiF8h-oiIQbc9h6xkKByvrKT2E6emwoc7J4CIot7h1qF4NGmIk0bCB00YB0H6ksNg37upRPh6feh5OpKHe7ICq5r8YeEnx6yUzKRTz6roE9gSdn7y_4J6kXw-K_f6y5REnrLKMu4wxb62FXrfbH1dCiKTLrgH9S-Fz0TizYpUmYBnleCV97Zq72D8i6CddyllxGX6WpK5aPGvrW_JCyazxkelUzOLNqqtLf5rHsQmojFxAPX38C0riecXj2Kif8kkXkUMGONcN0L3bS9YqActM9B8SR1omhPirnp72q1QBQTi8qtk8_vwDYsAkQwJXLWVSG-pbgUD2_hLeXVenN-WJ5TM5Bqh4ZuHuAuhOEzKlnQ9up6Z0skoOd4s3tvtFGsyITf3cuR1YAicIuKO61IRxVQb3zhj5198ok8nP6NoyA04sRTU-LHKEmsjZwqKVT7K08LTYaD6bhj9FpP5oDlGR346p4YPifhHyEtWP3m0WLKaRWxWUTaqY6288LJrRBvnXohZlrwftsMzfjaxB1kbFmI2JrR9we7sF1EQFg91P3btuc9-G8uplNKKykxBZQ4EkD6-EsvPdLI5hD9j2w1LJpf7YI0&p=0&fvj=0&vjs=3\n",
      "https://indeed.com/rc/clk?jk=2d8cbce6d383c988&fccid=9d8f74e4e7d5fb5d&vjs=3\n",
      "https://indeed.com/pagead/clk?mo=r&ad=-6NYlbfkN0AuWpd06JaTHFjvTB_5q6-0gBNCyrzTNez_CNw5GfFr-cT3dCZgxlbPxW1N_UnT6KLKxWLeBgvbfw6IDnuFovTJDhXuXJTt7UInmELSwKcox4XyC0NN7r9NLPz7kZ-SULXEkI-piOyjCQUljt3Csx7vOcxybn6nnCtbmHMs1LOk6ngVZ9roZRt4Zk6oail3Owb8gtCH4T6Vd7P1wF8wlAZsLw7a3L5jmGctArMf-eIqEay30rcnSsrYt0iR_2DfmVSZlaZ_vUHV0KJxcji5McWlWoupkMvHq69yDseo2xF-KbcpO8Xg8en4sZwd9xTY3mPV9VLbBqqYQ2drlHWcyWCY4d1s68B3iu1OVdUiuJepTpXfM7GqjiNhB1a480l9pZG-4yeoNt04jqdBaw0bFTtC-zCCc9tg1inUYNB9r7YXM_s6mQN0yIudXzq1JXsPvS7zkGgs9Bry7ZNi7XAR4ES90N5xnBh5Jv62jIkgTuu52OU6ahDihRCLQl-kDFRuobjKDBJK6e2rH70cxFl5AQGeEvL3g_3WkgZvDgKD0i8LF6y32TZDD2qm_vDI46r6iRamBds8n9ObBcrLAgMZfa7mO2-ahO0BIPuBO2pzSpVJyTtcY9S9A5tZZwPju8TBZFk-xZ9KMuA-B94Le7NYIkIDP9Yxh3apK7YWbhTB4vepjefW-UiI_iZZLBlA0ZYYr8ID2_FbooihLqOUTEI2uSv0cqGuVQfD4gHbjHbrbwCRfbUcHqt53eIaSYKeypylCDMLNrC0lkyXP-KQDZlvORQwgdiHfUGvCEFbz3AbfRhrqQCrkoa9j3qnH4b0ryz2CVciZy06h4w1aA31F1pWbV3TQjSAln1nEyQpMCWabjBqL79DCOpNjJvIJ97dHtkAOgY=&p=2&fvj=0&vjs=3\n",
      "https://indeed.com/rc/clk?jk=14270858833bfb27&fccid=5e37dd41493e6393&vjs=3\n",
      "https://indeed.com/pagead/clk?mo=r&ad=-6NYlbfkN0AuWpd06JaTHFjvTB_5q6-0gBNCyrzTNez_CNw5GfFr-YeB3E5TQjGgRpROSxApPavaEP2WdfqhRBGlu9c89vYOUeEam1c7jbyYU50bNr3iwrXZUhzhbM7-zj11YaS1PHm2BDalHCzSb_ti_B7BJOwXU1HIKPU5OzRweZnuPWOqMMbRTEs9rY_sKC4C6HgAA2t6duvmM97DYx3FRZu2vWrUeJp4BPuA2WA8TrZRr_3_EGRWLVOc9JMd7SIbzecHK9D4ueqM4IrtoR2XYogwZxv6vYdZjAa9enbwON68mvv0jBIKcyRgB-EPDvqMVy9RSVHZBEyMr2RUHFF_lsO7LddoDyHFQNL5hxchCRTs8umrm5_IaY53DToKSCyfRLu7LxTRXoehxrKTHC4dNcViYPtuMsi9cEhK-XEzofLmaVOQ9VZF2T_z-zYD0fJEHTjEEYlNJHpZfdTenLNZN-tHESh1esqHxzEp2AYhace5Um8uvz7K_C2yfGtfOpqzsM8UDmqZXdGvq4HuapVupKXojvCpTQ4TW2rO9BaWxU79_6asOlYNIEuoHT4K-s6C4NHC0x1lkpbCpeeA65teuPMd6eydV6a-qcTMY8JHihl_KvH_5-INrRw1zxMDqbj1bgZIVqSHd4-lP-iCYghnGsvwePh1kdDczWqgno_G70iI0-8PXkz6HKRmFiM1rpCuH8kFypGCLGCZLhRX1cOc_wL6wL03l39io4QHKKi-K1uVUqEfA3K5lrYgsbxv0B4TkBrqxhJzoeOYf7wwwcSlion7NMrTxuaV564V2Z53Mpviy8lA6NUcmgTcxYi4epuq-52nGglBWq4Khk4qOrJCxKDjrf0C-iSpK6Z7quI=&p=4&fvj=0&vjs=3\n",
      "https://indeed.com/pagead/clk?mo=r&ad=-6NYlbfkN0AuWpd06JaTHFjvTB_5q6-0gBNCyrzTNez_CNw5GfFr-YeB3E5TQjGgRpROSxApPasLFG1Nqt-EhLf-7WwiE4VhSVJ3BvFkv2dWMJy0VPw3Lvj-tQ6n4-i3Gg3pHJv6LaQYyKCQkdy6jyHU1DKNjKO7lWtWB0YyW-V5WTjNq97q9EoU77fYntMMw1tNtqPy1IpyBSx3Wy-3Fmjhe3XxB0Q5NHBUVFGNNg10rS-KUntcsU8R_E0YI5fvfIdi4QCuAOj9467M7AmFKdJoacUzy0pEoJ5fuPyFKEuyRr9FhXSHKL9cGmNG9j_TyT7_cS4sGL5Ku42pg2bwx-M_HHlwnM_efrYytBxoyif85P5MLcpiEkSfDB6zsrK4dUVulrW4a2x1q2IRF3gBltqU9tvKCYePR5szjrLEzWf_My_TyOS7oahzX0owEvEIDNFEEqvAYuQ52_5lUjZaielYOQrJRkroehG4zq4bMoauv0C-FA77-ENL2FMHWSJEIGFaNpkdZnamimTLPbvoEI4yxqHDT_E9MaGjuvMjRJkXx3D1JNvdjh64K9mugbJBpacRdtAJ6cHoHF9R5iMuTJHbsQPHNDIZ--49iPElc-7jHU97gzv_3Aeosw7dUURzrNk0ZU4ObupEvTNeiBY3klrodEhbvXbOdeij0x4GLMzXbvPKfEifhSNkyn2ZYDPJe-_nkp-e3ydFO0imJygg6eLh-DD7e5cLGQsibYXWEnPDMyl2E3Zsgz1H-FB1nd6oPCN6iNYV6tkKRf1l0c6T6uZx5SYZQ2LtSC1ZZ_Ugx0r45km5b4RQBkSJe7jp8I075FSoUmPE7GbKgVLehoffuvq9Er5K-c0WybpDSHuJanOJ32-fL_-vDw==&p=5&fvj=0&vjs=3\n",
      "https://indeed.com/company/Kimly-Construction-Pte-Ltd/jobs/Finance-Analyst-6bcd9f09bc0d71cb?fccid=26c1741c9792835d&vjs=3\n",
      "https://indeed.com/pagead/clk?mo=r&ad=-6NYlbfkN0AuWpd06JaTHFjvTB_5q6-0gBNCyrzTNez_CNw5GfFr-YeB3E5TQjGgRpROSxApPatO_JBaRnmHwRIURT1-MehGsxJikzS9LSovzgtgZ4ptRCRZo33goDUJToi_TOBTjxyoKPy48cBTk1XXJf579pR3iLW8Y6sl5CZppmHFG7gn6yahG4LXSRw8y58aI75-s8INvrPitDX_0eTez5ck9PNStg7IrxmRHFtFG9c7F2fLyulz61fKvQcKeZR2DPSwTrj1TpQg2xKH282blhYl7E1-xGq171z4DyYOlFdPZHo9ZIjS8k4REpZ-rrzP30xN2hqGQRuX1DQR7YFt5P-I2mHFLXcHOyg2lprebOp9HxhnMBoawzM-ObaU0_xMnDi7_XgHBrOJTcBIsJitGXCLFV9HpUphdLUvIfaAl27DSrimWLM5uzSrI7HNL3aXO1Xxwd4NuY5_64jFl39KxRCj9IU6Sy8jM313XdEzaF3GGj1sa1BCF1XA1vrzI9xow3JeKo3adnMcjRrlnP32JTAxO3xqoVU3EU0E3IHf6jti7R7T7Vz1ZSES4jSZ3VVjvY3a9_AK1jhp4lzBqF6rY72J_DECLoTGt82ima6s-LXbManVkb5qDd0lJDoo7vIKrW9VOLaZZMJpPGiz-d4oT4-2UASLQJx6ecB2Uu1x0YrR2FCHlxeH92QVvrHpw34MmnlqfggnIaAXuE-kDVr2W7cyHuzp0cmsOYK1hYQ4FhIfdcWJADwPois97OnKBNm4jmjdldhWmTVgmvCc4drQNgy_fVvX-jIcyc6IDDNpHpsPOr614gNXDBHBEIecgjgYcfACl5rGKdOE3F_RLQ==&p=7&fvj=0&vjs=3\n",
      "https://indeed.com/pagead/clk?mo=r&ad=-6NYlbfkN0AuWpd06JaTHFjvTB_5q6-0gBNCyrzTNez_CNw5GfFr-YeB3E5TQjGgRpROSxApPatwKFiSFH5eoPD-khhvIIIHu0d7qhRsmsXBuctbtr0JhR9jKvrlciVYmyDfiuqwIdD_CVlVF6MAsUma8I2N9C8Vc-aCcRo1RoRxqA16Hq6JZ4at4QwwILw4Y2P-c2Co_VSIruifhqCEiNMwnC2rYiDTAwpmoBFmmSHo7A7XK9bEKK_gRkG4sxc0JTkG2N1koFFmmZPiLJ7GLpO1SGl6j5ClBN0xINufmnWCYY1jjiMRFRz1tsa1g_fxiIYFK6TKtEBJxmRBXsEkR95WJUX3kJ_GoDR9tNh5GVxKrSvaOZYp91BtPGbL_se8ZcMsWU5BxhbnGzJCzX81_JJz9GCLlslP6ep1oXqXP_ppWyJB360dePuZYW36rbPU8SUlp_kKK6saqSAPcewM9FpFpPL-7MpwnQshvsEcfN7gnv1LALIe9-4qaD3wcKqJvFqGEHOsNavJLgMsEMRSyg1QChaD_27EujVHzdaTQzwCIeZMiUluC3khg2C8MxhH0PFjl4de8HsegK8GYjDNHdx7mTedSNiwe2ikuWZH3m4PuV1bMz6X-4Z90TDPYr4cd7GTRvNK8qJR0HFCWU6FbtQdyAIytXR-S9UsHEHsjnYLOa88EBskbU9_Ua2jwQ8z5XPwNuho1eWE5Jf7DwyYzCba6wxhw-zFZ2N6rDnc3waXfyBUgRzQj2WxlqpQYdgYaOgGssF8-XXDFLL3NBLLWxM8Abm9Ct8NAujuSIV4sj-xnsxY5-zcfWnJ776Gl6QFY_BZkmnsAYtpAN36GQSgsw==&p=8&fvj=0&vjs=3\n",
      "https://indeed.com/pagead/clk?mo=r&ad=-6NYlbfkN0AuWpd06JaTHFjvTB_5q6-0gBNCyrzTNez_CNw5GfFr-YeB3E5TQjGgRpROSxApPatO_JBaRnmHwUxJjBnY-1zM31MAnS7i1vdRAOajYIllD4JTyJwM5e36cFa7Wxniq-DzKAd18dDEof5YaCVzzUVtzcRLWebJyjGBuInisZiHKeqX35t5EOKA6aih4x6gSlSPCWJGeSEuKvfXzWKiqaP49_u9ZWb06u1-7WQngJTUHdbU5FXTGo2UuppnZfuBOPWQfd8IKS-whBCNwiyoBfdKIUg0lo-eCFkYkCHAl-F6J26LNQED2EigwFy6j-9LqCE4l3soDh38aUN7r4m22sbzRhJUZsk2w_E_qFuvc09t_KejSo0ZQGi0WlEhsJd-SRp34s20LimlFMIpDTgobqwRXC63O0tQqVYnSu0biLVy6ZnrpJLkPjVoBy58k9J5z2WqrXoVwb7322PuFvMdDs2rM3D-utdx_Jd2E5yTY7qHIPubmF0oRBNkPev5gBLwf-M_zEFdycfjYdjga-itUSLK1J9joFCZwfvRNafo2gcH9lsdDMdu7Q40uffOQtvSBo3eici1fss7T5t5mezDMpgsrAoS5C44hqT4yxCOL-twCvswLKqcyY36nshIPKxpaninRmuCceC5ZUS26QOPEucx-LkKS6tAQzp0hCdKYu7p6b4pKtUHTX4S9tG54o37Jm_27RGPVfIZjgIaNAriWwTeBt9nMJEodgYgQWSaaoWmiHyILEyi_bBGOzriPSp-VaKS0mSvCMav_-xvpx1fXrwQ17TyoC5s90DtiBaYnkxX9EupAS3EjMixffT6LCfRaFHTLJBQfDA_Zg==&p=9&fvj=0&vjs=3\n",
      "https://indeed.com/rc/clk?jk=5af02beb1af34f5f&fccid=92b6f4092701f5ba&vjs=3\n",
      "https://indeed.com/rc/clk?jk=93e2032b064e7db0&fccid=56cec4b67ebed755&vjs=3\n",
      "https://indeed.com/rc/clk?jk=27788a8d46d50c95&fccid=42932b3ca42e3cf7&vjs=3\n",
      "https://indeed.com/rc/clk?jk=3503d61de403da95&fccid=a5e90780993347ca&vjs=3\n",
      "https://indeed.com/pagead/clk?mo=r&ad=-6NYlbfkN0AuWpd06JaTHFjvTB_5q6-0gBNCyrzTNez_CNw5GfFr-YeB3E5TQjGgRpROSxApPavJeSvGqKgrOtDQv0SPtFN4WjgV68NOcUoAvEe-x7htYPpfh_zAyNL7GyMCU-eKWKqQR5oKqO_tkdp9yqDB1c1iZCa0LaMRNb5epVd9S-DN8c8JhQDIBr9qkx_MVLs5yjfgoUjleTDco-Cdf_Yxv936PC_AgpAIushiml19UehFLYQjgOFTkrB6vTupwUTTFy7cHl-6XXLzGymX1_jk4S77RlpNMdjJ0GF4KpthNDq8YSrBe8YQsQOGSEk2rP_E7IDu_d7bjXjDPveJDy8HuPCJ71VbB5xj1QCWnT4t495ZM32zP6dyPTD00fr0fHKkBYXW92ZkobXJ7LzL96DKmc6snqaQP_TdI29CRIUDlKMyFwo6-Tq8ZaF7P5AHdZbgdCbcvJ9rbKguGcMuqam6PkXJA39I6CjbykhVkbTjbPmBwMcF_5XcMbFd3Mu_4ljo1C4WGigKxCUcO-CeEnmfPkOBNdFREDDD8fnHQUFaxDSP7mK4o29tnwpe5xYYi4x5KHzlctoIUnaL9zDsOjm1k-AAGE4wsMSHFC6KTgFz0N3HlpvrNyAuX9gb81fQWNUicxYNwXWFcrfNY1msnJWChHZUezRZKt9FW48zhJTtrlK1kvr1W1Fd66F31XI7vsacxzg7kCrufiDp25pGyGIAPxGItqNlwzde8bPYbZy6Z5TJOw3ZRzF6GUN0nuB84YyUKcEaZGIhoqQqN3fd5PLxTd4N5DnanucwUynXicdAflN72SIZh96yuCghw3XLVU76BQPP7Yi-Qa9ra1Lw3N8_0u0j&p=14&fvj=0&vjs=3\n"
     ]
    },
    {
     "name": "stdout",
     "output_type": "stream",
     "text": [
      "https://indeed.com/pagead/clk?mo=r&ad=-6NYlbfkN0AuWpd06JaTHFjvTB_5q6-0gBNCyrzTNez_CNw5GfFr-YeB3E5TQjGgRpROSxApPavJeSvGqKgrOtDQv0SPtFN4WjgV68NOcUoAvEe-x7htYPpfh_zAyNL7GyMCU-eKWKqQR5oKqO_tkdp9yqDB1c1iZCa0LaMRNb5epVd9S-DN8c8JhQDIBr9qkx_MVLs5yjc6Ffgq8m001xw4p4dKYHIZctCVneS272qUmZu3V3MnISbFn8f6iMRYJnTESmtsPywbrFdPyHkHjXZ9PFO0sKW_ny1MxQsbeljRT2DH2Jww3B-I7P3Kf5Qk-zlqNeSP5OzEnqMziKCBoIaMQ-Dj342yMWxLyPtLnn-bOQqSAZr9ZT9O-712lbEUnZ3vXrtRxDa8f8ckCOFVieNkXL4g0vDBlIToF074Be8cawxNZdYa_0mBAu3pnb0vN-XewGgM3NN3RHzkLtWoU2ZygR-OHXd0HOUZ4L9EgraH5tFkjjJRh8LQk2RlbdfYTMCmr8sQ-zeIf0O-itzQQRHexzaAsN9aSNKI7XeMb-YCrQvmiqmwwhTtwunmwuPbraHU06n09DEtTHWd6X-vzO3cCpiqKl-fcAXrZ5PHwQq1_DbzUKixoZyxhiEcS9D_ybDlDnJ1wrGgfnzxLXDNjv2SMf43dJjTtn39QHdi-X6DdLXHvVfijRSYkMRAmRzb8X4LDK6gF23dIbGi-tfqHq3u773Cz-ZBx2qQmlxZZRCl7sWMdSESUSJBwBOmoRzvZcSPIeFkORbZJIKXQZJOwIt8PrKZhsoUAURuXc2TfRrMFXeN2BhnTLaXWd_3VbExtNeNN_D_yUn0FCT8bgqp5i9myZ7Mvl4g&p=0&fvj=0&vjs=3\n",
      "https://indeed.com/pagead/clk?mo=r&ad=-6NYlbfkN0AuWpd06JaTHFjvTB_5q6-0gBNCyrzTNez_CNw5GfFr-fa_ziROkDxsBY5WLxURfobjHT_zk0SxA85JOTLntrhxVDgLvRij89wNrofEuNrhNT0KhH_ypNO7Gsv27vyIt_6kdZR6bpIgwy30HNLvzaki_2umupOf2gY0OZulwf1ipblI0IVCdhq1lu8Ggs6SRtV8Unk3mRr2-xvbgyiTdKuDLtgAhkC3jf9AGat2_P1LCdDk1c1eX7npqwbOKGw48nEkOSHPEyQgbc70wGEoMrvuItAHpX3N8T6Qmtt4JKn8ySFYZrnTyLgU3tqSzt_gAY-4-m6ToGlb0rCl8Oj9dRZdOAPLDufbqHrriOuK-TLHM63cNxw_jJ3OrEowkEkcI5JIBqI0s32U8s8yq1QsgUMiEVvRamx-FFfMLqnQ7CXtS9h5saZCZ0qOyeFXqoZOmQDAQUa9GGI_05UGiw4PV0p_Q5ovwtuexmwjKq3bukybjxBbHZbJi6oUCKKZrTNEeFJU4DQKdg_OOv3yyx1g4eQ4fpTtaKBcjdSFIUQ72xLAutfzpj4gNUHghCD5_J1HtXdq88TFqoTiERexU1DnEJ3LFneH0Egeph_iPxGE2kUWoEx6mgomagDk05s2kYxpZI8FGVTLdRLDH-J_haxSYiLUXmcKCP8oxzmlEuMaGV6IiGs8jIUjKkbpu3RKDd2PLvP9FcBYSdPyWnlCF9drjLM0Lpnw6X7Tqf-klLhmhgpFyKCXaX31bcuProrqH85Uqly6In22z5tccThipB__eIQi5i9KIcSfgV8ZzWEF23YYoobgDeEUxL4A&p=1&fvj=0&vjs=3\n",
      "https://indeed.com/rc/clk?jk=564c4e88ed09308f&fccid=b1ace17c9d00764e&vjs=3\n",
      "https://indeed.com/pagead/clk?mo=r&ad=-6NYlbfkN0AuWpd06JaTHFjvTB_5q6-0gBNCyrzTNez_CNw5GfFr-YeB3E5TQjGgRpROSxApPavaEP2WdfqhRBGlu9c89vYOUeEam1c7jbyYU50bNr3iwrXZUhzhbM7-zj11YaS1PHm2BDalHCzSb_ti_B7BJOwXU1HIKPU5OzRweZnuPWOqMMbRTEs9rY_sKC4C6HgAA2t_yW1s3GYwJBQISFV3DNlNx-zn_W6Yudw54YZ3XLdJD9uxuZC9hWoaMxqqvLhbNLzY_e88GDDjYKyiWPUWmuCVhWnSnC4fKuJliZC4TzdC0X1joFChIslzaC35_hxury8h8HHTdj9fPrqNSJsazx5VcKh4b5GhN38ObK6IkfgnKccghXg4JqBCbl0J1ucNzh4ufT3GnIiFBt-MiRrdPZGHaNxrnM4J2essPMejV4fIDXdGvA2H-u-I_lN9DyqcPGB90OEbwE3WWgjJ4xAY7csk6QZvNmDgA3fwLmyRvhtTyaLskfPk6NGJ5YcHWuZn9E4xebZpzstdH1PxuYRKhamRiv2Mpzyx6yEkDJNWtp4ayGqEuC1ZAOBiWnbI_U2Wky_RBkxLZNHzfvCbBDCOUJaqkjlhA047A14euntuauCCsnf9ZOZB-AQPB0-MkFqDrfQYGloT-qYBlVf3HvJit0HjoFPdCmacXzQHwMM1dpuLBcdgr7fZgwvc4hjyZ86LX7c5Iysr6wtr3MNkiA9qqo19FX4a_j6jh156MQJ_3YZZwIeY4w-iqznolf0G_Au7gENvlkZyrDMxIYU-zKljArSzSUbBxDje_JAGaGMKqgY6mHd2qFRtd7k3nl2SYe3HNN4RJO39kgDXpg8IBsQEQ6HvwlkPEoBk17k=&p=3&fvj=0&vjs=3\n",
      "https://indeed.com/pagead/clk?mo=r&ad=-6NYlbfkN0AuWpd06JaTHFjvTB_5q6-0gBNCyrzTNez_CNw5GfFr-YeB3E5TQjGgRpROSxApPatO_JBaRnmHwdeocTPmUIz7KvghY_-6Nt7Bl7yclPzalFkjCwKZkyY2wAWU1o9lUNaSnHrLWOZWB4dU8fhP9nDrUhY13MGr0rhSvB2sGI5mgU962tyeNIrXaCQp60AoW-HSdbWOPfcD2e-0vApQgsamC1IuyegDOAUU-yjOOJ_7f499cGgbIiGyRNLil3r9DwWBARdvyqkJWWUw3GKV0soh8uFtC8VjQGJO7UM3GD0P5DYUchhtnamIL0WRUcgIlWEw4u-gqSv-L-3WdfSku1SOCcqYALm4BsCMCF14-MEvQnXxFm1sXbkthzyjC8OJ55lUJQabjarw-0W6ogFo5MmgJqYdGhQjRhCOcUnZM1JXhdD130Im46uzPxUnL-x1dDxD-wlVe2NkN07buMa4xViAcsLD7w7aLei0L7g8TrytbhZoqd6D6b2Ome8LL21Flxjb_uwLvYdP0jTdEWMOvsxe04hbVNdDelsjQlcL9vv7twjbnFfOt8gYDzN7SFuMNGqyZ4ZGrWMbRC59elRaHboVlgfnxAHjdKou28GSjQxsqiilM83-ig-rqr7ByXo-soExP18Erz-L97y82qZMNIx-u7Dfew1FriNI0lHZlqnmatN39fD4ULv1NH4m8b3ZIp36hgmXNC9DcPVGAtxxqR4NPHxeXJs-fC8tqQtC-SPzMXFh0LnK5BKupbU0erhfDvFgYvQx_aVA3xLdhLIBUCAULBbA0BouO_A55t_lbTiGz46CJCNbepVW0gkCdnJdqAz6uJjaRJSCvA==&p=4&fvj=0&vjs=3\n",
      "https://indeed.com/pagead/clk?mo=r&ad=-6NYlbfkN0AuWpd06JaTHFjvTB_5q6-0gBNCyrzTNez_CNw5GfFr-YeB3E5TQjGgRpROSxApPasLFG1Nqt-EhLf-7WwiE4VhSVJ3BvFkv2dWMJy0VPw3Lvj-tQ6n4-i3Gg3pHJv6LaQYyKCQkdy6jyHU1DKNjKO7lWtWB0YyW-V5WTjNq97q9EoU77fYntMMw1tNtqPy1IpEUtcEhVqVfcrlYskb_6bnMB_dOrkYSgRttZGJ3Jr6RpytmzZ6O_0XkbUlX2i8PLXaArXuNZqoQmIvvT01PLIF5fDif2NgNTaeJ8VOSKDp99S86YzQFPikmyf8iZB96OjpwQAeO6VgT1RnBjPcrgVaqc2rW9xDNA0uo4n2V4L5gA0ti_m2jVb9oDVSsx2Ug1rVqvUmoSXgg7ffmjbPh7wYe0Ue7wxa6HSuhTGtIOaUZfyaVkrtFWYVEJ40mLZdrnj43yfjlzxOdJFPvQuMAPswHB846EiedL9IkYr4794yzKAcaHiSh740ys-1ukIKV6HIRtRSqjIOWuN04oiy5t8YHMaDzidX4npX9ssyT0V8WtytmwVt9IEJqpkmdP82TlBr2TtYrnpNWHRQZ5EbmVzozLU1W5YmqOSoTAhSDd2unUBsjY8fmdQx_yiCu2WVLtt14S17XYNZ4pw8BpVINSa6pg5WLqJD8KuvKN6oHlephFavOPEcMZTfntq1TVRtWtsZvBXnVk6QPYqXCEBdG-1uJKts8pZed9iVCb_FHM6f-Op6L8ABxtzksC6qcP3mMTH9NUdTrsxHhEmFBxuFdjtZSI5scIIT43D_1RfFvEmXeZ-VSAQfZCz6PAEvt5xUsg5NduZzBTmHOLoWPwpxhKZIgqR_kerWXzx0S524fUtuXw==&p=5&fvj=0&vjs=3\n",
      "https://indeed.com/rc/clk?jk=743922b5b41b913e&fccid=3549d4cffd766254&vjs=3\n",
      "https://indeed.com/rc/clk?jk=ec34e6d7cf666380&fccid=975147da41960060&vjs=3\n",
      "https://indeed.com/rc/clk?jk=a8cb6cd849a8e5d6&fccid=42932b3ca42e3cf7&vjs=3\n",
      "https://indeed.com/rc/clk?jk=3ab4dcce32a21073&fccid=b86cc58fe503a776&vjs=3\n",
      "https://indeed.com/pagead/clk?mo=r&ad=-6NYlbfkN0AuWpd06JaTHFjvTB_5q6-0gBNCyrzTNez_CNw5GfFr-VPn3PdQ2d2-4L_nDolS1UDNbdF1Lwo-I4-bSaerd4ZWCD__x36b_wxaQp5jegDdH0EP_LtJWy4mAN_urlZGjRhE7qtk3P2vmSVHV8Bvxf8UpNI2TkDc7eyLrNXXMTrNDUWKiQ2cHOi5lAjboVXydeUI2TS21U13uIi3QHvoS9LD1tfpw7zPRT0Uuly6r2SP7ItxY0wZJAvfJ9WzegD-8_zgjcEYUQ2Zd5hJadFNNZxlbZZZSohr10q1cgvtToBO5eUvT6x5urzFa0iEff67cwgY1F7VfcLw6OKzDsra8PAcx7rZH2dnFrjW9Lb_zTWDzd-CWQb2w6srJNf0RhIkPKAsitZn_ThfATp6AhICLYZ5i3wGDVyNuhdNUbxWo5bGP0PNVQqxrorBGCUIAzbsskLxP2NotVNx--g9onphEGBm5Kj-s_Hzwt-IViQvtuW_UGv7hs18Zc9V93tWJVJEvzu8UPwNGPbd1R_N6bDlMCfYdYs7SFJ2Cpm-7xz6EGlyhy8unbkWu31PyGBJDj9COyTkSZdgiQiDc5IYRvYaWVM6f9ahgqCztix5zHT5Zd-oWPbNbHWZ0ySHjcm3LbNakEBnewz8VitoQ4jfT2S1sJbeLeI6crAOgYeKtH0qC3jsEqzgGDFlfKip2si8shcmlLLDUDhoM2KkWr65o-zf8zBS7VFGlG74N23HJ8Qz-XlXmUdBWvE2uhsjgCPrZZnbTv6tiP0IH_-2aM-wNh_czGBYgcnmqkYbw75jq_A3uVSC3_GGtIj8MOvjtn8TC-lgfCT11k4rrUmuRcqMn8U3HpHL7NQww1vk0yaOt0di163L3y9bi3Ul6FgHqUatSvUhguYUsVNGAtXfdy6Ey8gVenzBAiZPvnzOFb7rBDuP6VxTMA==&p=10&fvj=0&vjs=3\n",
      "https://indeed.com/rc/clk?jk=ee53f533332d94a2&fccid=f5d08046ad3a7050&vjs=3\n",
      "https://indeed.com/rc/clk?jk=29bfcc790687f2e2&fccid=d9e7c4d795860e0c&vjs=3\n",
      "https://indeed.com/rc/clk?jk=69aa1ac11134552b&fccid=dd09fe3b43125016&vjs=3\n",
      "https://indeed.com/rc/clk?jk=5bfa40d7b22da406&fccid=c9cd3dc1c74035d6&vjs=3\n",
      "https://indeed.com/pagead/clk?mo=r&ad=-6NYlbfkN0AuWpd06JaTHFjvTB_5q6-0gBNCyrzTNez_CNw5GfFr-cT3dCZgxlbPDzYoQhbCbDXJHzViB23zIRK1XohOFYZn1oD6rfsujBveTXMz1JPOwTqreGA-qhe8JMjqxN03DmRC406Si8BV5eLEdQ-NkseFdP-gBQDd0ix8PmS4TzmLJ14eaRA6y0gno_ut-DZVQbAJDMguTgMLTQtJFor9nvYxruF0kJtQc-va3t2dQjRvzIHeGSPJRDI-yywWN7EXHgV_RTsPRRIB6fAeW5LA1VmKoGYlEhHw0QLZQOWrh0u8fI0mJjVBf_XE9d_sGJDhY-ytCf3BiFyvvbplenwW_4hRbHewHRxYnDSH1TQToqNrcV14EF9-AHafocKVltjrA4kwjcP-mftlB-rM4AApcffBvTLwZ_-wtx2Bu8MVRhCYsZqemOkTO2Ykvz0eAqJ2w3uymYkYlav9oDzFlGqCEY8vkFEYbYZjAZHZ-wR--fuEdh_tGIN0VwXajsbiP5YTxKRLVhg0uuH6hFvkMHwxA_dNOmW1O5g-GfFMEc8AlvGWoNnp50aL-xzfs95X_mdAIgxKud_TehU2Y5fQ8NUMzgo5z8sh6kc8sWfQlnb9RohK7jrzfo_YjRdhMWLviZZFqc-VjpsmdlFJ5Bcr77szFUsbWpsGuiLLX0sJRQ6FPu-VVo1nl0hUbgaNvPRCEgYIkf4y_hM_T2IE3fnmVn7YJSrlKHJskuLqYJ8r06_eRFKZxc7nx3xMrhC4Y5K4UrobpjDhLR_ExT_HcFi8OXHRRzpbXwc5iqpc2TM=&p=0&fvj=0&vjs=3\n",
      "https://indeed.com/pagead/clk?mo=r&ad=-6NYlbfkN0AuWpd06JaTHFjvTB_5q6-0gBNCyrzTNez_CNw5GfFr-YeB3E5TQjGgRpROSxApPatwKFiSFH5eoNrOtZGmHnKOU-iuVmPMPoNonZcUZMAUnCe8x4eu5Rqh6ATGdGCqfg63K5Rk7abFwLbWIzGy_2BqjZ9i4yZmMVj8GsEOgRDn86TbSdrIuuoETGzfK2SjtnbsWWJmFxpgQY8Fa_4lK-DRb1ifSieYgOUDF0lPxNHL6onJtUVelgcsOaBaJSuKrTb4WG1t974Kfl12qZ-tfeuLsU0yT2qqvmqI5q8y0Xa3Jh06W4Cvw3ldnFDUfSrAIJd2LHHXrXhwpOTIeMo2tbthCLgUlpltMFjbCYnjWmkEHIEJNLbK8WMyIyQRmCKl_EgqkzaDpWqOCks72rV6gXLHD50KlmJASK1JqF5XGn1BNldnMdrAscoYELOWFDwvjYECCSmZtz6WWOLg4yAw42SXDLpKxKTlxAWsxOGqlVr9-ORPcJu1zJU-PHww6O4b2JpXsvj2xX1ZQ2cfGfrY7DNP6b_wnJbgNnGa03TSo5Zdh_CdwRVmP2rkoEcpZkN0BOZ38nJ1_-ksE5knKPqC0OR0NZTaP3kJTOweC614J6ZBEH1M6x57Y54V4EsOYyCL8rXFmI4tIrcHR5J51S_DaRWUIhiYA2h_HVx1bB98E-tzJ3e48U9P3XUreiL0J_RkprQ3oJdpvY4cC6Pue6Un3KHyDqp1vTeX1RWOQNH1SdgnCEQ_FaFbRWDgcEWvNjtoBsgV00ikwBhVMHHi8KXyJDN3bI0amgk9L6s7CPnjFzye4mS8yT1CVKcfK00MWKfbtaeLaaDfA5NIBoWIyXa9j_VXxrmmwY3wM-ZPUDtgc3CvviDtouBeXzuV&p=1&fvj=0&vjs=3\n",
      "https://indeed.com/rc/clk?jk=4b4770eab0b9a23b&fccid=f0fef8e754773bea&vjs=3\n",
      "https://indeed.com/pagead/clk?mo=r&ad=-6NYlbfkN0AuWpd06JaTHFjvTB_5q6-0gBNCyrzTNez_CNw5GfFr-cT3dCZgxlbPDzYoQhbCbDXvrKglXcqqmhRq7l3XLsNP032ZvWRmkrezMaSyf4KWnG0NfKUTp27MmFBdinrQeHftjK12Vyd9iQUqRQw8zLBg73X51Zd0YLAUDXuoQr_SO6O7IakIQYYtOIqsXTzRZFDxgpUIg49lQFoSxFeE-7mF3ySdHVDLsXkvVUmj4oiMiRsSVGMxkVyhdi4h1I0hqOcFqrFoerMNCjxIHc_A82F2jpijUW4M8YNJZSU0C656UognC9duPZDPnBzR4YbQKxsk5SngDMrVBiqKjFXa9JwpLvlfZG63adXEnAzgImlB6NQlMoBg7xZd0jbVHI5gbkhE3mS16jb-Q4XblSKnlRLcN2xyEBiHCI_QwAGbky30traoN9amGlXZo9WblFu38BOVrqWBQEZC3-x41_1kSagkmzwD1LQqyBXyeBal-HLpPzpoGept5ZsGh7UUjXH9X7V2FeFvhMzoDRKZMjWzmDpw8qd9DCeWaWsjlFepDSr8YPcGXzit3v3YCTgzfACfcIGTTX1SrKXHxPsqaO36pppfrMQMzpspSc7O7QMuEuMRs9976wDe4POPVWR39l3ERTKdnLeLJbB3Cd3yx5V8HxN-GL9gE-kqzF2yTR8gvPHhpa1k-R6OqOVcQQ2ODjTS7d1bn7DMRt7BaV72PrBb3I6dFMOoASkN2GroSwbpZErbmIBEUP8bwpBKEtq8WS_wej6EuTVG3bQs20GIaZthA7pgaL597lVOCT_bFDhe1P0C5g==&p=3&fvj=0&vjs=3\n"
     ]
    },
    {
     "name": "stdout",
     "output_type": "stream",
     "text": [
      "https://indeed.com/pagead/clk?mo=r&ad=-6NYlbfkN0AuWpd06JaTHFjvTB_5q6-0gBNCyrzTNez_CNw5GfFr-YeB3E5TQjGgRpROSxApPatwKFiSFH5eoPhnJTxrFhQiKN6ujNzPkEVQhacvCoo9TkZp3T6bW7DRzC7mvWL7Ev0vbmddvxdax9s3xGoEnyd3qqexy9oMG4PJw_hY42AQotfNESEMyrSWpjTap81k02qEK9LP5G3aCH3DzuuWWXgWeRB9GKFnki3XyIw_xHBF5Rzm7PCe1DpJBPbpbsW4SVbaUUhdmtDgFe0r67pXr1rtJadELdlhx-IKSooS4Cha0LnRkOy8S_CWm_pRCyLlsJUtGKm8J7IZttCEath5ads4LJO01oK57LQWL9m2dpn0u9NK2_CuJgis198XMNzlYlNN4m5nUCoDvQ8gauzDyrwByAe45FeDUVlxu_bILtfz009rjnfOwCsNxPIpjKKtWQ9z0k8t0Nt6MkZUvVtKP69taMXg0FsYbp5YvcadgHu6z3VWP4vbXSeDjaGJF2HxhWVU15Tr3q1QXL-XLHzXGPvEx3M-SYJplawo2KJT2XvcOAFSs6SiFRr-TXPIDQ9221-kE4vSPys7qrzGltn54rDtBbkm52VCo14H6cYV5-tk4VNVh2e4Z5lOGaFWWw3PUGvcrdT6EX6Lyk8S_3Bx5NL2Xh9EPd2eFfV_wVApjqyzK7g1OxgtIuxVXVozlWguXq1DpaU6krXLaAlakSq8UgbsAXcXnMIiGQQKwciP-t2_yuxbgkS6MM2rekJKUIzstCCTnZaxOgd3dsqPJwEGtrVc9qo0d0BdavEOVHALAYwy7thKo-PSFZZ79gpuAyHB1FODIdLeDTsWxSqmBjoTAdReaz4WIkdlL8BPhHALiTty-yr6IGuWnNbqKs-LGRxAPCY=&p=4&fvj=0&vjs=3\n",
      "https://indeed.com/rc/clk?jk=5db8a3a32196e58b&fccid=e15d9e27876d9dc3&vjs=3\n",
      "https://indeed.com/rc/clk?jk=e9233dec1403d4fe&fccid=b86cc58fe503a776&vjs=3\n",
      "https://indeed.com/rc/clk?jk=54d39b1ed7e10001&fccid=0b0c8ac652bc536c&vjs=3\n",
      "https://indeed.com/pagead/clk?mo=r&ad=-6NYlbfkN0AuWpd06JaTHFjvTB_5q6-0gBNCyrzTNez_CNw5GfFr-YeB3E5TQjGgRpROSxApPatO_JBaRnmHwZd_s7qhSZyngqUQIyIM82-h5leFxEyLfTZwCg-YcNHFo40sSCj26izHCeW8WKnn_tX9Nktbem_PJf94n6arHn2iByzxlfnxnyvsSsovIvfJ99tXBZFm3vfT_PrVk04IfMUpMf5aDO5HFXw7TPeKaQ7KOQd4wgNNm-_ve-4p5ooV0ajuzYySqitdFKPUeIipuZ7yN6ZrSeTquwXMRMgHPJabm4dMrO8ZPfQxGr8-7Hk7VOnJirXX2xAcwU5c02zvXv5W-SYrS5OnQsafV8Ns3M4oEYmuitxB-YlEp_EhZpOq_NdMNLeo719foLFxZTCDLypaaoBebFJ16q054UlvXniSJnN3O0pGU4qQWkQqzPx-PzY6PFlTHKH9BJqVMrXHTIrF_4O_N5vQtnPj8l9yS9bI9-ARipCp80i4-tPE66v43s7W-E7aHdpRmrT9_5PDG_IG9IlK7oJHP0bfSGGDnDYs10SNocqib3xI8es17oSZZw9DszY99nky0Uvws33vxBa5g6kLPFFxo5TtFc9r2EQPCOFC7p1AcdRr5cRqfIoAstQf9gV9R4ITeYBwKlVxD4hZbJNf1dUoje5QFcEs8IEZpZwgG2CaEw98xsxp-PPp9CQenf971urXpJHiAvGCoXp0J2u4VfdjaI4g5YZflldOiVyBx_TbiFgAQqBAjiNbpz0eXYcU1hpcerDArJTX1MgJwk5nipSU4FJyuf8UtjX84FHiB-JcADeMKA7BzlWLhKUQJiUig6NmtTkUXfNRAkiTDd3DVQ_x3n7mlcTaCzLIAwixgiPWxQ==&p=8&fvj=0&vjs=3\n",
      "https://indeed.com/rc/clk?jk=98b61a88d19542ea&fccid=b23544e3d4d971c0&vjs=3\n",
      "https://indeed.com/rc/clk?jk=5c65958db753c9dc&fccid=4a0b0aff4155d337&vjs=3\n",
      "https://indeed.com/rc/clk?jk=9cff896c4eb9f118&fccid=b1ace17c9d00764e&vjs=3\n",
      "https://indeed.com/pagead/clk?mo=r&ad=-6NYlbfkN0AuWpd06JaTHFjvTB_5q6-0gBNCyrzTNez_CNw5GfFr-YeB3E5TQjGgRpROSxApPatO_JBaRnmHwcCJlplb2fCYpsu-t7nwZEjx6QiItTrM-7h0JNOuUj8UxhfZ3LF9HtzdGEVWEL66Qbb4wO59LiLpKQsAjqmmhIUfBzChoNedDYowIZdpUb2If6PE5b-TWhqjsv5HOgbw_YZVhT7_7EpXWu_lnyqHqkaCfJyaGCjUYL5wu8tZ3AKRTWJwP9xIbTsk9x40LhJDnvu-xSh6zDw6EMFHjTNLFgR3JO4fhz7FiTQFT2uRiJFNP2J8le8wwMTA7jqT2XfBO-iHCfqkb6lXVslFuQDGMN-zXSp4LYfYB6F8gmpaVRqJsKnsVeZMsdq5iNK7ThBOQ4txqwIKREvVIBD6bLfrZOE0fAVrRqBM8phzeE1uGcJO5pLiCx5KwhF04f2GbBU0vQjRMSx_kJFYNAjRVwh-dbPVryGziSsrJpwu4gdqyFvunAVyKAah20eZ5Ff5x9TTx4oNtIsTyC9DTIyotDeCMPauwqVIEpzWV1x7snT0TsXByfZ51Qleg4UmwchIaP-yU7xtwQTcAkDJb56EzCUOVx_dYvMiS_eeo1kZjWI9GobSDzHWS3oTiJyrrB5jorSlfPxzIcMukQLoqjMKKRuKzJsGFPfe8r0XbUouWU4XP6PBj19KdaVl2veHdpepHcsR2S9iKybGmW8hWL3CNkcnfmjV8qqLx06-fMi4l8acB9uak8ciavW6bJy7-Rxk7lE1VLsY2ZH7YAD31vqciwZ8cq8fM3HSXCstJ2Fs7om_TPYgqr9XuKtaUqhj7bGEthi_kw==&p=12&fvj=0&vjs=3\n",
      "https://indeed.com/pagead/clk?mo=r&ad=-6NYlbfkN0AuWpd06JaTHFjvTB_5q6-0gBNCyrzTNez_CNw5GfFr-YeB3E5TQjGgRpROSxApPatQ7DrEARqfkuvZcrGKBs3QY8S4kMfLWVTn66ZjnLgPqio93wE7BFqbJtzVwvnr5VrNiNw_SIWanwFM-xqJyNgDXrfPyPfaxUrKFaB7UdTggkqxiEmZKxbUVqSCE7eTDHdfUUYg8FUqGjo3CXQnCRyJRRRq82rG9JQNAM0k1M6-UYFh6PdFcrCXjhEZJopMGU_7dMZF99mG9knq9hDBICXjAcaoUzl0WBx0DtqBcHPe67-w5TGLLjqP-ZTCnFswsjxdr-BRJhSbYP3YzS1yQkLqrL3DGUvDHF1QRLwZuFRDsk2CDqm9_9-mQF1_6t2Xoub0uORgeGJhE4DrfEjLpPhKeO2d5RGFybT2DRQGICsgvz6qiR3jyN_B_3znHb9rkm_HbJy1bvz10oiLIplzyv7rmwiyw1bOnKeMSVclZRRk7gqSRiC7N6EVeAFJdY2NfPDkKRW2mOyGdyXUAfFnYEqkOBE4xCPH0vnsTggSQLE-CRXTTESwhMukegRJUkCw65vzrLcoLXu393A60oZnHj5agbflOAfT1135Ep29ybtduLQqcWhDU8FZ9GL97RJup_5Y8nuZ9C_ytgQfRN-PuKfDpw_PFbX4897QIAUxQbEPET9qKGT1mnzfGsPe0jVVeY1fFrrVMaEU0oUYm4MbNyIoB2uqcrHmGQONYTKbn1bhZkPzYvIwYgCw-ESXGQMEpC_BIawPr96RRKR04uadBKGZBKfouUVrmG4LysF9Vq6F7jtcgr8aJQ5-7H0fbQRKLQ8ouk06jSjMOkcZS7Xd4Bzj&p=13&fvj=0&vjs=3\n",
      "https://indeed.com/rc/clk?jk=e06199624da890df&fccid=18aede4cad36815b&vjs=3\n",
      "https://indeed.com/rc/clk?jk=b4f66e647c005d53&fccid=e2dec461ed53cc03&vjs=3\n",
      "https://indeed.com/rc/clk?jk=0e2643b3e7696a6b&fccid=cb35497bfa97ff1e&vjs=3\n",
      "https://indeed.com/pagead/clk?mo=r&ad=-6NYlbfkN0AuWpd06JaTHFjvTB_5q6-0gBNCyrzTNez_CNw5GfFr-YeB3E5TQjGgRpROSxApPatO_JBaRnmHwZd_s7qhSZyngqUQIyIM82-h5leFxEyLfTZwCg-YcNHFo40sSCj26izHCeW8WKnn_tX9Nktbem_PJf94n6arHn2iByzxlfnxnyvsSsovIvfJ99tXBZFm3vf2gjvbPuhTeA3Wd1exLugABOp7USnfTEha4B5k1BnTOqpi2cbFv9MT7rUBUp5puWo3pDnSmY_uRFAWw9xJ4ZWgOW1u_qhzbv4z-zxL-L9b7J4QWWia9T6FK1m1iy86k-k916ZWyt6l-rYJfnHCGMMoeDzGiHFOY1wM-mb0IrdEbjnkzyfFwOcD8Rtwbsd4QpNcdJjBrBpo77XCLlBi90qZXYkrFWvYeOmP6bCiZhqIp4jT7jlP3RCKG2ARLNJYjFR7TWJuhSK1xh4Vqan1aHPqytDV3hfhgUBbJ0naSai3IgodeBo3SvXDob1lHzdOPJChBstNE7AxocpgWjRMAokpbT13zsHnOO1_gberZRVJmB9019sWnVOpViOLECVPuriZBBzESGhhr-7fML6pWG_fhrL5M5oNw0kmKZtiG9C4qOi1H09HTKkTGF-MKJMCnbce0c4fhWSzAn5Loc9iPfPOYrkqyiuDFc-UyuNU9_WOzRKzwOD225iIxxYWWrRFtLkGqZxi2b-BTSc5SdcvrFiarS84IEmhcz-gi6xZXDdXGz0px-Ym8svQl0sOa3ohRqANyE2envT4no4oZpaUqkw9Fs_5tGlyUD89_qeqZHxHvLDhqdTi0WZ6H2o7QjZFB30DYc0L9xdzeqpUYsNWZZywFolhMCQixSQfBjRngzQnlg==&p=2&fvj=0&vjs=3\n",
      "https://indeed.com/rc/clk?jk=b72bc6d01ae61603&fccid=47eb5566bdb40cd6&vjs=3\n",
      "https://indeed.com/rc/clk?jk=ac98bb49e52f8bad&fccid=d8638edb31e67885&vjs=3\n",
      "https://indeed.com/rc/clk?jk=36b2c75c4c625aab&fccid=a5e90780993347ca&vjs=3\n",
      "https://indeed.com/rc/clk?jk=5ea2078ccd4ba982&fccid=b23544e3d4d971c0&vjs=3\n",
      "https://indeed.com/pagead/clk?mo=r&ad=-6NYlbfkN0AuWpd06JaTHFjvTB_5q6-0gBNCyrzTNez_CNw5GfFr-YeB3E5TQjGgRpROSxApPatO_JBaRnmHwcCJlplb2fCYpsu-t7nwZEjx6QiItTrM-7h0JNOuUj8UxhfZ3LF9HtzdGEVWEL66Qbb4wO59LiLpKQsAjqmmhIUfBzChoNedDYowIZdpUb2If6PE5b-TWho1Rm0ljPEzNZeb9CjlcPIqFAGp878NpjCuyiYNS16ykzEFi4BJhqT0bKxHNxiyDtJw05EpVIarB1qHLwYrgq3YuPwejwiCJfDd1DxJSStmYvFgabzok8xCvTs48FhsiBhE5Y2u1zj6tuZw_rGrQe_hyNIsNti1xaGs_U5ST2Nx_uZreVLQ9O1dKcSL7fqY_6lMVIiKhOZCIoH2DIx6M0he4rRMpS9Lf7iapFsans487hQnAzEyB7hwka9elXC_qeCRZIcLYPvPv_FeJSi_iWbgvPJvGId3vFySWCw3TyqT5xAE-7zFzHF-mkjpXYFJ2tp3DP9jAgoxPEdYBDxt6BjVuHl9Bqx8aQU1i6asdSsjo7FId_ifco-kGwbNhEupimfXl_Y7w-u5TcsvLLcj21cxsw-hS29zFy5sjfYiyWNW6RKRCU8R0Xsdn2WagwyLd7xr3tYOybx2LPHZJ7zUIuJM7ETrR_TJPY_YMS7p6fKOtWwY6Ii_wSMNuFU_-Z4Fd8YHf8TrvA0gwZDbQB5O-mQ8WM8egES73nN9kZDeDkadq-kOR3fX5aAZ_9gUAXobSFdNUEQPx16Sg-bQqBEiIHHJO4MIk_2Ep24umuY8FaPQLMuBv-J1JzbfrUtecAHhY7pXjDMMB53PwQ==&p=7&fvj=0&vjs=3\n",
      "https://indeed.com/pagead/clk?mo=r&ad=-6NYlbfkN0AuWpd06JaTHFjvTB_5q6-0gBNCyrzTNez_CNw5GfFr-YeB3E5TQjGgRpROSxApPatQ7DrEARqfkuvZcrGKBs3QY8S4kMfLWVTn66ZjnLgPqio93wE7BFqbJtzVwvnr5VrNiNw_SIWanwFM-xqJyNgDXrfPyPfaxUrKFaB7UdTggkqxiEmZKxbUVqSCE7eTDHc646Zj_Bxdea9u-0PlNscmt4rH0NToh4Qtu-yz9PDW0mY_ProphcUHYd_rKHGGppY3_cCcurT1GyaUX3h_r0xyvXFZ59I_8LVnoVcUPMyLaXDwvYnoEBxjrixNaqLQV_MSZrFI5TIXNdG2cXJ4tQ0_lOyYY2q__d9dJ9xYDEja4KktPhNmI8cBUGunddlOTZHFz6WfH7iqgFbGbjNgKw5sPPHGtON2Xq5U7bAVr5DrM6mlN2PHCbzPhCZ6Nei7umA8n2VWo6aKUr9S7LcG4mPs8bfC_amP5hhXpuHrZhL6HuxngJylLEz_skdhxpAKEWWlBkIbLm0I37fe-02mXJTCaM-BBKL8kc1WbaMHXJQ_bytfbM3fWpRpvTwinlGiX0snmgtd9FZ9QyXAhotUp9PfmIcKuO8z-S4zR9_tKe6lye62PKuVPepbi0mlPcjKm0MM36VXmA4CqiJ0K0rGnjRB87r5bfSsPBAqZEcJ4sF98BalzCrpaqO0o2ffmAdDYfuoPJI0uX42bqB2hglrIUyt7HfwXTJHkcApmWXSTWeDP5MbYFeqmty-xdQknN8ryct-s2IrrLEtaWWvUvDoRp-6KsjuawmlfJn_g_qbiP0CTvbFGfUCgX8PQbazLg1Zim5G1RkSzJa3gYZATKfGYeZ6&p=8&fvj=0&vjs=3\n",
      "https://indeed.com/rc/clk?jk=be111e798ef5c556&fccid=f8a36c8923599d32&vjs=3\n",
      "https://indeed.com/rc/clk?jk=dc967e8b8d07b827&fccid=1d79a4290fb70d8e&vjs=3\n",
      "https://indeed.com/rc/clk?jk=80dc5d80c129b38c&fccid=877952da35b7fada&vjs=3\n",
      "https://indeed.com/rc/clk?jk=90cd1f0bc5170263&fccid=0bfc42f123844c30&vjs=3\n",
      "https://indeed.com/rc/clk?jk=b7fbeb54e53d1e7d&fccid=b23544e3d4d971c0&vjs=3\n",
      "https://indeed.com/pagead/clk?mo=r&ad=-6NYlbfkN0AuWpd06JaTHFjvTB_5q6-0gBNCyrzTNez_CNw5GfFr-YeB3E5TQjGgRpROSxApPasvEyGu6xYO_YlCxPaMqMamdXNqrzJ6mf3T2bauoTwCTJ7kxlgClGxw4Cujsdl6dT0-ipzboW3btjKgVh3TD9Rn74quYvKT9tlQZKAtNcQxaQ1_YXYGadfPUCd-QeBHmm6Rfy7B6E_QeO66pMxfcwGlIj7vib3mUxevWfgftKTB5Qgr14LKtmPJdfY1SI4mA6JwarnAKj1iDfRgDmLcidxfLmWlsDSlYTZGikoSUIHHPlmJpA5dULuFyTihaASgc_BbFik4XRltmy7h_qA70LSzNsGUBSlyCtDgfgjXNOVtucJuq_iZXjvcnYEkrD4IQUaDhG_GQ1sr55DNTn1qAphig1QU41HopybDKN5J8pcNk25dMuGizEm0IT_OA0AC48HU7HCZt7djkgN12Bdjsgc29bzaa8x3LmX48vvUVfEFSwd4Ai9PrqZ3WFTwICgkHSFvsaYm__qujzmr9c800vHJpdUSn1EtcRLTjT4rdKPN0xFvsY2CrF8MwdyXcIlHqxVUXqWZc1ANgTmpFKOrd5r5sWsuiGcPJME3TwssfgBYcAdjJ9C6j16Qr9XRlpbeqQ79G2Io54qkt39_diMOs10xsbG1mJ2-tW_sQiVMTJTnlrL1FEMq2W4CWBqmOOgFkeozR2pWPeExkt5V-iKOJWdAAD24GMmRsYAIIJ5gSWu9bKfHwSR_qVhnV0NZqMwbX4V0pJhl3mWMCOlLFQDYqLF0xk6hkCZyKlTDGM1iwhqKFCimBAEOYb3VvCdeWlz6ccn3gGtSwPE3pA==&p=14&fvj=0&vjs=3\n"
     ]
    },
    {
     "name": "stdout",
     "output_type": "stream",
     "text": [
      "https://indeed.com/pagead/clk?mo=r&ad=-6NYlbfkN0AuWpd06JaTHFjvTB_5q6-0gBNCyrzTNez_CNw5GfFr-YeB3E5TQjGgRpROSxApPauxoNt29LiPsSHb4WHxszt0GLkwYsYrt98fQ9JmTxZ9KIw28ZjVI01scz2TaNQ2Q9TRs85OWpB00e2OCZwydiZyFN3ue6V0uj7Vkxa8hhLzwldvrW3NhILvscHI5swEILE_Ew1tHQmly9vqBCL4QFPlteGjJioYSoZDQ2GL60ZPUsK5nswCbdB041cKHjV1iL_luDwiRvVJtfJyrtKlRooy6_qyZFLGCu9uQCL9d-l3zIjinR8-5S8hqEXvhKDmtXV2vE512QNu-UXCW20TQcRRvmgJudehq3lYF66cLKAekdPjqnFLLpQxJjNuPDJUrCNs5YK_M1crEZNAqHrt19m2KjINTjbGJDDL7aR-hpOIK70I1gH_onuVJ-eQoGyZ2ZrwlOC4gvHB7wRKIbgZ_U1i3g43IXIbCZOKTVTuQ9ZdqW9WYKMGd5OpSmHB0ZeXcz4HRlPKncCzujqBie_HIdhykSgsmPiYVcUM8oW3iU-P8_TNhrXcai5WSioBnelIiPtZsuZIbcyepoFHlYQGXetEZccgc611wvblPrJLC7Wl7klr2bsprKylOvpPeA4BA2jqD9WvUaBqeBWeVGoX8Vj6EMNBulkRmWRiLhV9WfkPqd5BqAlwtWlQ2eP-nVSQAChQsc3VeQewJzXOvRfwkirNynW0pM03rrXRvEAm4PH0LUdMyVZYgT4FqAr9NqNCiV_9ecCWynyrYJsfKshzKVouGSj5a6uZv84fBpthGuQkYkFDYexa5oLwtgnLJ3GNbIdowgKXEVdNM-uudfaJVNVD&p=0&fvj=0&vjs=3\n",
      "https://indeed.com/pagead/clk?mo=r&ad=-6NYlbfkN0AuWpd06JaTHFjvTB_5q6-0gBNCyrzTNez_CNw5GfFr-YeB3E5TQjGgRpROSxApPasvEyGu6xYO_Y9GsEK4y8skKLH72pW6KJbDhBoyDof95eX0SQsYwKAmy5QT-GzY8_U37u_x7ZTpqR4tkJr80LzbyBhKXE8gsWzCJOMZ70licrpVNV7r98jfH2UHMiQec5qvzUpDi4iUi7NcbcbS33SI4RmMCDWjeca59WhCPPf5MI88vHZCYIKNNGFIsOVsmIHpzh_wqVBHHhHD2Qxn7_DILrQRrYkoRr07D-aQ1mXTF_AquKOupkApvvPSeDvP6KJxqVEEM8Dk9FSpTTB-rhfOXcmzbpY68O0MyKyC8iBiaEFPKvHfBAV4_MCVvrEIYIvwphp6FMpRZ8hw-X1SVl7pVhSmyW0v8kHf6I09mQFl7KD1jzMo7m5U173Cx79ib6ny7AcunHwPKx-sEe-f9LnSCLtPfKJSe6_SjZjGjOojxHxO9R3nM_Ld_vmm8e5sM_zuwhnVAOUiw7vdy2jMctfv4pJ1UsIVS7amEF3ZWY3Ygaf4OF1itfTzqJvTA_LcKW8MDOYr3l2WTsB7QtfbVVKFLBr_sOPjax97iQzwDww2rkKrJaiXjHQfx4Ufdgbg5a4YY1TntYbVMtAUK3yCMsrDhSC0BhF1ZCTSJ7YPNQcyOT-PyYZzVQCKaQxXUOMPu4nU0he6ucZupDzDlltHRnWr7mOaZ6EHv6mBL4_Sxr5nYr1pm5YLVzr5Scb545FA3YHFqtneXuXMeHXFKPtndQIyd38zQC-BOw8=&p=1&fvj=0&vjs=3\n",
      "https://indeed.com/pagead/clk?mo=r&ad=-6NYlbfkN0AuWpd06JaTHFjvTB_5q6-0gBNCyrzTNez_CNw5GfFr-cT3dCZgxlbPxJN_mAbWFWINSvW8ZmD1V8sh1eFnB1FipxsFqWCyLQlbsaHAhBaEG6sIpXJc57y56ODUTZuzdRVwWPWHMZqP9Gbz4ia0ehaDxi4CSls3WXSTQleKBIpYosChG6939SiBXlAh2P4ZvJygQ0U6DMwywihsItsFiU2UBheq8RE0vpAQp0rshbAPMip5wGN6X2GPHY5tJzGA0E1pnK6BNJ-GFFqx1dVFP1Ii0GTgt9bCgwioMq103LL3H6101vbeBlbmgc2YLIRyD_oh3ZLY5Zv_eOHpq7BgjpKJXAg61n5LhbM8aksQeU6GQzWf8ww9NOnmKzRMUM0nFXwUhNTW-N7tORfyh94QRf4kc_5Ovs3L34yD_Y_Jmld_qQiknoTaj5hbUfpaZ4HJSVU9HjfYcYasvSUQ44xguTIFv4xOMPrOCI5jqWOF5FnvwdPOTCVTY5rYB73cmy4ZYDiM3sSIkG6oNcdm9wPTE_CdcbeJv3g-DZvXGC2Jd95cUsaaNDESQyN5Ym_SL9K_ZgnaRaziCu4JZvMZasbOi79lHGVXS7xxwDZim4JDayz1T5SzDhulf6U--AVUL8HglM8bAPxnQvpdmLBfCxEc2K3xXjN0U8SKDdozFWpH_He7MZjD2EOQCwDqKoVoDqSX_XDsbreoYTqN0lsF7HEBcwdCO05tZaZLyErDxQ3hJGm08vVqbX86gH5OIT0evLEUXm1H7qcq0bUSCBF5kr5yf44OgYjn_8CDva8zW8-wVR-Ttw==&p=2&fvj=0&vjs=3\n",
      "https://indeed.com/rc/clk?jk=ac98bb49e52f8bad&fccid=d8638edb31e67885&vjs=3\n",
      "https://indeed.com/rc/clk?jk=36b2c75c4c625aab&fccid=a5e90780993347ca&vjs=3\n",
      "https://indeed.com/rc/clk?jk=3c1f6a0a47749e55&fccid=b275ea4291f41a9f&vjs=3\n",
      "https://indeed.com/rc/clk?jk=5ea2078ccd4ba982&fccid=b23544e3d4d971c0&vjs=3\n",
      "https://indeed.com/rc/clk?jk=42d03dd2df6321f5&fccid=8551934fe989cc94&vjs=3\n",
      "https://indeed.com/rc/clk?jk=be111e798ef5c556&fccid=f8a36c8923599d32&vjs=3\n",
      "https://indeed.com/rc/clk?jk=dc967e8b8d07b827&fccid=1d79a4290fb70d8e&vjs=3\n",
      "https://indeed.com/rc/clk?jk=80dc5d80c129b38c&fccid=877952da35b7fada&vjs=3\n",
      "https://indeed.com/rc/clk?jk=90cd1f0bc5170263&fccid=0bfc42f123844c30&vjs=3\n",
      "https://indeed.com/rc/clk?jk=bdc73d7bb66df9b5&fccid=b1ace17c9d00764e&vjs=3\n",
      "https://indeed.com/pagead/clk?mo=r&ad=-6NYlbfkN0AuWpd06JaTHFjvTB_5q6-0gBNCyrzTNez_CNw5GfFr-cT3dCZgxlbPQRGEcFchKcZzAYo7kjKUivYWOlNVWwHTy5pTtqsodZTH8V-Y-2zLqunCl4iEqapY8zUe-_5HT7ozqXoPBhXs7K11QJ8709NWU6m7S8fJCsk9R8q2kzLNPT6tqrMOgUvvRbUHCej7MzezzwjgyGfZUdyrL38QkgZzdjGOzA87Nm3fi7JOjkl8iG5wTbNH-U7mNTqGxQU0WR0LTc7yv96o09l89bYWDtKgnP2vs0T8q92jCoZZgvr2gJKuwKo-LM5HQzs9I8uBzdh7KA7qQzBJ06fxBfQ6V4lGEZkJFj4WrvhEp6yCUL6sZ1Mi5jAZ36bGlb8cFFReTFMnN8WtaH64_eUsm2uggKK-Hv4HG9dUYV3SimtfwajUw5Piu8PrpsM0WzY5_C-pQoj0KlD--fVKtr093w1HmDLty2w_pyk_QQcYcLehciOHyl-eZ14yiUfgW5hWyAyXm7SisJXiAcCwtcLaU4keYav6kW6vMOV-PizEFH2skMdNvrkBnCY8vCH7L5DqDOHPnJhRwxM25pnooxzNl6QfMsR9mmuDCSiAS35jKW2UtSA6d0U4JGZOX7-NE_08UMqTbLopynrn1K1T-eRmYetKy55bcU2HpISk7keehtjs0QE-dHJOYCzD0fpM5lSxJS9Zkg8OAXFbVuL3ykb51hPFHEFi11pDjDCFVESrDGREZ3SlpjGl2Wv--Vq_PVEIXUDc_rSs8biRwZ1dVg==&p=13&fvj=0&vjs=3\n",
      "https://indeed.com/pagead/clk?mo=r&ad=-6NYlbfkN0AuWpd06JaTHFjvTB_5q6-0gBNCyrzTNez_CNw5GfFr-YeB3E5TQjGgRpROSxApPatO_JBaRnmHwWQqwCMS5aG1Q6T-KWtyWFcxq6igeJLizrHloFP05UqaR0za9t4_15Rw470ECbgSL2RMH7-BH6KwU1OIJudVwi2v6AZpML2V4MAd4DreNy-ATXJ5YcQp0ESlRqskm3jQ7EB6nlmF04P0dKesI7dyVLekE3jpdbjZdwflOP4DX-6IVM-EVaIiS_BwH9XCl94NALD_j9d4UkgkuEXosLTEk0YgxgR6QzNTijNK2lisHv9twmLF4j99frkr51PP5_zrwdQvSwvW4htGz-BkiKLTZWDi8l_7cey0f0gGfZLk40SvuSUDT2JNEQGUSKasmhv_hb0KT1z6lS1KcsY3vwFylWYN8xfjd27lVOH9Me99Kw9C1hTcw130u7I8faokZzQhCeO1bsZczNaoKojPRKcBjk2y1MbXbBHVV_BlmWI-yPphZov_bdkfdnUSgTMuJ4-CeYqBcOCVi_cPGua1Rw8_qTkPbl9vR6bLW2dzQlR34yrl0-LNYoRo0I0YnbVuojQEGSI97UV8rngxmomhogYnVGxy1R9VC6y_WZl_0DEWWV2-ISN-Tmun9M9ZTpbF3Yp4h7l_2O20OoXGUm4zXZOaSJM2giYCPWkdBodhX3y9j8qMun9T442x2qSTY3aFoKRGtmmoNbS-K6QE6erOZ5ijK5xLJ1Rz4kEFLf53JxbJ3VQVfPutDpE_Wd4fjD4mVNqMEu7A_e5InbGv1yYyZ3tNEqfC46bHqw0F5Nprud-YonmJ&p=14&fvj=0&vjs=3\n",
      "https://indeed.com/rc/clk?jk=b7fbeb54e53d1e7d&fccid=b23544e3d4d971c0&vjs=3\n",
      "https://indeed.com/rc/clk?jk=4a7e39ed2794b296&fccid=ffd59adf1d750c0c&vjs=3\n",
      "https://indeed.com/rc/clk?jk=6556a14bbce2a980&fccid=b1ace17c9d00764e&vjs=3\n",
      "https://indeed.com/rc/clk?jk=eb49808e980e34af&fccid=28e5d100e91375bb&vjs=3\n",
      "https://indeed.com/rc/clk?jk=8d54f7e51078dddf&fccid=8551934fe989cc94&vjs=3\n",
      "https://indeed.com/rc/clk?jk=8ab4148643170ff4&fccid=a5e90780993347ca&vjs=3\n",
      "https://indeed.com/rc/clk?jk=7b276195002a8c16&fccid=42ccd87a2c182a30&vjs=3\n",
      "https://indeed.com/rc/clk?jk=c0445da1faf4a150&fccid=28e5d100e91375bb&vjs=3\n",
      "https://indeed.com/rc/clk?jk=7f5926e98d4388ec&fccid=dd09fe3b43125016&vjs=3\n",
      "https://indeed.com/rc/clk?jk=24d7b105a96b7e65&fccid=44c2916d543ef3f2&vjs=3\n",
      "https://indeed.com/pagead/clk?mo=r&ad=-6NYlbfkN0AuWpd06JaTHFjvTB_5q6-0gBNCyrzTNez_CNw5GfFr-cT3dCZgxlbPxJN_mAbWFWINSvW8ZmD1V8sh1eFnB1FipxsFqWCyLQlbsaHAhBaEG6sIpXJc57y56ODUTZuzdRVwWPWHMZqP9Gbz4ia0ehaDxi4CSls3WXSTQleKBIpYosChG6939SiBXlAh2P4ZvJy9V7_gcaKUmTznEYK6pTj4Q7ZvpGNnCsjcogojH-YCrqIg2FBCz-_fsGYA_TCA4DeGp0qPt53XODAf-c_2oitn2LLsGGpcQ1n4dG7TPy2XMFFwg-rAuOcnCm5bN3GRpTqXwgeQU28Cm8LgSFUEn3U60YeVCBE5hTR3ptVe6R4wbEjmdF_2mDPpxm6Ge_CPlAVilmniJ5tUl3PbE6JSgE0hCLA9yUAl4FUinDsk_RsLUh1xHiOL7u6t_d1edQPxGZul984u83Al9DZjSyXhsc-IgPzPzHibIG7CmZg6Cisfbvu0hHI_Blf_C2OQfj13ru9HeN43jxwh5i4Rnr3yRAWyTZhE8pxXcV86QnzlRXc7YOHctveQT6SlDQolQ9VScT7ZAqMvl0yre3LG0IdQlp2dmtPQGB9q5ntYGpdncDxDPCm1uJltVQcDlUkJiAibBm3_6Qz12lNrk0GJdTzf4WWv34d47xbs6VC_eCWas1n2vF3T1uA9wOlM_J5WFYUdDqnP2RfOz82L1NZ6Sru3sGQKwjsQ4LV5xDxK_zxNdKd6tuOp7rlOrUKxTbHAryPYxiJAhjusZqAtdTiGjEl3bK9Jl5JEBtdb32XSnclaIrYcTg==&p=10&fvj=0&vjs=3\n",
      "https://indeed.com/pagead/clk?mo=r&ad=-6NYlbfkN0AuWpd06JaTHFjvTB_5q6-0gBNCyrzTNez_CNw5GfFr-cT3dCZgxlbPQRGEcFchKcZzAYo7kjKUivYWOlNVWwHTy5pTtqsodZTH8V-Y-2zLqunCl4iEqapY8zUe-_5HT7ozqXoPBhXs7K11QJ8709NWU6m7S8fJCsk9R8q2kzLNPT6tqrMOgUvvRbUHCej7MzcdDjl9-KMKWdoRgq2gNB9dnQOIQ_mu3pCstELOhuDb82WZ9NtTZADmREmdZtT39zBD77-sV6v4zJCvezbqQWtPnJW3lmx2ft46tkGY3NUFWONFC_Ojv7FxLQLMjEvGM8dPI9t9iqAO04pKRR2MNbAn073AYmyvOShwlgT5hBMcagfwBXdRy0Da9KqdDuAdzUdO3UvY4RzGnrQEYXiHwZI7XIOg80ksvKN3W63APA8AJU3k5sZnjRyJMUTEzPegjXm7XIlsGW2DTBlmLd_zqPkhwfG8ANRSKEgmOEeqEd64jpgZqP3WjfrqG60rvD-RoxPUA9cHVhJaKK0oyelbiwqdQzgN2Bp9OqcH1Ldio2_FuB6SnUKUNgy3m3ZoBQjwsXXzntBIC7DBb4H-prWt69S3NhDw5DWrYbOOlEkJfaWYD-5RwJwtFEIhtMUI91FyjIV0vTXfj-x8QBIS_dVxyzH5hVBKueTG4r26TxA0Vvcd1k7MSb72HsHL0gdd3ppceOT0NBV3X56j7mSWHeSkr2_9Xx833cSoglm0lqSHKkVdknWLvucp_dGEk7l62I7BFegVyx0_4JWEKw==&p=11&fvj=0&vjs=3\n",
      "https://indeed.com/pagead/clk?mo=r&ad=-6NYlbfkN0AuWpd06JaTHFjvTB_5q6-0gBNCyrzTNez_CNw5GfFr-YeB3E5TQjGgRpROSxApPatO_JBaRnmHwWQqwCMS5aG1Q6T-KWtyWFcxq6igeJLizrHloFP05UqaR0za9t4_15Rw470ECbgSL2RMH7-BH6KwU1OIJudVwi2v6AZpML2V4MAd4DreNy-ATXJ5YcQp0EQSAGwv9lUSA7CEaEGH4ods78v9p4-H-n7JjnVt1odR8EyA_OspjpDkWCEI4K8ZSmOzntMrcdB_H6wsAtgZ0IWoLj-rqZZkp0XL-JbtgIp4tqUNqXk-6yTXl2VjV0PwvnTPsuL3NXbEJG68wB-eA1TtRtwg-crebYdYBJyoA6XX44GBZMbFm55aOJz4muo8LRUvURPz92nHKMG1V2_BeVYPnnHuCZDi45sqAtHZCnyoBNErf1pnhecJnKPd7kAfyk6rONkIkzpKNOpo8W94b0Skk2gtJblz0lhtBLxC5YfBhjsKjR3DGshREJkwJvux9pQtgtq9VdmLzdRZMAbAoXAiCWrDVgjQNaC0Wo2y4GPuS6NqZrqpem7Q3oOJNxJPVLuxfCSnV1O6YFvyaY1DsoU1J0HSTC2561JrvcS7Ty5qMbOBA7SO5Le-VnHCMwpi49oJWoFDh3yANvn4XBDuF8DtMWk-MOjQ3wgRdBsCSUeoZt5Ym2aZsJmOL9FXIIOGQzk6QHsfJFBmSDRbpI4VzdzGKn7ZaVXrkZUP2Hvp0T6GyowiaXMxNJbgE4_dPcvR9A-p_AW-RFP-HhToacqfoz3_54UeY5Ln6fshiHVeqA5mYn7cDsDMObLa&p=12&fvj=0&vjs=3\n"
     ]
    },
    {
     "name": "stdout",
     "output_type": "stream",
     "text": [
      "https://indeed.com/pagead/clk?mo=r&ad=-6NYlbfkN0AuWpd06JaTHFjvTB_5q6-0gBNCyrzTNez_CNw5GfFr-YeB3E5TQjGgRpROSxApPauxoNt29LiPsSHb4WHxszt0GLkwYsYrt98fQ9JmTxZ9KIw28ZjVI01scz2TaNQ2Q9TRs85OWpB00e2OCZwydiZyFN3ue6V0uj7Vkxa8hhLzwldvrW3NhILvscHI5swEILGj6Yu1IhuELeJ9MQ9z4jjUwvRf4rDVsiO-Sf7Rjy_bZ3pFJdTQbAkr-2inNxubvhzBHVbYrRxsa7xG-t9hzm31G6QYc3a0hWnsTAJHLgl4Hhw3R5zm7S9MLTN9OlXzvDPsurXyMk517UuJInh6quSXajc9ZDIUNAoB69aL6X3-FRTeotssVx66EtHa769897EgM8tb6ALqPV1P6vFP65BfVD7HBdvkANYYWjklJpjEWbE8KhHIKOxOowangIPCk1dQyMeDUxHDw5rRYxNvhcX2aw6PPxqrCbZz9V3YgvIsaM4UJPXl0lfgpsJEArMPYibMlzGuuSEPBWTBwyesFh6n0mV6zZWw_WezTZY38_MIZxf3VlsIZRXCxhv4mP5-AI_vu1uLs7cPDIVtP55H4MDn3f0TwMlKkrFlaD2J72jYrvuqAmJDv18Gb_KqGq4UyDfj9HW8GLRXtKpYpgWbZoRCSteL1d4ZopCkRWvokDAZf20j3sDqpxwlynQPKMe8DP8nhXgZJ6S3Hmzgbqrz1Suj4HodWDQqmTg0HmiG1mhNSi4eQghmlQJgkswvKWldp6SD4gdVXNdk2x6bdIXZHG41Namhmct23qoWu9vm0MyT5IpB7AR61aG3in3EDDB570P3mglLymQgheT-exgOJEGo&p=13&fvj=0&vjs=3\n",
      "https://indeed.com/pagead/clk?mo=r&ad=-6NYlbfkN0AuWpd06JaTHFjvTB_5q6-0gBNCyrzTNez_CNw5GfFr-YeB3E5TQjGgRpROSxApPasvEyGu6xYO_Y9GsEK4y8skKLH72pW6KJbDhBoyDof95eX0SQsYwKAmy5QT-GzY8_U37u_x7ZTpqR4tkJr80LzbyBhKXE8gsWzCJOMZ70licrpVNV7r98jfH2UHMiQec5r0wY01rm5gTHSuLsl_FO2tGZPR0wzKr-kB06PRalWJqgwVCrPGVqxlLirSTgDRmtj_J47AMbeYKQWgw42paERdkr4ib6d7QKk14ld3qqb2UOTjC9CjEp6vkucKfQeCGwVaQoSQQBd8H2yIwy9ogudlxK_-a91nPbczhZBio6I3wV6uUj2qy1rzxXKV7lIasbRRrudjAIJkql3weSJgW_Wm30ACDa9gtptXlQ7UtZBnvOHxR6qXfEg29bg24ZTBfVrapTQcXjzKlDNGzO8makhVb4K5hVsZSst5yojowSvrwYb4s8g7DJcJ_XUKjTEFtOgYDE304Lt_ypnn4g_qKcKT6DTOZfa7D29Di5X8eXM3C1Cezh17WDAgiRtGls8bGoyIKeaxwagFVysiHUY-9TzWq9dQ1Xg8hoX-Wo87bNOKcnRlfZifYYR4eyeGjJTddd5GPosEHphxYrY4REeOqGBCdkgtcPDPdpLKwqnzJ_iigG3rm4pCh5rIyZYfRqt-TLZOxlYOrkrvoKx3SA-nP2YTw4nvlNzXSm0o06LbNfwWHzOuwoRnNk15YGJbTEeI5v5UDIZgwfNPAenDUyQ_kLE4dmMR_yUgdl4=&p=14&fvj=0&vjs=3\n",
      "https://indeed.com/pagead/clk?mo=r&ad=-6NYlbfkN0AuWpd06JaTHFjvTB_5q6-0gBNCyrzTNez_CNw5GfFr-YeB3E5TQjGgRpROSxApPavaEP2WdfqhRMJDw7Ksk_-o3-DKsLwBWcAoiY3G8CzFTIe1et_QtOZP7Z5SX-B-FgglFZQtYfzkVcFpv8NIlFCSCP6J8ZIPBEHnpx5Dd7x23GlvH5XZUSU_tXRlOgNQCTNd8BKdFYEewiLkCi4jzEtd0687XqG1LPO5k_vvDib_yiZ1ESXL5Qb4sJkC56zFffbL3_5vyO0QAY7e9n8uTolmdBtmNGPxmc-tYk3wTDqIqHMZsrmOji4caq6UKZcD_4z7HyeylV5HQZQF6rxkeb5vP8chXdSTGa8B7FFc4kuFXzdE4HjfeOLF9coUmwosqcnwpgy9Jb-aQHxqWlVtuszcGPTjAiKohnOiyFAY7Ld0H5EpVIXXf9aWGsGeGXn8fwLK2dP_-E3arxMHUPxgeujTt2Zjoeymj5hfK2g4TZHxAHN3swIPA_z0ZiWOVtXvUQsAKOsTnp-ct_Y56jWBTLlfZZJqJiuGALXtISRDhMhzOCeN84b08qrcPav10yDF28Yi15LwThnIEzwujkc-8craPKqgBqbjDvhYet5bIMViiVfSxzhRR-Khz_VvQlCPdI9biSI7Arm7M6rd-XleJyvpgLHPQ10G-fd9hcpRHV3dV4lPC31iGayvj0pfxJKsXDsJcnJXbg6_6920a86R11ZMJC1zduyT-oLyQz-1Kpyk7tK6w-ioiTYDzY0PiBNkOKyhTgHwoT9XWLNlj2a4R9mIwVdbPEbeyE3Cm1fNPNENbnJ2RhQkRUiiLZ64RuW33KPNF_7YmJQDjVNYViyTn8a-0j3qq8s4jB8pY20J2F07nw==&p=0&fvj=0&vjs=3\n",
      "https://indeed.com/rc/clk?jk=f55d40d839b2858a&fccid=b1ace17c9d00764e&vjs=3\n",
      "https://indeed.com/pagead/clk?mo=r&ad=-6NYlbfkN0AuWpd06JaTHFjvTB_5q6-0gBNCyrzTNez_CNw5GfFr-YeB3E5TQjGgRpROSxApPasvEyGu6xYO_RevKy7mr_7djuSbZMdjAzKvTSjJn7xqd4ryIoB88kaVySowqE9aZhsGd09j8TcZHEq17GDevLcn1LyVbNS5HOSLTx4cOXqLhYsnr5_6rZk7q-AjLnvlCYdzIVRnNSsInJU4SXHDF8fHgRlp7-3X4p0vlZJwW5aAOIPAYNccu4FG8Uzj_6aNvb_eGw3Z_6z3CQN7aVn_27DcUOVWTFspYwJ1rJ9UJLxHiEuPLtAPtAcyvnwePLA1EqKWJoQ9OFmMIIXs2wl_JM-s3SmNtJ94lKoVVap2QryImVZd2O7-w_r9F5sUAQjvrZrVVgC-4anXLsevVZ8Hy_F9O91Dr1qnXsfeKQ_vefeVI5WtLhD8qi033WlMZgDtrYypa4hNJvu66MpWd73TgTN9moeaZavfqRBgB_4wL6HSd30q4mD9-ml8oPpOSwbHivGLw9AKbxovukxUFvqe-Pwzfa3lhb6se68loIMp5a7AmMzBfYhQvKHehQgiCHLChE6T6DUyHBgSDmerGAfw0ZiyezFpv00Qftdf2SrQRVghV2xEpWjx0l4VT3FdCGp4dXg2FOan2YsJSFxB0BU8xtvNU9bDfn4p9SiTnYHD_3HVTftYO8QwLZWXDQ7BZUp12moGfNXiTT7YUduVFgbBOylPYHfpN8szFTG7Cl0FzdScqLRHIMcM6e4hfzqcM7dCB4bwag2L8GCZviDt1DmA5YEXlkZPqX-AXHc058Any1ZqxWyAjS28OdQ-w7sX9aDuGeE=&p=2&fvj=0&vjs=3\n",
      "https://indeed.com/pagead/clk?mo=r&ad=-6NYlbfkN0AuWpd06JaTHFjvTB_5q6-0gBNCyrzTNez_CNw5GfFr-YeB3E5TQjGgRpROSxApPavaEP2WdfqhRDL6Ti1FbqcfX0NVOp2bISkGSV9jREUx2eixJVe8bpGF86aedlk_YdE61SvZH5SdSNkOu9y-0pvJUCLQqR12bxUT2FDfHdPxHFUQ6TDndJ2jYY3arVOS-HTwuzx6dgzfyDkZ7S3HuYR0MHnrVkIOSKWo5_0X8YqKxhNZSguHUq-BHu5C8djtOBAT6E19X1ZndiFWtFmGbhKwMXWZnl3P5Lu6hpawFk_-DuwnTSxVAr6ah7T87eBXBpg8p6pxk_G8t2GCCis-onzv6SrSDXnyTcDK40x0dSOWUwxZq5DFaAmnLETnIU8XWOZO207TDeaj5OUk35PwHhdoXzhCOfSLphuOU1FqkWPLUfRGQAMhYM-9LMFtzhCl0X_dF3O0gsXTQRYCkF8PDMBR6XwGRj8WaIxu6J9iPTfoZjp_lvvHYJghSkMH-jdafShOt1Gf940Sn-g2brbUDCIujP4d4G5DdRyruSPc4QG15UU_cJ6hRHFrZS7hOdPfMZ3mPLld7oSlVbzPZXl3dWxh9qBDSdyHZZ-RlsqyMVem4Lz4BtRMV5p71UbV44zTvw9cLJq8simZ5eGg_fVwTbOKZsWY6n-TDrwVJOKJnZWmCrnZv889rJL83DzV06mgfZlviEpyWPZYJ5NfmqvNWAALYxs4AE5pc1Yl86NFmAvIrDKkEnhFaXxkDHuLOJo5pwN_bx_LiQDtcAJns7uqpmgJaY7bWk8kn7q0qbcbmTf-j_dsTX62FZoNui8j05bjp_B3Zsut-UkuAYePULHxcyVVmljihUtKiQ8=&p=3&fvj=0&vjs=3\n",
      "https://indeed.com/rc/clk?jk=d28e47e9f9cb42f6&fccid=b1ace17c9d00764e&vjs=3\n",
      "https://indeed.com/pagead/clk?mo=r&ad=-6NYlbfkN0AuWpd06JaTHFjvTB_5q6-0gBNCyrzTNez_CNw5GfFr-YeB3E5TQjGgRpROSxApPavaEP2WdfqhRA2hYKBHMlVmAnOFHVaAJgoir6ClrXsPYlM8coTE1MhaVkS3-gJv05llo_u_gKc6aet_DUHAmph3RjEMIXpBMSRKFIPjO8vwqhzTQ6ItS1Ya3ejtyZoCN6swoPq-wK5Cmt9OAx-ujrGRmgMGmzbrASFe9CTZLBNg5TzL3tPu6HEDB28WHHuqgNtRtvxYVI1LmR7jR60DCxoFeqkSV8aQDfWo7QqRMfv4Bg6WKskFe4kOdJVBss57Np75ukCbcczF5hRA6TQHtkYgylNOBWLpZf8SlQGYo_nG0xpn_KD-npGPpBU5DTZp_PaGs0HGCkZStnJHhv9xt2F4y8ctaJp7M5MZi-69b2DqApdGneI78Eu7Ij4hxNL1BA55ruLzUcBliBfDFeVrjm2o04To8lE7MF68HiLoUSuLMHgXxnyFAsElBjDwTUdd0TfwcA6z2S9L4q2I055rZ1BfHcYIb4q01_rxkUpO4ZiEqL0ZaCuFuIpzMtMklYtKEIQfenbxf_uBPtUWMpQjGaopPALdM5Y6545_hgHoX4Xf_mtYCDryk7YC0TbN7Jk42Wuz35xl5iyZZsAOWv3lGuK0WgoroRr8aoheTXykIiUgUFCZerpZzEyt6PjDQ1a-cF-pB5t3Rm9kNujWwbwVEt7yiCG88933Poyf8urQzBly6-SVx5XQSjr7BcYDwXGyeQlfP9oqgn69-4BF56yeoylzPa1TpDqbxQNZpqyhSncrDRfhgCo4XhGhN1vP_P5bi8wcmIHJPa4suPNmUj00yg2cwbEC6o1ubZD_qD3ZXFzydDV9zjZQZWu3t--UivYRguo=&p=5&fvj=0&vjs=3\n",
      "https://indeed.com/pagead/clk?mo=r&ad=-6NYlbfkN0AuWpd06JaTHFjvTB_5q6-0gBNCyrzTNez_CNw5GfFr-YeB3E5TQjGgRpROSxApPasLFG1Nqt-EhOR3Qi1PR8VwORkxkSbkTF1Ff63oS0BX5skDyxDS4rV7sN5Z8t7AHle7tr5IoT0eTDAWvOhQqBuoUHwpG91rAwsWFal6Lha7Xlfu1_Gv8w7PEi6ztjD8yoaWk5qmst8SmHs_SThod67PvRAM0DKFrRvMKFY1CWayUbbv2zPx_QYXkSIE6jb7KcjaTYSUSzTSQG_aHLS3JtqtkIHLx6Mk8TIEVFZEfhQE7DW3IIFJcYl_PywzgwpHeDKMC-P8JJUEWT3byLO7C-XPE7ZTgjMjgzzey4ZPcI7cs8gWpoIO7ftvQJBaCOnv_12vJqi1XP38zNkvhZrh9b9kUhpKQFNTe3iF9qwhVz67LAxKksxieIei-ZXgip_Ovo1oGYbb7iRHBM5bWxkJ-q0DYTp76maUY1gQwagBYS5S4AeGZN08WrTgVQFIgt2bOspnFsGEJX2O9DAPULE3iP4MVfaNP3CQ42RjUVhDufw8MMQcF92MU4lu6FaqjACgQGYTjbdcMpk-0WKtzeKuy3p9bLxwKqjEqVRW2YkKRNLQjBFIf2DF95s_Kxum28dUlu7griP2UGezDTsBbpSGez2v1oYGSbLX_WMFG9oHCRYht6eFcpsCkncJWhHp2nmmKd6YhoqzZDhIQq6_rk_yRTqw_5Mp3qiuCR9gihg1hD-vUXv02Uwv7DkfO_vGoVMwVWyyK4ei6O3ZNUsHqRDCHXPpI1o7rNbFAHq4OMxDCDu47ZlTBtAoIlmyDjYky53F-8qc6u1UlluKsYtqpZjXFJs7M9HLFLCtPzQ=&p=6&fvj=0&vjs=3\n",
      "https://indeed.com/pagead/clk?mo=r&ad=-6NYlbfkN0AuWpd06JaTHFjvTB_5q6-0gBNCyrzTNez_CNw5GfFr-YeB3E5TQjGgRpROSxApPasLFG1Nqt-EhAIPvDvyKogzP2OPJHMxG-dpapvK61DkSTuDcguUqnEDllNrE9ELgdF0YZWLPtObAiOJNbxWXTsWmi0xmkhCZrck-Aw-_AGutU5wCms8njiNiuYGZl3JG3HUEv-UIQevOI7c1FXSIphsRNgDV3n9Z_tmRyrNJ0HVdaMAuZHXvOL_4M75lC1nPW5WmleXhFJCQaVBKMNBeoXJEkrckYf9Hl32P1VSCutnMf2X2J55M6PBIpjV6EuBkyzO-WG40yj_8fRuRt-AVMIkCLOJrMTpNObBhiLKnWkuY15o-njnRFNo6DG3yZ6XQMX5bM0XSvydX7nkSY7BSREmivP4q43rkn_AjodRn_r1j3N8NtnDpcAYwNLTuPGJiMP4DnnM4L0M5ZzvCl8RkB1e_C32DmRhTjq7MmforX1xQreEyqabSGkrYswFbrOEeX-_znfH3lUNVrM0o7X0EqtUCGKWq_GkSdKanDqd5QW3MMobhg5rXub0yLkB1WgdPyUB6Adky1YjGoHzFRvBhKpbagG3m4WQ_uWByQf3HIsS6qs5eosOEBPxkGyT7B7O57cFGos3GW3SmPmRVyweUcjzcXf5krZ6HqwBcQcy0Ubo4VD5EL-0qiEt-4plzIIqtkCTuiRJxBjj0lV0jRkhqEJ25VPfneziNThThm2lGEYjp_BMTQsVq9Kr1doE9ogUqSr9IFRk9vo4hJ3rwAdzOs7q3UNFSw_7FzTh3ZwCMPgfLhHE_geKu4qOqM-pFi6jl9Qmni4fW0qKCFq62iZUatQ-UuJgXbZyjWXerYHdw318Ig==&p=7&fvj=0&vjs=3\n",
      "https://indeed.com/pagead/clk?mo=r&ad=-6NYlbfkN0AuWpd06JaTHFjvTB_5q6-0gBNCyrzTNez_CNw5GfFr-YeB3E5TQjGgRpROSxApPasLFG1Nqt-EhPQRb3XWWKqlxEJtaTPd9MbZe9M57jPNe3kPrn1fKSHgkeoUAqf-4wnVGLjsjktbEyBN81bOKJtXTyrLTI3enr-Vy7YEHimzcP2YAA5LXjTlgjt0SPgOU-SRdbHzUy5pahmMyFdG64elXW6FER_czbGxb19J73bCEYa-987GRmpVi3_azbYykLRR6XAoQvdE5hVFTXJ9pViT2XKCrUhsQGUW7UWGvBdAQAptga5-eXo_HPY139a25eVam7JT61xjvVxJejsbg9j_N3ST5YJp20KQT0fQnvnk_ujaOIFYPqmrp2orIX4c-hBl4yUwFhDklNaV9fURN6Kqx6v5hlgwzSwSek0ht16hrqQGRX_QlyBPTgtdrINkDxtASiPEhIky1JNl8YgtA2cwSfFtNx620Q4HtODriHjnA4-1lntUdF56k98QjoILPFfHdxf680o3pN33xEzkPGMk-LDr3re_QCmhz6TffjMd8zQAL3z2GnH3jrlw6c05-ar7tIldaQNN4Zc5T9rcu8pfTqcICfc-w-lNw2wUbYJUAwi2FeWf2nnImla_FOF-G3xgrS_0k8bPVBZ0AwJO6zLtp4i4gejr4k3IqSH_HGzG2TMqiagEYiilyeSLNOOTz97Qw4XOglxqMnFg0QA11X6B6t30rsGwn-BaNEjg8IPZyH-1CKipu3N0Ad5MZAFlP6sIJMxHVwUbaZMvHXyAwOBqBzhOdRSJOqkhyct6HeaGa8sic8n0tkPoY6ykasfcWM2jtI1IXhcyoeIiUHTORdFanuqggCwZteI=&p=8&fvj=0&vjs=3\n"
     ]
    },
    {
     "name": "stdout",
     "output_type": "stream",
     "text": [
      "https://indeed.com/pagead/clk?mo=r&ad=-6NYlbfkN0AuWpd06JaTHFjvTB_5q6-0gBNCyrzTNez_CNw5GfFr-YeB3E5TQjGgRpROSxApPavaEP2WdfqhRC1ayr5tXJYe1Th9x9ywzdqpms98qZKUlLsRWngVrw9_xoSrMk3y7uA50Hf6t7bHvy27vlVe6j5zqwVf6ssjBIxZCsV8C9GkxNweyYJkOxiTLTzwd2--aJRtP37ul8smFUz20eRruUr_bX4kufoXl35FQfKrWVZRV2NTpUS0x7cULqDxRIMWBUKh8GJMwtV0e3ZoSfHkT0lJijlKdKg9Q5IQ0eyh0wdsvNRE0wxhER7FO0dDqukLgIdHR1N7Bp5pTJaLXveqs2iDFHB8act7piTN5SkHmYUQccgKXkyLp26KSQ3u3zPcahDJrhY7o1MTRQDvts2h90eg9HJiwZHQ8rlRZHF2lXk1QjR82JrMq4rWTXuPlZA9rT9OOzS0QNAtjl0Mf16IeAKuobLNvVYiclxryzbH4ZM1FkIMHAD4AnbT_uHCT3QQQ0uZEkZ0Ukqh_3h_7hZNBpUGCTv4geJICgXRpqLPeYyijKeT4ml_BcKIodkJ-k5rO4gHi2DPVrcvnDRgWC1AHhZrXx6h1bEJ4S_2EgleVmCGLpKoHGYwj_OWmOui4jR33NtIc2p6kBa8fDnEM2HwUxAIhMMEJMAzQ--H95UO4uCtQxpYxbaPAW9Zyq9V_oolNYgEWfsXCh6UmEm7qGeFp_6dM_qIogMl3ufmgT6jOe1s7IYkQS_e4hB3BuFaKsx1JmHcIKXSyPaf2CQvijzBHhz6yNI5QwrHZmkZsxTeMFQpGkl211s07Pil4qOHTLaqsNlHd8-yixtu--8aEsoL2pPXZRjxfYfkgjQOG9Jw2YbELyVCCSNhKyeEir4TExstEyU=&p=9&fvj=0&vjs=3\n",
      "https://indeed.com/pagead/clk?mo=r&ad=-6NYlbfkN0AuWpd06JaTHFjvTB_5q6-0gBNCyrzTNez_CNw5GfFr-YeB3E5TQjGgRpROSxApPavaEP2WdfqhRE2gEC2XPww-W23ON6qExf97vyYCrMoElXaPgT5zsWqz8jvTSvaU-ZRosSOf20dsImaSr-xUhxb6qhsR0iicn638HP4sNxGpHy0Bj55uNZyY1CSU_vT4U-5g1z-OFJ4qhLzQaVn7PY0C-1BDsKihJr2y7fF53CZmvMZezJeiUdIveEkK_lWJYKb10C2GIt4_0WnK7cY16M9YTfVt-ezbvmavBbkaX0qbICMecJrsGBhRXbPXHVzdeN5K4sQAcpkp9h0P0_zeezfwCL0aSNfUzM9pdQ0A2TmGxPyM9EHkPBUuxSvPxJsh6r516VzP852NKPQ1CQLyjIIS1ZTCOITCBeGErBOus5lZFhgdN3SbxOEP3L5D075TEceDeAcvZuP23MPqn5-lKA4I1DI-5i1hF4QuCrtU6vSLbWucAkkuW92S6C0-0F9tfhsLJrlNMhzQojG0qZOmRM1D1rsZRmj8OfX6muBOH-g-KYfUXFAvBsU6D-XiXpFPFWXJa5AySZ75OZ6oMg1d-qoO0f9bIoB9Zj2dgNnXEHQ5iBd8kpH-XUC7RWv3e4o5Qxf35Unz1esmptkl8Yf3vZv8fesHEKJr4QzBk-1NGuFj43ze-i9tcyJGmNsqUiflR_HwmKMdRXRQwc82cJhXR6CugQZIsT6qZsmJ6-OS-1sEUbRV4BBsJteOpl51jz6W8fUEizpt9Ah3OlpBRAHPE7SxaIYQvMqJefgsxCKz7ywO6es0eTSxyMtfkYMdqDABhQysJ5n39HLEobkMN9eCn5OoZnc3dFDuprqdsP_N7p_JOFSosdsRq2wm&p=10&fvj=0&vjs=3\n",
      "https://indeed.com/pagead/clk?mo=r&ad=-6NYlbfkN0AuWpd06JaTHFjvTB_5q6-0gBNCyrzTNez_CNw5GfFr-YeB3E5TQjGgRpROSxApPasvEyGu6xYO_RNfrfAhDiRq1b55XCOK819K0S9zyLBcCPPIvhXGALnez6DUw55ungtOlX36H4SZFmRwYD0vz6-HJ0gyBuI_xdX9yvPLce8PdGDB5hF4NuKdXHvU5CgOhtqTYO8cMeNy3mLCZngkcpcfq1i4ZFmpLexDCBSoQN8hOGgwgByTP93KMBhdbDQd5WxRcgRcOz9lmPcQc3eeeAfZB-aGPUPah23aCiS0O5Yh4Ym6ye78ta-5IfbsX6CGDMNkkCY_NAM7eGGJ6GHOvnqf-SDqZlHp-ItSocQPo0x_lSkcj0VQYIKrtAsreCrJEc-g2z3tq3IM0gO2U72W-TYRR58nqKKDgVo1_MyXn6ELgps-DaJ-Q8-nbHXKjgt61U5sBokzInkxWoKIMJRgyuMsYGYPszBfSLchyRrxMlY90TBdkkfZzLek26GIoAIunUKaauj0EfnWEwT2LVfVE10Ak6qJd_prmRQZcpE0xvj1x78m7Lo85Dc4xrc2a5DZJ_tVTH_rMSAFpmmkiZKEA-Gf9aOh50hW2ztjBCtVIVd4QySk4kE04QuvbZ9CTmSgLWjNWd6ic5lfSDAgHeqYyQqNYrWwI_7dcu4Uky3NKIYqgJ1tXy9DR_vhcjsGndEcmndRNgklqmYZdiMUEfh4tbXqYZb1R46aR-M3wMwGyge_rBCo-6sYNqdxvwYdP4ldy4hDExQB0561igEbFx8YABGHn4TySekkuTyc1iz09kyqEHawqXRU74SzDYN5BSh3JX4CohDyVY9SXw==&p=11&fvj=0&vjs=3\n",
      "https://indeed.com/pagead/clk?mo=r&ad=-6NYlbfkN0AuWpd06JaTHFjvTB_5q6-0gBNCyrzTNez_CNw5GfFr-YeB3E5TQjGgRpROSxApPasLFG1Nqt-EhMizxmvF9Hmq9rO_R-Yidi3jnJSUoxuYnxhp556LikGg2JDiqa1OA9wPENCtl2IvZJ02xr5JKt3mSVtBYhwo56tkEfDajto-tHSQ6OvvToDOMa460vQOoejBZQfeCe4JdL6t2VBPN_5aSlvWQSkVWWQkg5nqzhhNFukVCvbtShGDOttMrTEaPuUM4xC-2-XSzI1wUE187LiCiRxcRsccvJeMCJNiIbyxp4m9Fv7tLOk9dHh39HkIULO9iTG8_fURH32WM2bTBuuvDIa1qruVvNidEWXbR_7PZ1tmA19uPKIBOCZ7AdItszemvNmbz7yiqa_1MqG5ZudSbR3tUG0xb_Kc3wWBfJt-Sh4_JJnwSGda489xEdBag83lM1TrOmNASzjCAZFpU7VAKDEdW5wGdmPacMzUlPxDtc76BgXtdxfuYJ1Dz-xOBOdjeqTvjZ6K6ibkFGpBkKQymV_mkx1FN_CFqKvcsEWJN9jmChU6Z4Qv5tAZREYmWxp79DwkdoB4lHhPKj3wrASeMmZHZBgzCilJj87DUomUhXDI9_iWc2E94A1naZA8d16kAyKVc1xpaurwfN5l9uB7ylt9Ip9AsvoQ7rEdjsRtRniHfNhEtsqX_pU7xp178xVlWaX_FKIycOvM3V0GkKXU0ny7vDRsL2b92H_d9y0XPfFovcSqnxKhz5XYQxUJukLch7OSCTyYj5qhYAMwdPt8OildqVf_1wtzi1VS3qTXJ-6fYDFC08NLNq-GdiZc1AMR4xNqt8nuCkn7MV8ouJFjkw_LFlpzE-JEd4C94pkFhq85dDCn32y4&p=12&fvj=0&vjs=3\n",
      "https://indeed.com/pagead/clk?mo=r&ad=-6NYlbfkN0AuWpd06JaTHFjvTB_5q6-0gBNCyrzTNez_CNw5GfFr-YeB3E5TQjGgRpROSxApPavaEP2WdfqhRPYS6R85QdsukGf_DPe6-yGU-gg_QXeOACDddpp4CpcZXgFOlkJ-CUDxxnEc5kQU-7pypNOeX0SGaGRFLSI6JXpU7nNzI8kfv3X6bX2FM88CI_oqqH0_5Jj1cEzB4QUoKAlIwUeYW6TODaHyHYp3ODj1QZvdq0YWYP-fEUD7ao4oXtGhKqo-RL0OfI6bfvREddoOeWgRaLU2B5wVAiSdYC7GcETIhUo1GoztQgB-MMIsVHGca9verFtmeo1KIWR4nMKC1230GS4uQCJwrb36VZS4qVnRHG8pTSfYa_wstgcmjJnsMLRAYfaYgDZZgpA4ITPhw-d4-ddspTU3d9WuE4qdcFpeLSG_d3_jV5UTOA8qdpx-9w-1AekEVCdwlDpajHsKZeBetaQ4V6iHHCFB9Hm4NOqLwDuS6F3rTsvU62t2T3L3WHxQferkqCwUC1VV5U44Tzm0dbCuKyGv4kGhJIgxpqY_4a0B7EmBq1i8k4X394hvQUuZZ3D1u74RiejA4wWVdL3VcU3blcRtgcOmatjgc584KEy5zw7CACpxfTPWm87MLgtL5BiAQ9VMw4_8h5l3Lh8IHAQr-t1QLMFXt-5KjLk4M4gP9BgxGY1Nm4e4ov4ontI3z1O0rQ--Bz9myiagBjvJKqaT7Yw3sUm3PGg6MTUCd86Tl0S1ZgFY6HAYE_8g7HmvPaQSVAGWOlFuK2ajC9G3l_N1CBFDtuKl4Z-z3mtoO8HWFKxDL2ABbad8LH8l6JYFHoB_QIoZH1UeUm9ytNRHFCL_JH5-dEuFy09ZS8IYhHwKyCk4g3-JgEGmtuG4DPODQ-S_DLjmxy-hUAnsjO8Om2JbLGuflnGpBPStqYa2HhoqSQ==&p=13&fvj=0&vjs=3\n",
      "https://indeed.com/pagead/clk?mo=r&ad=-6NYlbfkN0AuWpd06JaTHFjvTB_5q6-0gBNCyrzTNez_CNw5GfFr-YeB3E5TQjGgRpROSxApPasLFG1Nqt-EhCDsLfZy0S3_kt1HOjgTeqrGF9to9Yw8UPK8BA11y6_FV0mOLeGTqmkzvFBJv7c72A87fQ07qRjF9O3vr3je8c75fECZj42LvAaXbPhLu1j0uFqdpcE81teQ3XsIkOOsJ07tFc2K21xJ3MesNa6TcXPMjvdUiim8ssdKCsAAh8nCLMD3j3-gONUrCdMzeEI4L7qBGqeh0Bq_RlJwz3sl5838KzscZwdBRdfq3l37RqBTITWWLal9llBmFFQvHBYFXW_VCl0oFA3XVJMbxSx7hvOMVVJDzkM-YD3vzAeJe5HwTRlsK8oJ9O9MYUJ8EbRcSBYdHcy62VCyhaQjCbi_dlc3xZG_pSoiQtu99SSh74PmJjwhA5oT7ACIpyMY_pDQ3iQ8bwJCo8_hJm21SVu70-fdaqSyuN4_qcMkvE5vF3AWPxGh_SmCgFpGVN2onSNcYMslxm5dAiJXY3_kZ0LrNqzUoiIfetVsrCMzHNx8apuQGxSOIbMgUglvDkJY9E6iGuD7myEQw65hhiGIv5hRVusVM87Ey_7MVXYVYC5sZOx-dnyVccW7lUvLtHHhWoTyBK2Xph62mgOSBzx6rjUDK6Cw7knPao7VkEFZOvWiqJkU0oIGobh-TMC9HUQ9Ij5A2UW7ln7hVteltUbaUi8vBsccXNHVAL5_kaMZOQLpKtDBuo6Q1v2ZjwRzRG_or4QYsNp_SOg0aIQZOFaUUx8zL0vR9MI4N78K2i99dHw8VXVvRb1JAPNQDMNw0YyptzBTZlBCkp7i4_nq1n32a-uNWrsijRvMwKr0ag==&p=14&fvj=0&vjs=3\n",
      "https://indeed.com/pagead/clk?mo=r&ad=-6NYlbfkN0AuWpd06JaTHFjvTB_5q6-0gBNCyrzTNez_CNw5GfFr-YeB3E5TQjGgRpROSxApPasvEyGu6xYO_R6Tn2IjGweMJ0lY4qaadrlGcImbklNLrvR_i1FexlJsz5t1NT8qmszw-MYYw_2VqtQsAsFONTRt96QXrNlNENBAy2RYe-HOnrBiwv3WnhL2DmLWX8PGxTgWeBHtcmCFqT1xyz3Bs8AnboA6SO2TJawTFPEB8lybnacHwCRSEufZVajaI6GSbeUiQvR6RuJmmiK5E641GPQDKzCetrYnzDnaIGj0MrBM1OUqHyR4eRoEzWsF-dVqsYqK6I9jCEhM1k791cM8OdX80hZWHqDwO8elfGaBYhJ8FByR18_fmI3MffTKHT8bj86CFCe_9omCpoeBT7qi8OAjupeLQlOyIzPuFk7oozx-rWt9N6FaSiedu5ev37y0acRgj4MXh_CbBS3hIlQHKuWyuGNfJ0xp9Zh2xYY2n9Lc8LC42Geqbw8aCL_eJHIVDfoemF5b3oF1imOUOjCb1IxsfUdtfUlnipUp8BmEjHmpUMEVtg3js3sKg0Qaq5KMi3MmS34TGIAHFSorPQ94dDLPVZbFDuHgM_NqvzE8m7RZEP-bQu3sjslLkm5PSV_aMAH3XnUsyTNRoRkjOL5vntpby1Oe-8iemkrntvonbkiPlWmZ7mKW76pEi9Koq4D2vRLFtaa9UVyOBuxIMeWbDsNWJTUe0z8I9ClDKK-_sqpwjaOil0QGI7n1NCfCWkjOQcZZs7Lz1vR-4SMIEVi9gUEZxqUbK8nZpl7NeyW4nqkeWtR_75HCNU1O&p=0&fvj=0&vjs=3\n",
      "https://indeed.com/pagead/clk?mo=r&ad=-6NYlbfkN0AuWpd06JaTHFjvTB_5q6-0gBNCyrzTNez_CNw5GfFr-YeB3E5TQjGgRpROSxApPasvEyGu6xYO_UPYvVQuKsOC6kf9B79tdfQYCzF-ANka0FkVJjRSFaA6CnLSrtXIk0B6u1e24-Q9eCrcyRA-gN9-TbIHeyyBUEhQS5QPn2rDPBvIfFlIEwZj-uimkXZxbDn24ptO7yLT1ZLaSVqbMGFLbxYg6TwsTn-0TC2GCi9nrBuTzTcR_ShhXow_Zi00ZgqgQ7oZXZWrjwZ0b9YOt1mFoeoSyhE4vT94tU8XpECammd-l2nwCPOT2A55kzolatR8C9lSpcUqpiIZMDEj5_aYz-fpglKUIdVDnHQ3BTxy790k-eco2moIaE16gOLqQ7vA6sjsntC0RdUx-MroEtnANpJPdpgPCUVDvJ8DmmP32dbsj0AnFiqgoEdHAdkztryOdQguua2-xPNNt544rrorD2rEyeJ1-9ncpXRi8nKWZLLAisrcJmJO7v5KwUT7iawQQHKsVorHNjESKFCIcebh0gtQuG-XhU1AaB7MG-y1RzVe--ilcZNC3qhAQzpfW7-haSNbgCj9-DVloUrRnu__ZgE2R4rctYhhvrfNBOG7izbZKmszGC9O9f9uAPXFPrKUUGB5ZbOzKcQGEXN7VbiAtMOO6TmQegcm6gUXm2so8o8OKilQrljUgIXe7nFRQmbuQ8yV6KpFvf5iCbMJAf71hEmQQBe1o2n74rHgEsZTIKLW0lZLFaigzmpfDqV8k5_MsXPtaxE9Tg-_bkZRZXxT3exTIwp_Ml77PYThgdN816iTzcTZew_LSTC4aYQgTbrEAvVdceCz3FEl5bU3HZaoTRJ-_DUq7B9ixg0BGE2oeg==&p=1&fvj=0&vjs=3\n",
      "https://indeed.com/pagead/clk?mo=r&ad=-6NYlbfkN0AuWpd06JaTHFjvTB_5q6-0gBNCyrzTNez_CNw5GfFr-YeB3E5TQjGgRpROSxApPasLFG1Nqt-EhNtBpXgur3irxlRoGhNZ2hQORYuLu0XqHdvxczIUZ3GSHmm8iWFT_yxBWfML-huXe9zl5xtxnB0dQAzyZ56tun1JIYomwNfkE8hgTJNwX_lx37wt5wbl3pyMr1KZQM9OM2x9OHa_3mIEcWchYBGbqWcNupRGKVNQkOwmPbVyiQgiz09aWzEtBUJnb8aRq1poUPurNdMESeB7rkDhvb5aK2nS9Kn0-jRCK-LeYx5eJG3rxd15DI0lcrLng4vha6L5c5o65J9_wf10DQuZHYlCVd1dH7w3pihlz95EFrcTA6L_nHLIGIneyFJtNuI_kx8Ra7Yw3HJTKQx_hsP7CdAoziG4Qw-zBIjEXb3XK-u8DHgiN8NaREl3RZlagR6DleI6LvOQYN88ysmXSn3lCLeBVMe0DWICqZhig6l7aKCiQACQZDuqZxpaWxfpp5dn6k_qHheTDuTJmzWa8e2GUwkBWVaBUW1WcrhE7vpmwtGnfl_ixJzSmpRHB7eLs1-ISRWSv3nOG8nSw3zk0kzlNP6Ah3469eFnOGCtxihYx7IlD3yhkoMwLewvVJHZPMqMgfPI7BlMZyNbAaJb2x5om_NpLis3Ax2PdzmAh5jO2nsLtyLVLJsRN2DLp2tJYfkX72JzqBlu6p23fBt56v-X--CEyfSRwrF2WQjQIzbEqu7TK_txrAYZgMRAAVdvzzWLwKGiV7skHDxuBg9gUG_8ErBEjQNCbReIopoS07ftN5jld3_SpkSvMl6O968oyTSmGjMjv4YJ6dYdK8DhU3ZlMJqxbmE=&p=2&fvj=0&vjs=3\n"
     ]
    },
    {
     "name": "stdout",
     "output_type": "stream",
     "text": [
      "https://indeed.com/pagead/clk?mo=r&ad=-6NYlbfkN0AuWpd06JaTHFjvTB_5q6-0gBNCyrzTNez_CNw5GfFr-YeB3E5TQjGgRpROSxApPasLFG1Nqt-EhG1_QVjto4yH_nzNKd2R_6XR0mchXRv6-LEqv5FtY_5eUfj7HJgiO8x5cfzvyUt828MT3QyNRIJuJAI4wiZNGd1LfcSHkH6PBfZ4W2uCLMTCC-JAD8N3MolVBJKWa1p3eME2d5UR_iL2NXQcAZWUSw4-3nKK9sS4Q459N6iWoGSF5ooEE36Joq0Daf0n6xaCYEDfzIvsH-SMjp6zQkJ0OdwXhYoIIF_VZFA5cAnZ0-FcR7dnfeNESq744WKVdbRg5hmi3t3hmJ2KaM73kpkaiI6omJhToGJ56lTKx_xL6dXQFxCEzYepEQTGV5Kpx0187Gg3a4nFjdt3OxwgsLWQm9fdHtnwe2unLztd6wYWZ3ZTchjUHqefnXP_ucmIJ20xUlAzSYMiIRVYeKeGRbmGPH7HHaArLnYj8xAIWJQAdFrqg0wVw5myIw1pPyOimMz-cAlriGsZV3bGe6IY9pRZ1PqxWREml8EfI4Na_l-VwadEFrNoQ-SjH0GbsP_yDPhnBA5fHhjTOf0nxqHn7xLCig3G24AZEjwFEWj1mKcFQRndvwqKL4yWjd7ZXQOAzQtV9Mql9u4ZG30s0pwW8I-gMEDOeAhaUxvEgeHcz6ZuIOXNI0-Z2TjvGE4fQqrTJktgQ23P2s_tiMUJFY5hU4Uh8V-folur3v9V-YVMszif8_gSpARuDLZ-L_ID7vlUB7CZ7jgGgKYvUP7yWQd4rnKt9NiIQlLYuifuWqvbW_tdQMfn960jBCd6FrXw023SuqfX_crG9tF-34sGMqTtRYA9DRU=&p=3&fvj=0&vjs=3\n",
      "https://indeed.com/pagead/clk?mo=r&ad=-6NYlbfkN0AuWpd06JaTHFjvTB_5q6-0gBNCyrzTNez_CNw5GfFr-YeB3E5TQjGgRpROSxApPasLFG1Nqt-EhNbyjbYK44VYbsk0kfVAwp2vhIQ6JJHNil-mGW2PcBkoFvuBako5cxMS0X7gDlVKeQhHcdk9AGLinRc7T6ooHDhtNm_RWCOpc9PFPHezV8k0OW0jZV8LuSVpkEHwy2fnT5Q4XTCLiqIzit_aQ7n2wii4sw7655q70fiwijgtgpremXzFqV-_-6IrwW3aKL7fCHkxQHAqHX4nP0E-ZRDNcur6b6odo07bvjcMDkmSpZdLWk086LFIE0-3X7bzFw17GgOmCQnzPDtXospzVwgzt0UdNHXdQ0IQsesCH1tGUKvmLK36a694gcn8M3VvvFdL4PzB7v4iSfh0SECxeCANwthgdENpvRZMPHEKKQe9-SodM6JNOupTpWh7oaUV6TgN_K-S79m6UuwjnwzS19_4aTecR8KqGAf_5yWhKqAv0udZ9vqFdxJJQKweFzODwhescx-juAjJzyV3ERuZcfnD5qpTFQCSAyxHFdIqxB2CinoeVfgiGrLErYKnQ7YIixVvvsbh5zQdpQZanir0kTds3ZvA4wM79HqQMg5iX9FebxQmpCnxrVd4BCnQC_zjgcMB2vumJF3o2wFyHeASEPErx9ONTIpFStXNfxYf2z8dEqj9QfKG422Wkbvg-bcliadsQoIU507-x1TWak0Iese00_XJuELv8lr1rGHiAhN1nQMmVy7YYlljgrUWbhGX5SslKEV4-IrFV-voclucSrLxeZZQViQZi2GqMKENsnapTrXa8UkIpgzbHp72oCh-xxUNrXcd0cv1HAeimxseL8L2JQhmrFUklIUYew==&p=4&fvj=0&vjs=3\n",
      "https://indeed.com/pagead/clk?mo=r&ad=-6NYlbfkN0AuWpd06JaTHFjvTB_5q6-0gBNCyrzTNez_CNw5GfFr-YeB3E5TQjGgRpROSxApPasvEyGu6xYO_XfMLiEEFMc1XzQcwsawlytUxS2RnpLk_i8znGXOMEk5IW9r0AN7iRV8EoNZMuusrKtKKZKZxI9u_y_Hp2iBna7JCB4V0h0-fAop5CSWeTSnGsoCu8J7yKEbD2AKCqIJ3RctNIWUoPjuGCWomrJKqnBs-1c9IEEW4J89K1LSpAXnG7weT8j27AgiS7YoxsJ7ZHmPmaqaPO4iQ7irl3vUOPcHwXxY8GIaAyGljOCHgKKumuq4t5O6CYxvZGDlUi1GNwDym6K6NmU4v-JMHYFZgxjFTgAd0DURN_Bt4oSPoowTALwNvr69EGFwY8iW4olDwQaQUFPkUDbD6mZDsUk1eUd9_ATnOSXXbqOiAPUnKcFkQGLIOYY-G2qQiO-BFxyF3EcfU_TsWeRz4QRS-VWumHGhVjaTOhi0kHBw46ZPXb4sBqU1CFNIEx00QJ-DJCHk31f0gOVyvUg8tPQFZKoCHC-rQF-HalvjsLPfCHWrVHH3j2vIxJd-wNYXZ1jP8Cy9pDRa2IGYOY7mGf6RmheN9wByeyio3IaS3hiyH2HcVLvHUtOGsy3ODw4KjaSNA0kIo80mhhTAckhpmlMoll5GUt2jKTu_5VaWrWXLdimCL7ogmYix08InGcn3nLUSreryblu6N_eBU6g_AOjA8UCM93TU6o_k-Vm8ONFUXGaftpyfD4DehKxHf9Jsw6-cHNYybJMMvPJYDJQCFduKpORIeEPuJRczLwzanJCoFX23TH7SaxQ8wBc5vuaL6KgYptbcHw==&p=5&fvj=0&vjs=3\n",
      "https://indeed.com/pagead/clk?mo=r&ad=-6NYlbfkN0AuWpd06JaTHFjvTB_5q6-0gBNCyrzTNez_CNw5GfFr-YeB3E5TQjGgRpROSxApPasLFG1Nqt-EhKwpOiRR9A0FB8dtW1HiD5wft-mK0jnRdUgs6F8mm0nOPc4zekQWpPImLHp_X5yUOdOH4zaZ5IkcSBmHaOUv8p7YooIEsGNUlEHDnTFUfFYQRYo66V_9jHbHlkjS8I5CQolQcdqqBx45rvYUNcEUqbS_Rizm2Kh_pVWPquwwDKUwEMX_-EOiuyJFASv1mxFmAq8qF03iM7cSjNz7EgG1p2afmapxuwkCwsBI43xUPGQGK6Fv5SQSvY43uQgcjc-3vcOpt25Hhyg3rK_oF0llDJCgJfO4jQDSQQwjEgrQH6GacoicYbstuAHhK8VFNXOGOFu_1p-LINDhmtFn0Q2pW314mNgLhJ5_NKDdcovIWB9rxmKeegC3h-DSsjxomC0NofExPSlqIhxxzd5CacE2uJT9lhiZL2R_xgvcsGwEYpDKYrkxzFr6KvesYrYqn3dy5QI2p1b7Qf98WjNX-YpK-tKp-OP4UummlUbXjfvdMcSkh93v_TpgrW1IWM3st5Z4a6vk83MsENRxrINeu8O41nno2xSHuygJ6RZt9Dyaw6pYPy6fgTuu_4mk8kVmK29RbGhmVaAwae3AZTULbEfcbC9Sbwn2XJpFfkqMHwCOPcBY_HAk_n33pvwoevgmyLRV1A4gnEn9lUaCmnu0WYpFZ6FRSG4eUiQkJ9HBK-v9HnZTUHbx1BTFG82ruGtbb9filYB18al6P-7UdIsmtlAmiQoKYV0LgSNB-xka6IDEiM7b0pf_ZXQlxkF-XHNS22GC5oJuKJuBQGm45l4VjtZmKLZCWYd_OGWu8Q==&p=6&fvj=0&vjs=3\n",
      "https://indeed.com/pagead/clk?mo=r&ad=-6NYlbfkN0AuWpd06JaTHFjvTB_5q6-0gBNCyrzTNez_CNw5GfFr-YeB3E5TQjGgRpROSxApPavaEP2WdfqhRB1J77h5tPUMChLZRg87M0M_cvamRG38wVa7p_ZCNydCvnOtPBjk7rTuESwB23meQTLNd_cYxMVSBCrEpXIZcY-K2QHtoceTG_DRWToi31QNpr3iXLJt1jfxXo69gzSHf9gFD_XGa9eX2igs8vlyU08K_3jMVsfnaHA65weE5RuSCMPKU3mO6rVb-J80g_t2UbEG3-rzrRcaygCNZ9mMsvd8F2qS4OTeVPQqHTACkSM06XaMMPZaHXMEtG1wCatbH8JGeKpLEn422zdsfOygCoqAiqb_StqGHqubunAmsLl704cvQqvVw02EZyW11gZ56okIO8Bet3D-yfNqJ_0hLVooUgt6BhstuEgBOIKIQOHA7zXrBryugc5Ph5XHzR4StX1rwM9WpAsxkYIS0PQCWeFl1U25fZiEtfGrWqhsZVQne6k5sl1ijdQtqsJfgobyya1jcm6lQdslo-L9ro1FWNfICF6dNHhQkz53oNW95x1UfdTDbpjWnq690sHmVAMXO6ul_jhP88urAq4imkkDGxKrXPqpKPXuLRWiCOOMIyeSGcUNS9ngCf8os89Wq4dU-vgpoH8YZ_OETN47Jbk3ccBzBhwEAl_7CAYt9z73716FO_aSiZ2pFGGXycauP4HribQaGK4J3ogSofHZPNXDxcL0s66Drth7USyq6CuF_f8c-LtfZER-VFgtesFgLmBNtmhUqea2DHD0y-rZI6R_jGkGT1L_FVIk8r93VrhrLUYT8htO6twriZvzVRMoUTQZ-RzLyJ0V97c6AHzVNeq71IrBCiRT5ReJFLNqhA9Hmx7hsJhtarvrqI4=&p=7&fvj=0&vjs=3\n",
      "https://indeed.com/pagead/clk?mo=r&ad=-6NYlbfkN0AuWpd06JaTHFjvTB_5q6-0gBNCyrzTNez_CNw5GfFr-YeB3E5TQjGgRpROSxApPasLFG1Nqt-EhBn9tKR428epsN7B9HqgaNsL0AbfpiIsG5S8gDfWCFg9-SACKu9kugYsdicKVZElrL7_EYMegf5rt5uLKqlOVwgxbBqRM9XFqCzcsqTv13IObyJOJehCu9ZmRNaYu_zEU-7GzIMbJG8gDqHXmB7_sskdJTvpUUO0im_vHL3e56QyJukvdeZepACu-z3Vd1sxrLrrqoLBbWLgtwbpPJgpv_h-7EXIs5FwEuNx0nLRVAILQDBPxaMqerQcseJ4l-iWsKZeFgXqTDjVC-L0X5Lb2JMstPAISPxITTQ-MIfSGjSqy4iAGfKvCggyTjZvXJVxlhaQxlui0YplXwDlR9ppSnFyNQLLArzDVApLty9oE3FiQL_iFv0MjSfy7NsZuJXdZpW1dQ83yt_AxCa7zUx2-SE00_tB1kpUk6FWPtjkkxX7kIok1pnz14D9zZ74XAeQNN1qh16S1FW4POITUvmU14w9Ad7MYPtAZXDFDFAn9XWMxVDinX6xCuOIFvRELBJaKNUra7BjJdUf_-w2zHC7mtnD81QGCO9vkZjVaTMy022fTkfC2Yh7d5_Yda36757VDVIlxxUHqqFZTqO4bB8eEtPJwLGXzKy-5jbqSASZHjvshkEX4nCnYmRI1MbxMQHXLy2PKsyq-Mnu4fd4z_4JBxfd7mIYVk2r6vpzWFQM4rY5Cc6178PY4iu37iwj2nTZHvpafVrqV9w2YI0PzW-Wst3cqVEPIm_7x0MsQi4qkUIGVWFfJ-QILDHmDhh5RA11YQnRFJSFmFfCZ0YSj1bF5xnECYkmQ1WZ-Ypb01lVSn2u&p=8&fvj=0&vjs=3\n",
      "https://indeed.com/pagead/clk?mo=r&ad=-6NYlbfkN0AuWpd06JaTHFjvTB_5q6-0gBNCyrzTNez_CNw5GfFr-YeB3E5TQjGgRpROSxApPasLFG1Nqt-EhHUVmzyms86Dm2P4fEZ07sXNqKHl4U9akPbJNgWyW9MpOnvACnejCelmyZOTWpw9pA0NThCtZzeaI67HuqfcJcaOju8VmrtGoV7q6Pm4OdKXbY2huclnfNBZp-QlP8t7rxJMY22D3LJoe9B1PxddzLRu6tPe0531v6x_u2sWVGTKWJ2ZjuS-N5md7guNyUK8qXg-Ze0vIu8VWfRjsm2YgMsV_K_I2VQP-ZSPBGfvrFQF1Sgk4f06UyNzMl5uJqOB9_G6Q5OVOO1a9Lvp0zTcBRWAe2y_03358teczmhooB3cKjw7YA4x5NkWEYUBRNUmejkxA1yZI938hupnlqGJyGj2V5_T5thS3DUJfdyGi3pJTvyYOlOeuBc5NjlP7a76iqbILuimwBe1gnCLfltA7jvhPoD0sSRnIZaQYVRStBINdlWb4v56WdWLSrjRP-3DY3gaZezxfaP16rGHF1R_9cBnfcJCt39VCM-XRXoHKX8LoBu20XXFOdJsi-QEqBp-AWRtbXOQdsvgTfq0tdKx3kju1JW1hrTJVlVf2OQgpc7xLb4MCK1Ic2F6jzzliUhaeibCjX86j365OeV2-Z8dLk9_QCbvGp19IypjZLM4nx2cnrmws1MX7gKjs-Hw4wzBiutlQyoxCH9K0JD8Pxf4xcgvQUEzQ3PaSty0H6WHLM6lyMB9FpX6vkE3qOfDfBJyJJ2pb44xU6A4FsoFVfeiMzf2DQCDbNFoiKcTOPvO2ry2deOqFkbLmXW-_tAUgwvoBKUUJkrns6yB5xWjdGtoaJKZOm4Z3mTz_g==&p=9&fvj=0&vjs=3\n",
      "https://indeed.com/pagead/clk?mo=r&ad=-6NYlbfkN0AuWpd06JaTHFjvTB_5q6-0gBNCyrzTNez_CNw5GfFr-YeB3E5TQjGgRpROSxApPasLFG1Nqt-EhIs5FGLJF01_x5yeM02PN6_30eMhXnNZQZoNzXQoKocpJm4f8okEEhPBFxaDFufvSFAxL2M59IGqme5ASvxvwEGhJh3X_7-MW03UGQ9fJ5RO8h4d0Yj5QoDQ1xK1uWO6szobUjk9Ao_3FaJOJvY3_OUU48JF9ADzacpxHZUUfrhO_55bjyYlGpE_Rn93Xz4H1GobJpDG7svoVFF4eHkxJLuXWJxyGW-7dKkfJvFKsdn63AHfmlugJDHYVorPaEzxasLayk7yJcqWAWS2uHsqayUV72AkMhCapajsnslFQU4yUzENzQVMTeB_jhUEY2bD4QD2jCEv0qBH0IcHVyCYOlJw7uVzdrUH4rcSrAc0ASP5-AhdcK6BX6eAxJLrAdadjgKG8Xx4A-Sirh4cmxk6_G6bOtz3qGDX4RdgxNpnrjr0dmHYcNc17jNXqmhCxq1mNAE_FGlC0VNACMd7vGZegq-SPzvJpOS0C-qPzLcK5glAUwUrsy9Zp6r9lDl_z2GikQBSLPWwP2FLutgOPt1VPrXnYnBpnIXDPiqKTx3eUFHLF0qpPfF6ZREgvn1bAE2VWlhbz5ROUxufXgpgdG5SshkTeoeekq4JFnNPcXGEA4nCBmgRCUUIqLWY8UFM4bk8qWAxWFKiwwSuPROxmH3Sm6WhAGjomH9OoDmmaLmVeiwAVXUKBxN6IFxC6USWTLvIMqwCQeBxN-4KxYK7SMddIWZvSOuRR_6WZg-jP4k6jezY5k3CiV_LE-ctddKz-K9Ye-JAK34WGoCyv9Y-psm1LrRMTTSN9iKhrelBth2S0cZ2wYRLrxC07LjXm0jL7rxzCkznKxUpZyOJ&p=10&fvj=0&vjs=3\n",
      "https://indeed.com/pagead/clk?mo=r&ad=-6NYlbfkN0AuWpd06JaTHFjvTB_5q6-0gBNCyrzTNez_CNw5GfFr-YeB3E5TQjGgRpROSxApPavaEP2WdfqhRNqao1nnWdQnzkPIci2iAiI3Bik-gz2sYbsYzyfd4Vc3AaIQh_eqndpSFjuxaWVKZUvoxKV383GVEu1bkx_1QHdqOrSNSsHRSzAGHcNuQnis1tsxYtlfxWhjMwVEmhNvj0P2fXdShOZEX3tTxpbTVs_qKD3rBEnOfSbavduP3UOcgtWcdh-w_NiwP50O2ZuuFp105OrNAhjnj4Hv3h31uo3HpugulCb_Kqx1K16BR0-2RVxE5GyTFkRtrobyq1SiXZsAAfPja4adEHsEgm6-hvPW6MdR1bUgb1LdGFXT7hL96sIupT6SyCQSqubRnmWreCvAbqd-Vzkkbtrj9a2WwwL6-1UKqC12U4EchXIo3Ydqxo-NGMOS7uI0fHlyfXr5_klx_VBQXweCin96DVOoeK0HbvrgGbW3R2Dw9C-HKO3hbLz7u54yki7G0VaNP2lOTw25ylo3Xvz7HNs79jK_AU1vPwFtWbWzzwKCSRW7Wy3eNVpi7J-Ce9125DuzIIJR9eba9MFJh5CmIe7Fot_wThhnUkScyQVgmPCrc4HCycWsJ72Xfjh2zra2JNOf8nXOyfb8hDpTcjdeiEMC_SUACz9zqnWo4fCuAEbaln1FuaSVg3Gl3ucgyAE9DUDtDB5xCT6YyCTtcWBEHAVJp7Ub5VUtHT9R2n1BXYdpUjLTFrrWW-E8BvLmnOOqvnffMMCvauUWgi1I1IRESkl4PyE75NskcGL4VakIssYNuj2bR0IYBzVGwktRw_I830tTwKFKjSi_lryP_91VxV3cg4qHUlo=&p=11&fvj=0&vjs=3\n"
     ]
    },
    {
     "name": "stdout",
     "output_type": "stream",
     "text": [
      "https://indeed.com/pagead/clk?mo=r&ad=-6NYlbfkN0AuWpd06JaTHFjvTB_5q6-0gBNCyrzTNez_CNw5GfFr-YeB3E5TQjGgRpROSxApPavaEP2WdfqhRGyswZYpGgAhwLiD1Xz508J_R1TE07FXb5gD-8Q4e8C2tvaNG7mumIEi3Gw-hBup4JAMIBtPye0r8eUdhb9Wn_Jf3ttDGKFgTUxXZ5HUcbb8tt930596YMmEuSiZpqPcIRELZWqBxdF0HBAxDR2wmqeuQDKe13U3R5eE0-J8xqJx9UYC989k84ENmoM6Jij7wPDb-7iy7s0U8IFcrbcYdegmVymjBG1F0KYsJZqxQXkHaEJtlXgjKVs0iF_OUPfao_18ASr338HO0yxW-Y6nk_0wLqtrXCi6dPiKNs_nQoc8EwtaH7qVK4dznA1X99gcLNNMl833AY2rP4JFmhFfW1dfBP57mdVAGlxWDNv5VN15fr156uYZthinVHX2CvlB8gwbZpjobyfJ7o8egVOOVGtJ7Fwf1ERotd3w8-GQ69-T77E1RUHZTTxS9tKE2v0ANJZQ8sEKyIV1L7ojM0OI80UYTJW3A0ST6YeyB0z-RSl8KV21oDkT6kdt64EgZhL2zXbLVoUEQMBrLVi-fBsE1EuPmL_SbYTm2cfYBsc5qDZK36ZOxuQILK6OZ8OGH7YNyDBDMbcjkZdDMp4kD_eRAvRJDSAQUH0D9fS7AdGP-ZdQqkJTNXXSfCwbLTwmrpSYiRM-8y0Vv5uvHR0VklT05_y9M61nc8Pq2pT4CjAtFr1yRoZ9UwVcq2degsPJrUBkclyileXXvKXP6T1PZS-w-AYxM4S9Af6vzNvbOeu1ukC5-Zw1gbXpihs_H4iQ99C6Dt8VeM2PYjwrtvVq9fhARavdIYHVuT1u1g==&p=12&fvj=0&vjs=3\n",
      "https://indeed.com/pagead/clk?mo=r&ad=-6NYlbfkN0AuWpd06JaTHFjvTB_5q6-0gBNCyrzTNez_CNw5GfFr-YeB3E5TQjGgRpROSxApPasvEyGu6xYO_RjnsVViYM_RC_YRdIzQASduIeOMq7024oBUw4L_qaRuX3bMlcP1jkw0neA20b3O0nyiqQU-e3QkZE6FsxNFkbN2kU8WI0Ez6p4Di509oyGhVD6fPdOjEEn0Nl3gxrrg4khupNTuEUDRDBRszhGtaI09qAuccrZyJZi3_mmQD0BP-NETCnJReEtUw6MhJG1LpxF2l8JkoMWo7ueij6sx9jse4IGpAidlAMpzSiFF6U83nbszLRS6P4GmSAtKAC5l7NmUbc6wzxfuU8iwNmsNfXjwMLdC_8AtPV9nbVJqEl-33rRFsQMBg61JXdoIv8W1nyntkWvxnjIBlAyr6izo-c65_UuSP5kvIBnbsPOqbAaPV8TCdaGcN4favn8K9rucHTpbUtI_BTGBhBgaYAd5QK4AlM8XbuLRtLWvUSuE6lFKARzgP0gaO-IfqzbQB7gcglPm1mtl-MoOaZanoOQvns-h4XhPcjwre0Rryy9cllYL0By4mZUYv4J7o6yzgJfiFxsEOervNHjg2yBGGcRU13s5x0JP3Cd2BWRvhEGShXGVv5mK8oPIbhrsT23neZtBOC-cVS73mlKeuHa2Rp4XO04ygPgBJrh5RUAZDNCI0nTsT4ghsL5DyN5xNM6kKSw29ZfT3JPNGVELWtY_knxryKMhM6AmVKl7IxwveyaiAzIzzllErVpO0dTy0FxVMMm74qr8fcEqfQkVAJplLn7BiNbTujBqNtWrdfcrAR63-Q4l_WZHN_vbUsIADun2Kj4Ypg==&p=13&fvj=0&vjs=3\n",
      "https://indeed.com/pagead/clk?mo=r&ad=-6NYlbfkN0AuWpd06JaTHFjvTB_5q6-0gBNCyrzTNez_CNw5GfFr-YeB3E5TQjGgRpROSxApPasLFG1Nqt-EhPxv2qRhe87W_QUVmJNtxpOw2iX6mBiTLD41JYQh0FbFRxIL_evwsENrHJxnTdxmcKItiF6UE57GKG8b5oFru-dMrnCAff_OsqNkD9uc0Y_I5cc1L0CcYjmRNdnkqD5xFF1ICTcBcIcGRlSfztgoW9sj_Ji232sE1pbYkufoHs41RbKJmOQjXrcZsMqnR6-3WXfuowEtIZ0AGphZbn-nXq1xTHIzAXXQz_GM_bnOyb-czYsVH939V9l0xlkMhNajyZTSkJ1QF_uyulHfkaPjFQMmAEOgvuv2GTmYUE_BbF0p1ihM4pIjkFSe7xtKJ97TfMJOCHZ_sRjNdaeCL_hzQmW4EpXjOaNDynMdMQBVlCp9MP5PQduX1ZaOj3wFj9jajZh9KXgZE3qO6opreTb6ynhcVJpJrhIGiRqfE5INkI-d4WtjNAalUsKfDFRnK8gEism6-abrZ3nRrqULxH2Rgtk-DhJOsJSlt0X115ee-7f3V9I80TKCETPp0N__1UIeOsTzxlX133riVtO1x9fE6Ae831TamUBQ6trrUI-QNvDBkg7w3WQHR2dZ6by1xAfg5BJss7Z6pg4H9AYJrug_MtYqp5qNOhBCfoBUVNFvec9PbRfehnCctoOmVWG4STu13sjjouwVrAclVZhXo0QptDAOq-z-CuhkX-fxNFOo-HY1s5H3TyhB3TValZJXxbPR2yr5YKpZXJOSXaadq-dtgwrL3mRdzJ0oQxsdf_HEC7qe9dTmtz0FQYiVEnuwwxv8rBbc9r0gZy3dyWVQ5NAgxlZPjhkh_1UNUg==&p=14&fvj=0&vjs=3\n",
      "59 was inserted.\n",
      "114 was inserted.\n",
      "208 was inserted.\n",
      "312 was inserted.\n"
     ]
    }
   ],
   "source": [
    "#testing out insertion into database\n",
    "\n",
    "\n",
    "# links=get_result_pages('data analyst')\n",
    "# job_title,companies,requirements,responsibilities=get_each_page_info(links,'data analyst')\n",
    "# insert_job_info(mydb,job_title,responsibilities,requirements,companies)"
   ]
  },
  {
   "cell_type": "markdown",
   "metadata": {},
   "source": [
    "4. Retrieving data and creating tokens out of them\n",
    "\n",
    "In this example, I am retrieving and tokenising requirements data."
   ]
  },
  {
   "cell_type": "code",
   "execution_count": 6,
   "metadata": {},
   "outputs": [],
   "source": [
    "#retrieve requirements from database for processing, joined together as sentences\n",
    "def retrieve_requirements(mydb,job_title):\n",
    "    mycursor = mydb.cursor()\n",
    "    sql = (\"select requirement from requirements where job_name=%s\")\n",
    "    mycursor.execute(sql, (job_title,))\n",
    "    requirements = mycursor.fetchall()\n",
    "    req_new=[requirement[0] for requirement in requirements]\n",
    "    req_joined='.'.join(req_new)\n",
    "    return req_joined"
   ]
  },
  {
   "cell_type": "code",
   "execution_count": 7,
   "metadata": {},
   "outputs": [
    {
     "data": {
      "text/plain": [
       "'Ability to communicate effectively both verbally and in writing.Ability to conceptualize, write and present market views to management.Ability to handle and navigate uncertain environments because much of what Advisory Solutions team deals with are projects and initiatives that the market has not seen before.Ability to manage multiple projects at the same time in a fast-paced environment..Ability to multi-task and work well under pressure with commitment to deliver under tight deadlines and drive initiatives to completion effectively..Ability to multitask and work in a fast-paced environment under tight deadlines..Ability to quickly analyse / reconcile large amounts of data within determined parameters.Ability to screen cases.Ability to think objectively and \\'think outside the box\\' when analyzing issues.Ability to think objectively and \\'think outside the box\\' when analyzing issues.Ability to work alone as well as in a team.Ability to work independently and a good team player.Able to autonomously and effectively in a fast paced and evolving environment.Able to create visualizations of the data with business intelligence and analytics tools..Able to create visualizations of the data with business intelligence and analytics tools..Able to learn fast , multi-task and cope with changes in a fast-paced environment.Able to multi-task and cope with change and diversity in a fast-paced environment.Able to multi-task and cope with change and diversity in a fast-paced environment.Able to multi-task and cope with change and diversity in a fast-paced environment.Able to multi-task with good time manangement skills.Able to work independently and as a member of a team.Able to work independently and in a team-oriented environment..Able to work independently and in a team-oriented environment..Able to work under pressure.Acquire knowledge on the bank\\'s Business Continuity Management (BCM) programme, including risk and impact assessment, business continuity planning, strategy development, testing and exercises..Acquire other communications professional skills.Active participation in building and fine tuning pocesses with automation, leveraging on productivity tools.Adaptability.Application of data software skills.Application of knowledge of product.Appreciation of Governance frameworks and their purpose.Aptitude to learn new technologies as they are incorporated into the system.Are numerate and comfortable with spreadsheet modelling.Attention to details.Automation & RPA.BA/BS/BBA Undergraduates with a minimum of six (6) months working experience.Bachelor degree with a minimum of 3 years marketing experience.Basic business intellience data domain knowledge.Basic knowledge of end of end financial crime management at the end of the duration with focus on financial crime investigation..Basic to intermediate IT infrastructure knowledge, in area of network and system design, setup and operation support.Block leave governance.BS in Computer Science, Information Technology, Analytics, Business Administration, Statistics or a related field.Building & gaining the foundation knowledge.Building strategic alliance internally and externally.Business / Finance / Accounting qualifications preferred..Business Acumen.Can-do attitude and able to work independently, comfortable with ambiguity.Capable of conducting secondary market and industry research.Change management.Communications.Comprehensive knowledge of Credit products.Control & Industrialization.Control Room Operations..Credit Risk covering Basel 3 and IFRS9.Credit Risk Management.Critical Thinking.Cross-border collaboration.Cybersecurity aspects and its application in IT Setup in application system and infrastructure..Data Accuracy and Validation.Data Analysis.Data analysis.Data analytics from a financial crime perspective..Data visualization and representation.Degree holder.Degree holder majoring in Business, Finance or equivalent professional certifications with relevant experience in a financial institution, holder of FRM/PRM will have an advantage.Degree holder majoring in computer science or equivalent professional certifications with relevant experience in programming, applicant familiar with SAS language will have an advantage.Degree holder with at least 8 to 10 years of relevant experience in Banking / Finance Industry.Degree in accountancy or professional accountancy qualification is preferred.Degree in Business / IT / Analytics or related disciplines.Degree in Business/Engineering/Data Analytics/Business Analytics.Degree in Computer Science, Engineering or a related subject or relevant experience.Degree in Computer Science, Information Systems, Statistics, Mathematics or equivalent Strong programming experience in SQL, R, Python etc..Degree in Computer Science, Statistics, Analytics or equivalent..Degree in Computer Science/Information Systems or equivalent..Degree in Engineering, Computer Science, Statistics, Analytics or equivalent..Degree in Insurance/ Actuarial Science would be a bonus but not a requirement.Demonstrated ability to communicate complex technical concepts to non-technical audiences.Detailed and meticulous qualities are essential..Develop an entrepreneurial mindset.Develop sector specific domain expertise.Development and configuration.Diligence.Domain expertise on trading platforms.Domain expertise on trading platforms.Domain expertise on trading platforms.Domain Knowledge on Retail and Wealth Management.Education Level: Bachelor\\'s Degree.Enhance and build the foundation of KYC/CDD.Enhance editorial and writing skills.Enjoy and highly sensitive to numbers plus have strong interest in data transformation, from raw data into live information object.Enterprise Stress Testing Domain Knowledge on Retail and Wealth Management Financial Planning and Analytics Credit Risk covering Basel 3 and IFRS9.Excel and Powerpoint experience.Excellent communication and interpersonal skills.Excellent communications skills and the ability to influence internal and external stakeholders to meet business goals..Excellent Excel skills, including using macros/VBA.Excellent numeric and analytical skills with an eye for details and an inquisitive mind that enjoys probing data and solving problems.Excellent stakeholder management, written and verbal communication skills.Excellent verbal/written communication and interpersonal skills.Excellent written and verbal communication skills..Excited and passionate about digital technologies, and its ability to change significantly the way we live..Experience in any of the following is a plus..Experience in R studio, Python, data modeling, and hypothesis testing is a plus.Experience integrating a variety of data sources, methods, and applications to achieve specific objectives.Experience with big data technologies such as Spark is a plus..Experience with the development of online databases would be an advantage..Experience working with languages such as SQL, R, Python and.Experience working with SQL coding across standard commercial databases, statistics tools (e.g., Python) and data visualisation tool (e.g., Tableau, Datastudio).Exposure on how to review the company\\'s financial position.Exposure to the relevant process/ controls surrounding product governance oversight for compliance with regulations and Group standards, identification & monitoring of Operational Risk and compliance risk within the business unit level..Familiar with data analytic tools like Power BI and Grafana.Familiar with data visualization tools e.g. Power BI, Tableau etc..Familiar with oil/gas/chemical trade flows.Familiar with Phyton, Power BI and C++ etc softwares.Familiar with Search Engine Optimisation, Content Creation, Adobe Illustrator, Adobe Photoshop, Sketch App, XD Design, and/or other design software.Field of Studies: Data Science / Analytics.Financial Planning and Analytics.Finding solutions for investment products.First-hand experience in developing product features, from idea/concept to commercialization..Fluent in English with strong communication skills (both written and verbal).Fresh graduate or 1 year working experience.Gain a strong understanding of real time data capabilities in financial services and how the Bank can differentiate in the competitive industry.Gain experience with relational databases and record keeping.Gain foundational knowledge on financial markets.Gain foundational knowledge on technical aspects of the systems.Gain knowledge on AML Policy.Gain product and hands-on training on FM Commodities across Sales, Trading, Structuring.Gain Product Training.Gain trainings from operational and control functions.Good collaboration and communication skills to work effectively across teams and partner with business stakeholders.Good communication and interpersonal skills..Good communication skills and self-motivated.Good communicator; experienced in producing quality Powerpoint presentations quickly.Good degree in statistics or related discipline.Good interpersonal and communication skills with all levels.Good knowledge of consumer banking landscape with awareness of emerging product innovation to meet customer needs.Good knowledge of digital marketing strategies.Good knowledge of Microsoft PowerPoint and Excel (pivot tables)..Good knowledge of power applications.Good knowledge on testing practices and testing experience in retail banking applications such as core banking applications, branch teller applications, self-service banking applications, internet and mobile banking applications, mobile & digital payment solutions, as well as in using test automatio.Good knowledge/understanding of retail operation processess & system capabilities/functionalities.Good Presentation skills.Good statistics, data science, operation research, decision science or equivalent skill/knowledge..Good team player with a positive attitude to work..Good understanding of and experience with various roles in software development life cycle.Good understanding of machine learning and deep learning algorithms and experience with open-source libraries such as TensorFlow, Keras, Pytorch, Scikit-Learn etc..Good verbal and written communication skills.Hands-on skills in documenting and communicating business requirements via user stories.Has good presentation skills.Has great attention to details and follow-up.Has strong communication skills to interact with different stakeholders.Has strong Excel/VBA skills/PowerPoint preferred.Have good mathematical and statistical skills, with good computer science knowledge/ coding ability..Have good mathematical and statistical skills, with good computer science knowledge/ coding ability..Help in gathering constraints and deriving objective functions from end users in defining optimization models..Help in gathering of data and transforming data into optimization models for running the models..High Proficiency in MS PowerPoint and Excel.Highly analytical with ability to deliver complex analysis, reconciliation and reports.Highly proficient in the use of Microsoft Excel.Hold at least a bachelor’s degree in business management, economics, engineering, marketing, finance or similar, and graduated at the Second Upper / Honours (Distinction) / Cum Laude level or above..HR policies, employee benefits and Employment Act.Inquisitive and possess positive learning attitude.Intellectual curiosity and stamina for research.Interest in statistical and data analysis work.Interest in the digital media and the technology landscape,.Interpersonal awareness.Interpersonal skills.Interpersonal skills.Interpersonal skills.Interpersonal Skills.Interpersonal skills.Introduction to Bank, Bridge and HR systems.Introduction to financial information platforms. Data extraction and visualisation..Introduction to tableau.Is numeric and enjoy data analysis.Is organized with strong analytic ability, a team player and able to multitask.Knowledge and passion in emerging technologies such as artificial intelligence, blockchain and analytics will be beneficial.Knowledge of basic programming languages a plus.Knowledge of CCIB businesses spanning Client Coverage, Financial Markets, Transaction Banking, Corporate Finance, etc. and their products.Knowledge of CCIB processes and relevant governance frameworks\".Knowledge of company\\'s financial month end closing process.Knowledge of financial markets & electronic & voice FX options desks.Knowledge of financial markets & electronic rates.Knowledge of financial markets & quant.Knowledge of key regulation that impact CCIB businesses.Knowledge of visualisation tools and dashboards, such as QlikSense.Knowledge of wealth management.Knowledge on Financial markets.Learn accounting principles required to validate company financial statements.Learning of how to review cashflow position and working with trading teams on cashflow forecast and funding plans.Mainstream media monitoring.Make recommendations to identified risks and/or findings of concerns from investigations..Mapping of IT process workflow.Market Conventions.Market research and/or data analytics.Market Risk Management.Meticulous and able to work with large volume of data.Meticulous and comfortable with managing large amount of data.Meticulous with excellent data analysis skills..Min 5 years of relevant working expereince in system project implementations of retail banking and channel initiatives.Minimum 1 years of experience with hands-on project management experience.Minimum 1-3 years in data analyst position for statistical and predictive analytics as well as quantitative and qualitative analytics including various data-driven business strategy development.Minimum 3 years’ experience in a relevant role..Minimum Bachelor Degree in Computer Science, Engineering, Business, Finance, Accounting, Economics or Statistics with strong interest in market risk management are welcomed to apply..Modelling/Database design skills.Must be a team player.Must be data savvy and love crunching numbers.Must have Business / Finance / Accounting qualifications..Numerically inclined with a strong analytical mind.Organise bank wide Loyalty Service Award event.Other cloud applications, such as O365, and the underlying process to use the services.Planning and organisation skills.Positive hands-on attitude with an aptitude to learning.Positive work attitude and willingness to learn.Possess a strong analytical and problem solving skills with excellent verbal/written communication and interpersonal skills.Possess a strong analytical and problem solving skills with excellent verbal/written communication and interpersonal skills.Possess a strong analytical and problem solving skills with excellent verbal/written communication and interpersonal skills.Possess a strong analytical and problem solving skills; think objectively and \\'think outside the box\\' when analyzing issues.Possess strong project management skill.Possess strong project management skill.Possess strong project management skill.Possess subject matter expertise and good knowledge of retail banking products such as deposits products, unsecured products, credit cards & bank loyalty reward programs and retail investment products, as well as banking services offered at branches, self-service banking and digital channels.Precise Questions and Answers (PQ&A).Preparation of financial models and presentation slides.Presentation skills & Stakeholder management skills.Previous experience in banks, operations or business , or risk management.Prior work experience in the Construction Industry or having a keen interest to improve Construction processes through the use of digital tools will be advantageous..Prior work experience in the Construction Industry or having a keen interest to improve Construction processes through the use of digital tools will be advantageous..Problem solving.Problem Solving and Planning skills.Process improvement.Proficiency in marketing automation systems (like MailChimp) and integrating these systems with other technologies.Proficiency in MS Excel and MS PowerPoint are required. Knowledge of VBA and Access is preferred..Proficiency in MS Office - Excel (e.g. pivot tables, v-lookup, formulas), PowerPoint.Proficiency in programming languages such as SAS, Python or R will be an added advantage.Proficient in business intelligence tools and data warehouse i.e. SQL, Power BI/ Tableau, and advanced Microsoft Excel (VBA, power pivots) skills.Proficient in Microsoft Office, especially Microsoft Excel.Proficient in the use of Microsoft Excel and Access.Proficient in the use of Microsoft Excel and Access.Proficient in the use of Microsoft Excel and Powerpoint.Proficient in the use of Microsoft Excel and Qliksense (preferable).Programming skills (Python, Machine Language, Meta Trader 4, SQL, Cloud apps).Project Management skills.Project Management skills.Public relations.Pursuing University/Tertiary qualifications in computer science, data analytics, engineering or related field.Qualification in Business, Art and Social Sciences, Humanities or related disciplines.Qualification in Marketing or equivalent.Quantitative aptitude (statistics).Quantitative skills (empirical finance, portfolio optimization)..Report writing.Research and data analysis.Review of specialised areas such as trade and financial market.Risk management.Self-starter with strong oral and written communication skills.Self-starter, resourceful, meticulous, responsive, sense of commitment and willing to learn.Social media marketing/monitoring.Sound knowledge in product and performance marketing, with a good track record of delivering business KPIs..Specialised in Computer Science or Business Analytics or relevant practical experience.Strategic thinking.Strong analytical and presentation skills, meticulous, possess drive and initiative.Strong analytical and statistical analysis skills in order to extract insights and recommendations.Strong analytical mind – able to translate data into actionable insights in the simplest and concise fashion, have an eye for details, and ask “what does this mean?” of the data provided..Strong analytical skills.Strong analytical skills (including mastery of Microsoft Excel) and experience with reporting and data analysis.Strong analytical skills with eye for detail and number.Strong analytical skills, meticulous, proactive and able to think independently and creatively..Strong Business Acumen.Strong in organizational skills.Strong in statistics/numbers..Strong sense for timing and meet tight deadlines.Strong team player with effective communication and interpersonal skills, with good ability to work independently.Strong understanding of Firebase.Support in developing sector investment thesis.Supporting implementation of BCM programme across multiple units in the bank.Take part in research ideation process and data support.Team player and positive attitude to learning..Team player with ability to work in fast pace environment.Team player, self-motivated and resourceful.Team player, self-motivated and resourceful.Team player, self-motivated and resourceful.Team player, self-motivated and resourceful, with strong sense of accountability and ownership.Tech savvy and familiar with internet banking, mobile applications and digitial solutions.Technical programming skills.Technical skills.Technical skills on data analytics and risk management.Technically capable, excellent communicator, and a desire to improve processes.To communicate relevant information clearly and effectively to all stake holders.Traineeship duration: .Trustworthy, reliable , responsible & hardworking..Undergraduate are welcome to apply.Understand end to end lifecycle of agile software development from ideation to implementation.Understand Microsoft and Linux platform.Understanding of compliance processes and policies in the Bank.Understanding of the business.Understanding the financial crime compliance internal policies and processes.Understanding the product and business workings in the Bank.Understanding the role of finance in a commodities trading company.Understanding the wealth management business.Understanding the wealth management business.Understanding trade finance and distribution.Understanding Trust, Data and resilience teams within the bank.University degree.User experience.User Management skills.Uses of the various hosting platforms, including Government Commercial Cloud, on premise, Government Data Center, etc.Vendor management.Well-versed with MS Office, such as Word, Excel and PowerPoint.Wellness programs.Willingness to learn, and attention to details.Work with countries representatives of schedulers and business operations experts to derive requirements and use cases of optimization applications..Work with specialists within team and R&D experts or vendors to realize the optimization models deliverable to maximize benefits for the business..Working knowledge to translate requirements'"
      ]
     },
     "execution_count": 7,
     "metadata": {},
     "output_type": "execute_result"
    }
   ],
   "source": [
    "#test\n",
    "retrieve_requirements(mydb,'data analyst')"
   ]
  },
  {
   "cell_type": "code",
   "execution_count": 423,
   "metadata": {},
   "outputs": [],
   "source": [
    "#retrieve job types from database for processing\n",
    "def retrieve_job_types(mydb,job_title):\n",
    "    mycursor = mydb.cursor()\n",
    "    sql = (\"select job_title from job_titles where job_name=%s\")\n",
    "    mycursor.execute(sql,(job_title,))\n",
    "    job_titles = mycursor.fetchall()\n",
    "    req_new=[job_title[0] for job_title in job_titles]\n",
    "    req_joined='.'.join(req_new)\n",
    "    return req_joined"
   ]
  },
  {
   "cell_type": "code",
   "execution_count": 8,
   "metadata": {},
   "outputs": [
    {
     "name": "stderr",
     "output_type": "stream",
     "text": [
      "C:\\Users\\acer\\anaconda3\\lib\\site-packages\\gensim\\utils.py:1197: UserWarning: detected Windows; aliasing chunkize to chunkize_serial\n",
      "  warnings.warn(\"detected Windows; aliasing chunkize to chunkize_serial\")\n"
     ]
    }
   ],
   "source": [
    "#retrieving requirements for data analyst from database\n",
    "text = retrieve_requirements(mydb,'data analyst')\n",
    "#creating tokens from the requirements\n",
    "from gensim.parsing.preprocessing import remove_stopwords\n",
    "from nltk.tokenize import word_tokenize\n",
    "\n",
    "filtered_sentence=remove_stopwords(text)\n",
    "tokens=word_tokenize(filtered_sentence)\n",
    "words=[token.lower() for token in tokens if token.isalpha()]"
   ]
  },
  {
   "cell_type": "code",
   "execution_count": 9,
   "metadata": {},
   "outputs": [
    {
     "name": "stdout",
     "output_type": "stream",
     "text": [
      "['ability', 'communicate', 'effectively', 'verbally', 'conceptualize', 'write', 'present', 'market', 'views', 'handle', 'navigate', 'uncertain', 'environments', 'advisory', 'solutions', 'team', 'deals', 'projects', 'initiatives', 'market', 'seen', 'manage', 'multiple', 'projects', 'time', 'environment', 'ability', 'work', 'pressure', 'commitment', 'deliver', 'tight', 'deadlines', 'drive', 'initiatives', 'completion', 'effectively', 'ability', 'multitask', 'work', 'environment', 'tight', 'deadlines', 'ability', 'quickly', 'analyse', 'reconcile', 'large', 'amounts', 'data', 'determined', 'screen', 'think', 'objectively', 'outside', 'box', 'analyzing', 'think', 'objectively', 'outside', 'box', 'analyzing', 'work', 'work', 'independently', 'good', 'team', 'autonomously', 'effectively', 'fast', 'paced', 'evolving', 'create', 'visualizations', 'data', 'business', 'intelligence', 'analytics', 'tools', 'able', 'create', 'visualizations', 'data', 'business', 'intelligence', 'analytics', 'tools', 'able', 'learn', 'fast', 'cope', 'changes', 'cope', 'change', 'diversity', 'cope', 'change', 'diversity', 'cope', 'change', 'diversity', 'good', 'time', 'manangement', 'work', 'independently', 'member', 'work', 'independently', 'environment', 'able', 'work', 'independently', 'environment', 'able', 'work', 'knowledge', 'bank', 'business', 'continuity', 'management', 'bcm', 'programme', 'including', 'risk', 'impact', 'assessment', 'business', 'continuity', 'planning', 'strategy', 'development', 'testing', 'exercises', 'acquire', 'communications', 'professional', 'participation', 'building', 'fine', 'tuning', 'pocesses', 'automation', 'leveraging', 'productivity', 'data', 'software', 'knowledge', 'governance', 'frameworks', 'learn', 'new', 'technologies', 'incorporated', 'numerate', 'comfortable', 'spreadsheet', 'undergraduates', 'minimum', 'months', 'working', 'degree', 'minimum', 'years', 'marketing', 'business', 'intellience', 'data', 'domain', 'knowledge', 'end', 'end', 'financial', 'crime', 'management', 'end', 'duration', 'focus', 'financial', 'crime', 'investigation', 'basic', 'intermediate', 'it', 'infrastructure', 'knowledge', 'area', 'network', 'design', 'setup', 'operation', 'leave', 'computer', 'science', 'information', 'technology', 'analytics', 'business', 'administration', 'statistics', 'related', 'gaining', 'foundation', 'strategic', 'alliance', 'internally', 'finance', 'accounting', 'qualifications', 'preferred', 'business', 'attitude', 'able', 'work', 'independently', 'comfortable', 'conducting', 'secondary', 'market', 'industry', 'knowledge', 'credit', 'room', 'operations', 'credit', 'risk', 'covering', 'basel', 'risk', 'aspects', 'application', 'it', 'setup', 'application', 'infrastructure', 'data', 'accuracy', 'analytics', 'financial', 'crime', 'perspective', 'data', 'visualization', 'holder', 'majoring', 'business', 'finance', 'equivalent', 'professional', 'certifications', 'relevant', 'experience', 'financial', 'institution', 'holder', 'holder', 'majoring', 'science', 'equivalent', 'professional', 'certifications', 'relevant', 'experience', 'programming', 'applicant', 'familiar', 'sas', 'language', 'holder', 'years', 'relevant', 'experience', 'banking', 'finance', 'accountancy', 'professional', 'accountancy', 'qualification', 'business', 'it', 'analytics', 'related', 'computer', 'science', 'engineering', 'related', 'subject', 'relevant', 'computer', 'science', 'information', 'systems', 'statistics', 'mathematics', 'equivalent', 'strong', 'programming', 'experience', 'sql', 'r', 'python', 'etc', 'degree', 'computer', 'science', 'statistics', 'analytics', 'equivalent', 'degree', 'computer', 'systems', 'equivalent', 'degree', 'engineering', 'computer', 'science', 'statistics', 'analytics', 'equivalent', 'degree', 'actuarial', 'science', 'bonus', 'ability', 'communicate', 'complex', 'technical', 'concepts', 'meticulous', 'qualities', 'essential', 'develop', 'entrepreneurial', 'sector', 'specific', 'domain', 'expertise', 'trading', 'expertise', 'trading', 'expertise', 'trading', 'knowledge', 'retail', 'wealth', 'level', 'bachelor', 'build', 'foundation', 'editorial', 'writing', 'highly', 'sensitive', 'numbers', 'plus', 'strong', 'data', 'transformation', 'raw', 'data', 'live', 'information', 'stress', 'testing', 'domain', 'knowledge', 'retail', 'wealth', 'management', 'financial', 'planning', 'analytics', 'credit', 'risk', 'covering', 'basel', 'powerpoint', 'communication', 'interpersonal', 'communications', 'skills', 'ability', 'influence', 'internal', 'external', 'stakeholders', 'meet', 'business', 'goals', 'excellent', 'excel', 'skills', 'including', 'numeric', 'analytical', 'skills', 'eye', 'details', 'inquisitive', 'mind', 'enjoys', 'probing', 'data', 'solving', 'stakeholder', 'management', 'written', 'verbal', 'communication', 'communication', 'interpersonal', 'written', 'verbal', 'communication', 'skills', 'excited', 'passionate', 'digital', 'technologies', 'ability', 'change', 'significantly', 'way', 'live', 'experience', 'following', 'plus', 'experience', 'r', 'studio', 'python', 'data', 'modeling', 'hypothesis', 'testing', 'integrating', 'variety', 'data', 'sources', 'methods', 'applications', 'achieve', 'specific', 'big', 'data', 'technologies', 'spark', 'plus', 'experience', 'development', 'online', 'databases', 'advantage', 'experience', 'working', 'languages', 'sql', 'r', 'python', 'working', 'sql', 'coding', 'standard', 'commercial', 'databases', 'statistics', 'tools', 'python', 'data', 'visualisation', 'tool', 'tableau', 'datastudio', 'review', 'company', 'financial', 'relevant', 'controls', 'surrounding', 'product', 'governance', 'oversight', 'compliance', 'regulations', 'group', 'standards', 'identification', 'monitoring', 'operational', 'risk', 'compliance', 'risk', 'business', 'unit', 'level', 'familiar', 'data', 'analytic', 'tools', 'like', 'power', 'bi', 'data', 'visualization', 'tools', 'power', 'bi', 'tableau', 'etc', 'familiar', 'trade', 'phyton', 'power', 'bi', 'search', 'engine', 'optimisation', 'content', 'creation', 'adobe', 'illustrator', 'adobe', 'photoshop', 'sketch', 'app', 'xd', 'design', 'design', 'studies', 'data', 'science', 'planning', 'solutions', 'investment', 'experience', 'developing', 'product', 'features', 'commercialization', 'fluent', 'english', 'strong', 'communication', 'skills', 'both', 'written', 'verbal', 'graduate', 'year', 'working', 'strong', 'understanding', 'real', 'time', 'data', 'capabilities', 'financial', 'services', 'bank', 'differentiate', 'competitive', 'experience', 'relational', 'databases', 'record', 'foundational', 'knowledge', 'financial', 'foundational', 'knowledge', 'technical', 'aspects', 'knowledge', 'aml', 'product', 'training', 'fm', 'commodities', 'sales', 'trading', 'product', 'trainings', 'operational', 'control', 'collaboration', 'communication', 'skills', 'work', 'effectively', 'teams', 'partner', 'business', 'communication', 'interpersonal', 'skills', 'good', 'communication', 'skills', 'communicator', 'experienced', 'producing', 'quality', 'powerpoint', 'presentations', 'degree', 'statistics', 'related', 'interpersonal', 'communication', 'skills', 'knowledge', 'consumer', 'banking', 'landscape', 'awareness', 'emerging', 'product', 'innovation', 'meet', 'customer', 'knowledge', 'digital', 'marketing', 'knowledge', 'microsoft', 'powerpoint', 'excel', 'pivot', 'tables', 'good', 'knowledge', 'power', 'knowledge', 'testing', 'practices', 'testing', 'experience', 'retail', 'banking', 'applications', 'core', 'banking', 'applications', 'branch', 'teller', 'applications', 'banking', 'applications', 'internet', 'mobile', 'banking', 'applications', 'mobile', 'digital', 'payment', 'solutions', 'test', 'retail', 'operation', 'processess', 'presentation', 'statistics', 'data', 'science', 'operation', 'research', 'decision', 'science', 'equivalent', 'good', 'team', 'player', 'positive', 'attitude', 'work', 'good', 'understanding', 'experience', 'roles', 'software', 'development', 'life', 'understanding', 'machine', 'learning', 'deep', 'learning', 'algorithms', 'experience', 'libraries', 'tensorflow', 'keras', 'pytorch', 'etc', 'good', 'verbal', 'written', 'communication', 'skills', 'documenting', 'communicating', 'business', 'requirements', 'user', 'good', 'presentation', 'great', 'attention', 'details', 'strong', 'communication', 'skills', 'interact', 'different', 'strong', 'good', 'mathematical', 'statistical', 'skills', 'good', 'science', 'coding', 'ability', 'have', 'good', 'mathematical', 'statistical', 'skills', 'good', 'science', 'coding', 'ability', 'help', 'gathering', 'constraints', 'deriving', 'objective', 'functions', 'end', 'users', 'defining', 'optimization', 'models', 'help', 'gathering', 'data', 'transforming', 'data', 'optimization', 'models', 'running', 'models', 'high', 'proficiency', 'ms', 'powerpoint', 'analytical', 'ability', 'deliver', 'complex', 'analysis', 'reconciliation', 'proficient', 'use', 'microsoft', 'bachelor', 's', 'degree', 'business', 'management', 'economics', 'engineering', 'marketing', 'finance', 'similar', 'graduated', 'second', 'upper', 'honours', 'distinction', 'cum', 'laude', 'level', 'above', 'hr', 'policies', 'employee', 'benefits', 'employment', 'possess', 'positive', 'learning', 'curiosity', 'stamina', 'statistical', 'data', 'analysis', 'digital', 'media', 'technology', 'landscape', 'bank', 'bridge', 'hr', 'financial', 'information', 'platforms', 'data', 'extraction', 'visualisation', 'introduction', 'numeric', 'enjoy', 'data', 'organized', 'strong', 'analytic', 'ability', 'team', 'player', 'able', 'passion', 'emerging', 'technologies', 'artificial', 'intelligence', 'blockchain', 'analytics', 'basic', 'programming', 'languages', 'ccib', 'businesses', 'spanning', 'client', 'coverage', 'financial', 'markets', 'transaction', 'banking', 'corporate', 'finance', 'etc', 'ccib', 'processes', 'relevant', 'governance', 'frameworks', 'company', 'financial', 'month', 'end', 'closing', 'financial', 'markets', 'electronic', 'voice', 'fx', 'options', 'financial', 'markets', 'electronic', 'financial', 'markets', 'key', 'regulation', 'impact', 'ccib', 'visualisation', 'tools', 'dashboards', 'wealth', 'financial', 'accounting', 'principles', 'required', 'validate', 'company', 'financial', 'review', 'cashflow', 'position', 'working', 'trading', 'teams', 'cashflow', 'forecast', 'funding', 'media', 'recommendations', 'identified', 'risks', 'findings', 'concerns', 'investigations', 'mapping', 'it', 'process', 'research', 'data', 'risk', 'able', 'work', 'large', 'volume', 'comfortable', 'managing', 'large', 'excellent', 'data', 'analysis', 'skills', 'min', 'years', 'relevant', 'working', 'expereince', 'project', 'implementations', 'retail', 'banking', 'channel', 'years', 'experience', 'project', 'management', 'years', 'data', 'analyst', 'position', 'statistical', 'predictive', 'analytics', 'quantitative', 'qualitative', 'analytics', 'including', 'business', 'strategy', 'years', 'experience', 'relevant', 'role', 'minimum', 'bachelor', 'degree', 'computer', 'science', 'engineering', 'business', 'finance', 'accounting', 'economics', 'statistics', 'strong', 'market', 'risk', 'management', 'welcomed', 'apply', 'design', 'team', 'data', 'savvy', 'love', 'crunching', 'business', 'finance', 'accounting', 'qualifications', 'numerically', 'inclined', 'strong', 'analytical', 'bank', 'wide', 'loyalty', 'service', 'award', 'cloud', 'applications', 'underlying', 'process', 'use', 'organisation', 'attitude', 'aptitude', 'work', 'attitude', 'willingness', 'strong', 'analytical', 'problem', 'solving', 'skills', 'excellent', 'communication', 'interpersonal', 'strong', 'analytical', 'problem', 'solving', 'skills', 'excellent', 'communication', 'interpersonal', 'strong', 'analytical', 'problem', 'solving', 'skills', 'excellent', 'communication', 'interpersonal', 'strong', 'analytical', 'problem', 'solving', 'skills', 'think', 'objectively', 'outside', 'box', 'analyzing', 'strong', 'project', 'management', 'strong', 'project', 'management', 'strong', 'project', 'management', 'subject', 'matter', 'expertise', 'good', 'knowledge', 'retail', 'banking', 'products', 'deposits', 'products', 'unsecured', 'products', 'credit', 'cards', 'bank', 'loyalty', 'reward', 'programs', 'retail', 'investment', 'products', 'banking', 'services', 'offered', 'branches', 'banking', 'digital', 'questions', 'answers', 'pq', 'a', 'financial', 'models', 'presentation', 'skills', 'stakeholder', 'management', 'experience', 'banks', 'operations', 'business', 'risk', 'work', 'experience', 'construction', 'industry', 'having', 'keen', 'improve', 'construction', 'processes', 'use', 'digital', 'tools', 'advantageous', 'prior', 'work', 'experience', 'construction', 'industry', 'having', 'keen', 'improve', 'construction', 'processes', 'use', 'digital', 'tools', 'advantageous', 'problem', 'solving', 'planning', 'marketing', 'automation', 'systems', 'like', 'mailchimp', 'integrating', 'systems', 'ms', 'excel', 'ms', 'powerpoint', 'required', 'knowledge', 'vba', 'access', 'preferred', 'proficiency', 'ms', 'office', 'excel', 'pivot', 'tables', 'formulas', 'programming', 'languages', 'sas', 'python', 'r', 'added', 'business', 'intelligence', 'tools', 'data', 'warehouse', 'sql', 'power', 'tableau', 'advanced', 'microsoft', 'excel', 'vba', 'power', 'pivots', 'microsoft', 'office', 'especially', 'microsoft', 'use', 'microsoft', 'excel', 'use', 'microsoft', 'excel', 'use', 'microsoft', 'excel', 'use', 'microsoft', 'excel', 'qliksense', 'preferable', 'skills', 'python', 'machine', 'language', 'meta', 'trader', 'sql', 'cloud', 'apps', 'management', 'management', 'qualifications', 'science', 'data', 'analytics', 'engineering', 'related', 'business', 'art', 'social', 'sciences', 'humanities', 'related', 'marketing', 'aptitude', 'statistics', 'skills', 'empirical', 'finance', 'portfolio', 'optimization', 'report', 'data', 'specialised', 'areas', 'trade', 'financial', 'strong', 'oral', 'written', 'communication', 'resourceful', 'meticulous', 'responsive', 'sense', 'commitment', 'willing', 'media', 'knowledge', 'product', 'performance', 'marketing', 'good', 'track', 'record', 'delivering', 'business', 'kpis', 'specialised', 'computer', 'science', 'business', 'analytics', 'relevant', 'practical', 'analytical', 'presentation', 'skills', 'meticulous', 'possess', 'drive', 'analytical', 'statistical', 'analysis', 'skills', 'order', 'extract', 'insights', 'analytical', 'mind', 'able', 'translate', 'data', 'actionable', 'insights', 'simplest', 'concise', 'fashion', 'eye', 'details', 'ask', 'what', 'mean', 'data', 'provided', 'strong', 'analytical', 'analytical', 'skills', 'including', 'mastery', 'microsoft', 'excel', 'experience', 'reporting', 'data', 'analytical', 'skills', 'eye', 'analytical', 'skills', 'meticulous', 'proactive', 'able', 'think', 'independently', 'creatively', 'strong', 'business', 'organizational', 'strong', 'sense', 'timing', 'meet', 'tight', 'team', 'player', 'effective', 'communication', 'interpersonal', 'skills', 'good', 'ability', 'work', 'understanding', 'developing', 'sector', 'investment', 'implementation', 'bcm', 'programme', 'multiple', 'units', 'research', 'ideation', 'process', 'data', 'player', 'positive', 'attitude', 'learning', 'team', 'player', 'ability', 'work', 'fast', 'pace', 'player', 'player', 'player', 'player', 'resourceful', 'strong', 'sense', 'accountability', 'savvy', 'familiar', 'internet', 'banking', 'mobile', 'applications', 'digitial', 'programming', 'skills', 'data', 'analytics', 'risk', 'capable', 'excellent', 'communicator', 'desire', 'improve', 'communicate', 'relevant', 'information', 'clearly', 'effectively', 'stake', 'duration', 'reliable', 'responsible', 'hardworking', 'undergraduate', 'welcome', 'end', 'end', 'lifecycle', 'agile', 'software', 'development', 'ideation', 'microsoft', 'linux', 'compliance', 'processes', 'policies', 'financial', 'crime', 'compliance', 'internal', 'policies', 'product', 'business', 'workings', 'role', 'finance', 'commodities', 'trading', 'wealth', 'management', 'wealth', 'management', 'trade', 'finance', 'trust', 'data', 'resilience', 'teams', 'management', 'hosting', 'platforms', 'including', 'government', 'commercial', 'cloud', 'premise', 'government', 'data', 'center', 'ms', 'office', 'word', 'excel', 'learn', 'attention', 'countries', 'representatives', 'schedulers', 'business', 'operations', 'experts', 'derive', 'requirements', 'use', 'cases', 'optimization', 'applications', 'work', 'specialists', 'team', 'r', 'd', 'experts', 'vendors', 'realize', 'optimization', 'models', 'deliverable', 'maximize', 'benefits', 'business', 'working', 'knowledge', 'translate', 'requirements']\n"
     ]
    }
   ],
   "source": [
    "print(words)"
   ]
  }
 ],
 "metadata": {
  "kernelspec": {
   "display_name": "Python 3",
   "language": "python",
   "name": "python3"
  },
  "language_info": {
   "codemirror_mode": {
    "name": "ipython",
    "version": 3
   },
   "file_extension": ".py",
   "mimetype": "text/x-python",
   "name": "python",
   "nbconvert_exporter": "python",
   "pygments_lexer": "ipython3",
   "version": "3.7.6"
  }
 },
 "nbformat": 4,
 "nbformat_minor": 4
}
